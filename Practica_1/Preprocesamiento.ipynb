{
  "nbformat": 4,
  "nbformat_minor": 0,
  "metadata": {
    "colab": {
      "provenance": [],
      "authorship_tag": "ABX9TyMaDct48Ge71t4Y7oxPFiqh",
      "include_colab_link": true
    },
    "kernelspec": {
      "name": "python3",
      "display_name": "Python 3"
    },
    "language_info": {
      "name": "python"
    }
  },
  "cells": [
    {
      "cell_type": "markdown",
      "metadata": {
        "id": "view-in-github",
        "colab_type": "text"
      },
      "source": [
        "<a href=\"https://colab.research.google.com/github/Gatiwi93/Machine-Learning/blob/main/Practica_1/Preprocesamiento.ipynb\" target=\"_parent\"><img src=\"https://colab.research.google.com/assets/colab-badge.svg\" alt=\"Open In Colab\"/></a>"
      ]
    },
    {
      "cell_type": "markdown",
      "source": [
        "# Práctica 1"
      ],
      "metadata": {
        "id": "g8qJWSAjZVPZ"
      }
    },
    {
      "cell_type": "markdown",
      "source": [
        "##Load libraries"
      ],
      "metadata": {
        "id": "SJOzEWjAZyUO"
      }
    },
    {
      "cell_type": "code",
      "source": [
        "from sklearn.preprocessing import QuantileTransformer\n",
        "from sklearn.preprocessing import StandardScaler\n",
        "from sklearn.preprocessing import MinMaxScaler\n",
        "from sklearn.preprocessing import OrdinalEncoder\n",
        "from sklearn.preprocessing import LabelEncoder\n",
        "from sklearn.decomposition import PCA\n",
        "import matplotlib.pyplot as plt\n",
        "import pandas as pd\n",
        "import numpy as np"
      ],
      "metadata": {
        "id": "mhxdn8RtZr1Z"
      },
      "execution_count": 3,
      "outputs": []
    },
    {
      "cell_type": "code",
      "source": [
        "from google.colab import drive\n",
        "drive.mount('/content/drive')"
      ],
      "metadata": {
        "colab": {
          "base_uri": "https://localhost:8080/"
        },
        "id": "jD9tFRH7dmVX",
        "outputId": "876ea7c1-b523-4956-8977-5aab4524ee7d"
      },
      "execution_count": 4,
      "outputs": [
        {
          "output_type": "stream",
          "name": "stdout",
          "text": [
            "Drive already mounted at /content/drive; to attempt to forcibly remount, call drive.mount(\"/content/drive\", force_remount=True).\n"
          ]
        }
      ]
    },
    {
      "cell_type": "markdown",
      "source": [
        "##Load Data"
      ],
      "metadata": {
        "id": "7ztNrW-Nderv"
      }
    },
    {
      "cell_type": "code",
      "source": [
        "url = '/content/drive/MyDrive/Recursos-ML/Producción_Cultivos_ProductosGanaderia_S_Todos_los_Datos_NOFLAG.csv'\n",
        "source_data = pd.read_csv(url, encoding='latin1')\n",
        "print(f'Shape: {source_data.shape}')"
      ],
      "metadata": {
        "colab": {
          "base_uri": "https://localhost:8080/"
        },
        "id": "UEnxmuLcdiIV",
        "outputId": "bd01bda2-ff25-46b6-9ac6-e1411b43b478"
      },
      "execution_count": 5,
      "outputs": [
        {
          "output_type": "stream",
          "name": "stdout",
          "text": [
            "Shape: (79606, 71)\n"
          ]
        }
      ]
    },
    {
      "cell_type": "code",
      "source": [
        "source_data.head(1)"
      ],
      "metadata": {
        "colab": {
          "base_uri": "https://localhost:8080/",
          "height": 145
        },
        "id": "CpsiuG_reBS-",
        "outputId": "2d98e098-a278-4fb4-d36c-17499db588be"
      },
      "execution_count": 6,
      "outputs": [
        {
          "output_type": "execute_result",
          "data": {
            "text/plain": [
              "   Código del área Código del área (M49)        Área  Código del producto  \\\n",
              "0                2                  '004  Afganistán                  268   \n",
              "\n",
              "  Código del producto (CPC)                     Producto  Código del elemento  \\\n",
              "0                 '21631.01  Aceite de girasol, en bruto                 5510   \n",
              "\n",
              "     Elemento     Unidad    Y1961  ...   Y2013   Y2014    Y2015    Y2016  \\\n",
              "0  Producción  toneladas  2937.75  ...  137.68  960.46  1035.28  1804.72   \n",
              "\n",
              "     Y2017    Y2018    Y2019    Y2020    Y2021  Y2022  \n",
              "0  3167.46  3198.89  3130.58  2511.67  2013.48    NaN  \n",
              "\n",
              "[1 rows x 71 columns]"
            ],
            "text/html": [
              "\n",
              "  <div id=\"df-3f849e94-8e9d-4b75-97a9-21b5e6ebada1\" class=\"colab-df-container\">\n",
              "    <div>\n",
              "<style scoped>\n",
              "    .dataframe tbody tr th:only-of-type {\n",
              "        vertical-align: middle;\n",
              "    }\n",
              "\n",
              "    .dataframe tbody tr th {\n",
              "        vertical-align: top;\n",
              "    }\n",
              "\n",
              "    .dataframe thead th {\n",
              "        text-align: right;\n",
              "    }\n",
              "</style>\n",
              "<table border=\"1\" class=\"dataframe\">\n",
              "  <thead>\n",
              "    <tr style=\"text-align: right;\">\n",
              "      <th></th>\n",
              "      <th>Código del área</th>\n",
              "      <th>Código del área (M49)</th>\n",
              "      <th>Área</th>\n",
              "      <th>Código del producto</th>\n",
              "      <th>Código del producto (CPC)</th>\n",
              "      <th>Producto</th>\n",
              "      <th>Código del elemento</th>\n",
              "      <th>Elemento</th>\n",
              "      <th>Unidad</th>\n",
              "      <th>Y1961</th>\n",
              "      <th>...</th>\n",
              "      <th>Y2013</th>\n",
              "      <th>Y2014</th>\n",
              "      <th>Y2015</th>\n",
              "      <th>Y2016</th>\n",
              "      <th>Y2017</th>\n",
              "      <th>Y2018</th>\n",
              "      <th>Y2019</th>\n",
              "      <th>Y2020</th>\n",
              "      <th>Y2021</th>\n",
              "      <th>Y2022</th>\n",
              "    </tr>\n",
              "  </thead>\n",
              "  <tbody>\n",
              "    <tr>\n",
              "      <th>0</th>\n",
              "      <td>2</td>\n",
              "      <td>'004</td>\n",
              "      <td>Afganistán</td>\n",
              "      <td>268</td>\n",
              "      <td>'21631.01</td>\n",
              "      <td>Aceite de girasol, en bruto</td>\n",
              "      <td>5510</td>\n",
              "      <td>Producción</td>\n",
              "      <td>toneladas</td>\n",
              "      <td>2937.75</td>\n",
              "      <td>...</td>\n",
              "      <td>137.68</td>\n",
              "      <td>960.46</td>\n",
              "      <td>1035.28</td>\n",
              "      <td>1804.72</td>\n",
              "      <td>3167.46</td>\n",
              "      <td>3198.89</td>\n",
              "      <td>3130.58</td>\n",
              "      <td>2511.67</td>\n",
              "      <td>2013.48</td>\n",
              "      <td>NaN</td>\n",
              "    </tr>\n",
              "  </tbody>\n",
              "</table>\n",
              "<p>1 rows × 71 columns</p>\n",
              "</div>\n",
              "    <div class=\"colab-df-buttons\">\n",
              "\n",
              "  <div class=\"colab-df-container\">\n",
              "    <button class=\"colab-df-convert\" onclick=\"convertToInteractive('df-3f849e94-8e9d-4b75-97a9-21b5e6ebada1')\"\n",
              "            title=\"Convert this dataframe to an interactive table.\"\n",
              "            style=\"display:none;\">\n",
              "\n",
              "  <svg xmlns=\"http://www.w3.org/2000/svg\" height=\"24px\" viewBox=\"0 -960 960 960\">\n",
              "    <path d=\"M120-120v-720h720v720H120Zm60-500h600v-160H180v160Zm220 220h160v-160H400v160Zm0 220h160v-160H400v160ZM180-400h160v-160H180v160Zm440 0h160v-160H620v160ZM180-180h160v-160H180v160Zm440 0h160v-160H620v160Z\"/>\n",
              "  </svg>\n",
              "    </button>\n",
              "\n",
              "  <style>\n",
              "    .colab-df-container {\n",
              "      display:flex;\n",
              "      gap: 12px;\n",
              "    }\n",
              "\n",
              "    .colab-df-convert {\n",
              "      background-color: #E8F0FE;\n",
              "      border: none;\n",
              "      border-radius: 50%;\n",
              "      cursor: pointer;\n",
              "      display: none;\n",
              "      fill: #1967D2;\n",
              "      height: 32px;\n",
              "      padding: 0 0 0 0;\n",
              "      width: 32px;\n",
              "    }\n",
              "\n",
              "    .colab-df-convert:hover {\n",
              "      background-color: #E2EBFA;\n",
              "      box-shadow: 0px 1px 2px rgba(60, 64, 67, 0.3), 0px 1px 3px 1px rgba(60, 64, 67, 0.15);\n",
              "      fill: #174EA6;\n",
              "    }\n",
              "\n",
              "    .colab-df-buttons div {\n",
              "      margin-bottom: 4px;\n",
              "    }\n",
              "\n",
              "    [theme=dark] .colab-df-convert {\n",
              "      background-color: #3B4455;\n",
              "      fill: #D2E3FC;\n",
              "    }\n",
              "\n",
              "    [theme=dark] .colab-df-convert:hover {\n",
              "      background-color: #434B5C;\n",
              "      box-shadow: 0px 1px 3px 1px rgba(0, 0, 0, 0.15);\n",
              "      filter: drop-shadow(0px 1px 2px rgba(0, 0, 0, 0.3));\n",
              "      fill: #FFFFFF;\n",
              "    }\n",
              "  </style>\n",
              "\n",
              "    <script>\n",
              "      const buttonEl =\n",
              "        document.querySelector('#df-3f849e94-8e9d-4b75-97a9-21b5e6ebada1 button.colab-df-convert');\n",
              "      buttonEl.style.display =\n",
              "        google.colab.kernel.accessAllowed ? 'block' : 'none';\n",
              "\n",
              "      async function convertToInteractive(key) {\n",
              "        const element = document.querySelector('#df-3f849e94-8e9d-4b75-97a9-21b5e6ebada1');\n",
              "        const dataTable =\n",
              "          await google.colab.kernel.invokeFunction('convertToInteractive',\n",
              "                                                    [key], {});\n",
              "        if (!dataTable) return;\n",
              "\n",
              "        const docLinkHtml = 'Like what you see? Visit the ' +\n",
              "          '<a target=\"_blank\" href=https://colab.research.google.com/notebooks/data_table.ipynb>data table notebook</a>'\n",
              "          + ' to learn more about interactive tables.';\n",
              "        element.innerHTML = '';\n",
              "        dataTable['output_type'] = 'display_data';\n",
              "        await google.colab.output.renderOutput(dataTable, element);\n",
              "        const docLink = document.createElement('div');\n",
              "        docLink.innerHTML = docLinkHtml;\n",
              "        element.appendChild(docLink);\n",
              "      }\n",
              "    </script>\n",
              "  </div>\n",
              "\n",
              "\n",
              "    </div>\n",
              "  </div>\n"
            ],
            "application/vnd.google.colaboratory.intrinsic+json": {
              "type": "dataframe",
              "variable_name": "source_data"
            }
          },
          "metadata": {},
          "execution_count": 6
        }
      ]
    },
    {
      "cell_type": "code",
      "source": [
        "source_data.tail(1)"
      ],
      "metadata": {
        "colab": {
          "base_uri": "https://localhost:8080/",
          "height": 197
        },
        "id": "mkaU7JyahCom",
        "outputId": "1499bef3-449a-463b-bbad-b90601303008"
      },
      "execution_count": 7,
      "outputs": [
        {
          "output_type": "execute_result",
          "data": {
            "text/plain": [
              "       Código del área Código del área (M49)                      Área  \\\n",
              "79605             5817                  '902  Import netos alim en Des   \n",
              "\n",
              "       Código del producto Código del producto (CPC)         Producto  \\\n",
              "79605                 1746                    'F1746  Vacas y búfalos   \n",
              "\n",
              "       Código del elemento     Elemento  Unidad        Y1961  ...  \\\n",
              "79605                 5111  Existencias  Cabeza  184678287.0  ...   \n",
              "\n",
              "             Y2013        Y2014        Y2015        Y2016        Y2017  \\\n",
              "79605  457089548.0  468137726.0  477840366.0  489005172.0  494048920.0   \n",
              "\n",
              "             Y2018        Y2019        Y2020        Y2021        Y2022  \n",
              "79605  494970628.0  505975948.0  521704826.0  526230912.0  539044583.0  \n",
              "\n",
              "[1 rows x 71 columns]"
            ],
            "text/html": [
              "\n",
              "  <div id=\"df-4ed7f5b8-ebaa-44b1-88dc-6ba9c50d96de\" class=\"colab-df-container\">\n",
              "    <div>\n",
              "<style scoped>\n",
              "    .dataframe tbody tr th:only-of-type {\n",
              "        vertical-align: middle;\n",
              "    }\n",
              "\n",
              "    .dataframe tbody tr th {\n",
              "        vertical-align: top;\n",
              "    }\n",
              "\n",
              "    .dataframe thead th {\n",
              "        text-align: right;\n",
              "    }\n",
              "</style>\n",
              "<table border=\"1\" class=\"dataframe\">\n",
              "  <thead>\n",
              "    <tr style=\"text-align: right;\">\n",
              "      <th></th>\n",
              "      <th>Código del área</th>\n",
              "      <th>Código del área (M49)</th>\n",
              "      <th>Área</th>\n",
              "      <th>Código del producto</th>\n",
              "      <th>Código del producto (CPC)</th>\n",
              "      <th>Producto</th>\n",
              "      <th>Código del elemento</th>\n",
              "      <th>Elemento</th>\n",
              "      <th>Unidad</th>\n",
              "      <th>Y1961</th>\n",
              "      <th>...</th>\n",
              "      <th>Y2013</th>\n",
              "      <th>Y2014</th>\n",
              "      <th>Y2015</th>\n",
              "      <th>Y2016</th>\n",
              "      <th>Y2017</th>\n",
              "      <th>Y2018</th>\n",
              "      <th>Y2019</th>\n",
              "      <th>Y2020</th>\n",
              "      <th>Y2021</th>\n",
              "      <th>Y2022</th>\n",
              "    </tr>\n",
              "  </thead>\n",
              "  <tbody>\n",
              "    <tr>\n",
              "      <th>79605</th>\n",
              "      <td>5817</td>\n",
              "      <td>'902</td>\n",
              "      <td>Import netos alim en Des</td>\n",
              "      <td>1746</td>\n",
              "      <td>'F1746</td>\n",
              "      <td>Vacas y búfalos</td>\n",
              "      <td>5111</td>\n",
              "      <td>Existencias</td>\n",
              "      <td>Cabeza</td>\n",
              "      <td>184678287.0</td>\n",
              "      <td>...</td>\n",
              "      <td>457089548.0</td>\n",
              "      <td>468137726.0</td>\n",
              "      <td>477840366.0</td>\n",
              "      <td>489005172.0</td>\n",
              "      <td>494048920.0</td>\n",
              "      <td>494970628.0</td>\n",
              "      <td>505975948.0</td>\n",
              "      <td>521704826.0</td>\n",
              "      <td>526230912.0</td>\n",
              "      <td>539044583.0</td>\n",
              "    </tr>\n",
              "  </tbody>\n",
              "</table>\n",
              "<p>1 rows × 71 columns</p>\n",
              "</div>\n",
              "    <div class=\"colab-df-buttons\">\n",
              "\n",
              "  <div class=\"colab-df-container\">\n",
              "    <button class=\"colab-df-convert\" onclick=\"convertToInteractive('df-4ed7f5b8-ebaa-44b1-88dc-6ba9c50d96de')\"\n",
              "            title=\"Convert this dataframe to an interactive table.\"\n",
              "            style=\"display:none;\">\n",
              "\n",
              "  <svg xmlns=\"http://www.w3.org/2000/svg\" height=\"24px\" viewBox=\"0 -960 960 960\">\n",
              "    <path d=\"M120-120v-720h720v720H120Zm60-500h600v-160H180v160Zm220 220h160v-160H400v160Zm0 220h160v-160H400v160ZM180-400h160v-160H180v160Zm440 0h160v-160H620v160ZM180-180h160v-160H180v160Zm440 0h160v-160H620v160Z\"/>\n",
              "  </svg>\n",
              "    </button>\n",
              "\n",
              "  <style>\n",
              "    .colab-df-container {\n",
              "      display:flex;\n",
              "      gap: 12px;\n",
              "    }\n",
              "\n",
              "    .colab-df-convert {\n",
              "      background-color: #E8F0FE;\n",
              "      border: none;\n",
              "      border-radius: 50%;\n",
              "      cursor: pointer;\n",
              "      display: none;\n",
              "      fill: #1967D2;\n",
              "      height: 32px;\n",
              "      padding: 0 0 0 0;\n",
              "      width: 32px;\n",
              "    }\n",
              "\n",
              "    .colab-df-convert:hover {\n",
              "      background-color: #E2EBFA;\n",
              "      box-shadow: 0px 1px 2px rgba(60, 64, 67, 0.3), 0px 1px 3px 1px rgba(60, 64, 67, 0.15);\n",
              "      fill: #174EA6;\n",
              "    }\n",
              "\n",
              "    .colab-df-buttons div {\n",
              "      margin-bottom: 4px;\n",
              "    }\n",
              "\n",
              "    [theme=dark] .colab-df-convert {\n",
              "      background-color: #3B4455;\n",
              "      fill: #D2E3FC;\n",
              "    }\n",
              "\n",
              "    [theme=dark] .colab-df-convert:hover {\n",
              "      background-color: #434B5C;\n",
              "      box-shadow: 0px 1px 3px 1px rgba(0, 0, 0, 0.15);\n",
              "      filter: drop-shadow(0px 1px 2px rgba(0, 0, 0, 0.3));\n",
              "      fill: #FFFFFF;\n",
              "    }\n",
              "  </style>\n",
              "\n",
              "    <script>\n",
              "      const buttonEl =\n",
              "        document.querySelector('#df-4ed7f5b8-ebaa-44b1-88dc-6ba9c50d96de button.colab-df-convert');\n",
              "      buttonEl.style.display =\n",
              "        google.colab.kernel.accessAllowed ? 'block' : 'none';\n",
              "\n",
              "      async function convertToInteractive(key) {\n",
              "        const element = document.querySelector('#df-4ed7f5b8-ebaa-44b1-88dc-6ba9c50d96de');\n",
              "        const dataTable =\n",
              "          await google.colab.kernel.invokeFunction('convertToInteractive',\n",
              "                                                    [key], {});\n",
              "        if (!dataTable) return;\n",
              "\n",
              "        const docLinkHtml = 'Like what you see? Visit the ' +\n",
              "          '<a target=\"_blank\" href=https://colab.research.google.com/notebooks/data_table.ipynb>data table notebook</a>'\n",
              "          + ' to learn more about interactive tables.';\n",
              "        element.innerHTML = '';\n",
              "        dataTable['output_type'] = 'display_data';\n",
              "        await google.colab.output.renderOutput(dataTable, element);\n",
              "        const docLink = document.createElement('div');\n",
              "        docLink.innerHTML = docLinkHtml;\n",
              "        element.appendChild(docLink);\n",
              "      }\n",
              "    </script>\n",
              "  </div>\n",
              "\n",
              "\n",
              "    </div>\n",
              "  </div>\n"
            ],
            "application/vnd.google.colaboratory.intrinsic+json": {
              "type": "dataframe"
            }
          },
          "metadata": {},
          "execution_count": 7
        }
      ]
    },
    {
      "cell_type": "code",
      "source": [
        "#Obtiene una lista de los nombres de las columnas del DataFrame\n",
        "source_data.columns"
      ],
      "metadata": {
        "colab": {
          "base_uri": "https://localhost:8080/"
        },
        "id": "lsr8LvhxhJZN",
        "outputId": "b92c00ae-888a-40e4-e197-76dbf26552a5"
      },
      "execution_count": 8,
      "outputs": [
        {
          "output_type": "execute_result",
          "data": {
            "text/plain": [
              "Index(['Código del área', 'Código del área (M49)', 'Área',\n",
              "       'Código del producto', 'Código del producto (CPC)', 'Producto',\n",
              "       'Código del elemento', 'Elemento', 'Unidad', 'Y1961', 'Y1962', 'Y1963',\n",
              "       'Y1964', 'Y1965', 'Y1966', 'Y1967', 'Y1968', 'Y1969', 'Y1970', 'Y1971',\n",
              "       'Y1972', 'Y1973', 'Y1974', 'Y1975', 'Y1976', 'Y1977', 'Y1978', 'Y1979',\n",
              "       'Y1980', 'Y1981', 'Y1982', 'Y1983', 'Y1984', 'Y1985', 'Y1986', 'Y1987',\n",
              "       'Y1988', 'Y1989', 'Y1990', 'Y1991', 'Y1992', 'Y1993', 'Y1994', 'Y1995',\n",
              "       'Y1996', 'Y1997', 'Y1998', 'Y1999', 'Y2000', 'Y2001', 'Y2002', 'Y2003',\n",
              "       'Y2004', 'Y2005', 'Y2006', 'Y2007', 'Y2008', 'Y2009', 'Y2010', 'Y2011',\n",
              "       'Y2012', 'Y2013', 'Y2014', 'Y2015', 'Y2016', 'Y2017', 'Y2018', 'Y2019',\n",
              "       'Y2020', 'Y2021', 'Y2022'],\n",
              "      dtype='object')"
            ]
          },
          "metadata": {},
          "execution_count": 8
        }
      ]
    },
    {
      "cell_type": "code",
      "source": [
        "# Se define una lista que contiene los nombres de las columnas que no se desean incluir en el conjunto de datos final.\n",
        "non_important_features = ['Código del área', 'Código del área (M49)',\n",
        "                          'Código del producto', 'Código del producto (CPC)',\n",
        "                          'Código del elemento']\n",
        "\n",
        "source_data[non_important_features].columns\n",
        "# Devuelve todas las columnas en source_data que no están en la lista non_important_features\n",
        "source_data.columns.difference(non_important_features)\n",
        "# Se crea un nuevo DataFrame llamado data que contiene solo las columnas de source_data que no están en la lista non_important_features\n",
        "data = source_data[source_data.columns.difference(non_important_features)]\n",
        "print(f'Shape: {data.shape}')\n",
        "# Proporciona una lista de las columnas finales que se conservarán en el DataFrame data\n",
        "print(data.columns)"
      ],
      "metadata": {
        "colab": {
          "base_uri": "https://localhost:8080/"
        },
        "id": "ts5kBc6uhMrG",
        "outputId": "6cf015f4-f76e-4587-9414-fa92fa09efba"
      },
      "execution_count": 9,
      "outputs": [
        {
          "output_type": "stream",
          "name": "stdout",
          "text": [
            "Shape: (79606, 66)\n",
            "Index(['Elemento', 'Producto', 'Unidad', 'Y1961', 'Y1962', 'Y1963', 'Y1964',\n",
            "       'Y1965', 'Y1966', 'Y1967', 'Y1968', 'Y1969', 'Y1970', 'Y1971', 'Y1972',\n",
            "       'Y1973', 'Y1974', 'Y1975', 'Y1976', 'Y1977', 'Y1978', 'Y1979', 'Y1980',\n",
            "       'Y1981', 'Y1982', 'Y1983', 'Y1984', 'Y1985', 'Y1986', 'Y1987', 'Y1988',\n",
            "       'Y1989', 'Y1990', 'Y1991', 'Y1992', 'Y1993', 'Y1994', 'Y1995', 'Y1996',\n",
            "       'Y1997', 'Y1998', 'Y1999', 'Y2000', 'Y2001', 'Y2002', 'Y2003', 'Y2004',\n",
            "       'Y2005', 'Y2006', 'Y2007', 'Y2008', 'Y2009', 'Y2010', 'Y2011', 'Y2012',\n",
            "       'Y2013', 'Y2014', 'Y2015', 'Y2016', 'Y2017', 'Y2018', 'Y2019', 'Y2020',\n",
            "       'Y2021', 'Y2022', 'Área'],\n",
            "      dtype='object')\n"
          ]
        }
      ]
    },
    {
      "cell_type": "code",
      "source": [
        "data.head(1)"
      ],
      "metadata": {
        "colab": {
          "base_uri": "https://localhost:8080/",
          "height": 110
        },
        "id": "k9dL1ZgphoUV",
        "outputId": "482bbb49-2e9c-4ea3-941f-17d3c8853bd0"
      },
      "execution_count": 10,
      "outputs": [
        {
          "output_type": "execute_result",
          "data": {
            "text/plain": [
              "     Elemento                     Producto     Unidad    Y1961    Y1962  \\\n",
              "0  Producción  Aceite de girasol, en bruto  toneladas  2937.75  3137.75   \n",
              "\n",
              "     Y1963    Y1964    Y1965    Y1966   Y1967  ...   Y2014    Y2015    Y2016  \\\n",
              "0  3137.75  3137.75  3237.75  3437.75  3438.5  ...  960.46  1035.28  1804.72   \n",
              "\n",
              "     Y2017    Y2018    Y2019    Y2020    Y2021  Y2022        Área  \n",
              "0  3167.46  3198.89  3130.58  2511.67  2013.48    NaN  Afganistán  \n",
              "\n",
              "[1 rows x 66 columns]"
            ],
            "text/html": [
              "\n",
              "  <div id=\"df-57c43856-cbef-4dd5-82dc-fd2e73d29ba9\" class=\"colab-df-container\">\n",
              "    <div>\n",
              "<style scoped>\n",
              "    .dataframe tbody tr th:only-of-type {\n",
              "        vertical-align: middle;\n",
              "    }\n",
              "\n",
              "    .dataframe tbody tr th {\n",
              "        vertical-align: top;\n",
              "    }\n",
              "\n",
              "    .dataframe thead th {\n",
              "        text-align: right;\n",
              "    }\n",
              "</style>\n",
              "<table border=\"1\" class=\"dataframe\">\n",
              "  <thead>\n",
              "    <tr style=\"text-align: right;\">\n",
              "      <th></th>\n",
              "      <th>Elemento</th>\n",
              "      <th>Producto</th>\n",
              "      <th>Unidad</th>\n",
              "      <th>Y1961</th>\n",
              "      <th>Y1962</th>\n",
              "      <th>Y1963</th>\n",
              "      <th>Y1964</th>\n",
              "      <th>Y1965</th>\n",
              "      <th>Y1966</th>\n",
              "      <th>Y1967</th>\n",
              "      <th>...</th>\n",
              "      <th>Y2014</th>\n",
              "      <th>Y2015</th>\n",
              "      <th>Y2016</th>\n",
              "      <th>Y2017</th>\n",
              "      <th>Y2018</th>\n",
              "      <th>Y2019</th>\n",
              "      <th>Y2020</th>\n",
              "      <th>Y2021</th>\n",
              "      <th>Y2022</th>\n",
              "      <th>Área</th>\n",
              "    </tr>\n",
              "  </thead>\n",
              "  <tbody>\n",
              "    <tr>\n",
              "      <th>0</th>\n",
              "      <td>Producción</td>\n",
              "      <td>Aceite de girasol, en bruto</td>\n",
              "      <td>toneladas</td>\n",
              "      <td>2937.75</td>\n",
              "      <td>3137.75</td>\n",
              "      <td>3137.75</td>\n",
              "      <td>3137.75</td>\n",
              "      <td>3237.75</td>\n",
              "      <td>3437.75</td>\n",
              "      <td>3438.5</td>\n",
              "      <td>...</td>\n",
              "      <td>960.46</td>\n",
              "      <td>1035.28</td>\n",
              "      <td>1804.72</td>\n",
              "      <td>3167.46</td>\n",
              "      <td>3198.89</td>\n",
              "      <td>3130.58</td>\n",
              "      <td>2511.67</td>\n",
              "      <td>2013.48</td>\n",
              "      <td>NaN</td>\n",
              "      <td>Afganistán</td>\n",
              "    </tr>\n",
              "  </tbody>\n",
              "</table>\n",
              "<p>1 rows × 66 columns</p>\n",
              "</div>\n",
              "    <div class=\"colab-df-buttons\">\n",
              "\n",
              "  <div class=\"colab-df-container\">\n",
              "    <button class=\"colab-df-convert\" onclick=\"convertToInteractive('df-57c43856-cbef-4dd5-82dc-fd2e73d29ba9')\"\n",
              "            title=\"Convert this dataframe to an interactive table.\"\n",
              "            style=\"display:none;\">\n",
              "\n",
              "  <svg xmlns=\"http://www.w3.org/2000/svg\" height=\"24px\" viewBox=\"0 -960 960 960\">\n",
              "    <path d=\"M120-120v-720h720v720H120Zm60-500h600v-160H180v160Zm220 220h160v-160H400v160Zm0 220h160v-160H400v160ZM180-400h160v-160H180v160Zm440 0h160v-160H620v160ZM180-180h160v-160H180v160Zm440 0h160v-160H620v160Z\"/>\n",
              "  </svg>\n",
              "    </button>\n",
              "\n",
              "  <style>\n",
              "    .colab-df-container {\n",
              "      display:flex;\n",
              "      gap: 12px;\n",
              "    }\n",
              "\n",
              "    .colab-df-convert {\n",
              "      background-color: #E8F0FE;\n",
              "      border: none;\n",
              "      border-radius: 50%;\n",
              "      cursor: pointer;\n",
              "      display: none;\n",
              "      fill: #1967D2;\n",
              "      height: 32px;\n",
              "      padding: 0 0 0 0;\n",
              "      width: 32px;\n",
              "    }\n",
              "\n",
              "    .colab-df-convert:hover {\n",
              "      background-color: #E2EBFA;\n",
              "      box-shadow: 0px 1px 2px rgba(60, 64, 67, 0.3), 0px 1px 3px 1px rgba(60, 64, 67, 0.15);\n",
              "      fill: #174EA6;\n",
              "    }\n",
              "\n",
              "    .colab-df-buttons div {\n",
              "      margin-bottom: 4px;\n",
              "    }\n",
              "\n",
              "    [theme=dark] .colab-df-convert {\n",
              "      background-color: #3B4455;\n",
              "      fill: #D2E3FC;\n",
              "    }\n",
              "\n",
              "    [theme=dark] .colab-df-convert:hover {\n",
              "      background-color: #434B5C;\n",
              "      box-shadow: 0px 1px 3px 1px rgba(0, 0, 0, 0.15);\n",
              "      filter: drop-shadow(0px 1px 2px rgba(0, 0, 0, 0.3));\n",
              "      fill: #FFFFFF;\n",
              "    }\n",
              "  </style>\n",
              "\n",
              "    <script>\n",
              "      const buttonEl =\n",
              "        document.querySelector('#df-57c43856-cbef-4dd5-82dc-fd2e73d29ba9 button.colab-df-convert');\n",
              "      buttonEl.style.display =\n",
              "        google.colab.kernel.accessAllowed ? 'block' : 'none';\n",
              "\n",
              "      async function convertToInteractive(key) {\n",
              "        const element = document.querySelector('#df-57c43856-cbef-4dd5-82dc-fd2e73d29ba9');\n",
              "        const dataTable =\n",
              "          await google.colab.kernel.invokeFunction('convertToInteractive',\n",
              "                                                    [key], {});\n",
              "        if (!dataTable) return;\n",
              "\n",
              "        const docLinkHtml = 'Like what you see? Visit the ' +\n",
              "          '<a target=\"_blank\" href=https://colab.research.google.com/notebooks/data_table.ipynb>data table notebook</a>'\n",
              "          + ' to learn more about interactive tables.';\n",
              "        element.innerHTML = '';\n",
              "        dataTable['output_type'] = 'display_data';\n",
              "        await google.colab.output.renderOutput(dataTable, element);\n",
              "        const docLink = document.createElement('div');\n",
              "        docLink.innerHTML = docLinkHtml;\n",
              "        element.appendChild(docLink);\n",
              "      }\n",
              "    </script>\n",
              "  </div>\n",
              "\n",
              "\n",
              "    </div>\n",
              "  </div>\n"
            ],
            "application/vnd.google.colaboratory.intrinsic+json": {
              "type": "dataframe",
              "variable_name": "data"
            }
          },
          "metadata": {},
          "execution_count": 10
        }
      ]
    },
    {
      "cell_type": "code",
      "source": [
        "data_features = data.columns\n",
        "data_features"
      ],
      "metadata": {
        "colab": {
          "base_uri": "https://localhost:8080/"
        },
        "id": "NNErzCFjhuJl",
        "outputId": "4ddf211c-45c7-4d87-f9b9-dee23a58a38e"
      },
      "execution_count": 11,
      "outputs": [
        {
          "output_type": "execute_result",
          "data": {
            "text/plain": [
              "Index(['Elemento', 'Producto', 'Unidad', 'Y1961', 'Y1962', 'Y1963', 'Y1964',\n",
              "       'Y1965', 'Y1966', 'Y1967', 'Y1968', 'Y1969', 'Y1970', 'Y1971', 'Y1972',\n",
              "       'Y1973', 'Y1974', 'Y1975', 'Y1976', 'Y1977', 'Y1978', 'Y1979', 'Y1980',\n",
              "       'Y1981', 'Y1982', 'Y1983', 'Y1984', 'Y1985', 'Y1986', 'Y1987', 'Y1988',\n",
              "       'Y1989', 'Y1990', 'Y1991', 'Y1992', 'Y1993', 'Y1994', 'Y1995', 'Y1996',\n",
              "       'Y1997', 'Y1998', 'Y1999', 'Y2000', 'Y2001', 'Y2002', 'Y2003', 'Y2004',\n",
              "       'Y2005', 'Y2006', 'Y2007', 'Y2008', 'Y2009', 'Y2010', 'Y2011', 'Y2012',\n",
              "       'Y2013', 'Y2014', 'Y2015', 'Y2016', 'Y2017', 'Y2018', 'Y2019', 'Y2020',\n",
              "       'Y2021', 'Y2022', 'Área'],\n",
              "      dtype='object')"
            ]
          },
          "metadata": {},
          "execution_count": 11
        }
      ]
    },
    {
      "cell_type": "markdown",
      "source": [
        "##Process Data"
      ],
      "metadata": {
        "id": "LtvyW7m2hydF"
      }
    },
    {
      "cell_type": "markdown",
      "source": [
        "\n",
        "A continuación, se separan las características del conjunto de datos en dos tipos: categóricas y numéricas."
      ],
      "metadata": {
        "id": "pChTbooch5dl"
      }
    },
    {
      "cell_type": "code",
      "source": [
        "# Contiene los nombres de las columnas que se consideran características categóricas en el conjunto de datos\n",
        "categorical_features = ['Área', 'Elemento', 'Producto', 'Unidad']\n",
        "# Contendrá los nombres de las columnas que no son categóricas, es decir, las características numéricas\n",
        "numerical_features = data_features.difference(categorical_features)\n",
        "# Muestra cuántas características hay en total, cuántas son categóricas y cuántas son numéricas\n",
        "print(f'data_features: {len(data_features)} categorical_features: {len(categorical_features)} numerical_features: {len(numerical_features)}')\n",
        "#  Se imprime el tipo de datos de las variables\n",
        "print(f'data_features: {type(data_features)} categorical_features: {type(categorical_features)} numerical_features: {type(numerical_features)}')"
      ],
      "metadata": {
        "colab": {
          "base_uri": "https://localhost:8080/"
        },
        "id": "b0ZtSOZlh1T1",
        "outputId": "cf0ff8d9-f2c6-425b-c312-f59e8c5f255c"
      },
      "execution_count": 12,
      "outputs": [
        {
          "output_type": "stream",
          "name": "stdout",
          "text": [
            "data_features: 66 categorical_features: 4 numerical_features: 62\n",
            "data_features: <class 'pandas.core.indexes.base.Index'> categorical_features: <class 'list'> numerical_features: <class 'pandas.core.indexes.base.Index'>\n"
          ]
        }
      ]
    },
    {
      "cell_type": "code",
      "source": [
        "numerical_data = data[numerical_features].replace({np.nan : 0})\n",
        "categorical_data = data[categorical_features].replace({np.nan : 'unknown'})\n",
        "\n",
        "numerical_data.shape, categorical_data.shape"
      ],
      "metadata": {
        "colab": {
          "base_uri": "https://localhost:8080/"
        },
        "id": "BasKuB7tiOYd",
        "outputId": "a9695f73-c97a-428a-ec1a-39cf38a7eb0c"
      },
      "execution_count": 13,
      "outputs": [
        {
          "output_type": "execute_result",
          "data": {
            "text/plain": [
              "((79606, 62), (79606, 4))"
            ]
          },
          "metadata": {},
          "execution_count": 13
        }
      ]
    },
    {
      "cell_type": "code",
      "source": [
        "numerical_data.head(1)"
      ],
      "metadata": {
        "colab": {
          "base_uri": "https://localhost:8080/",
          "height": 110
        },
        "id": "AkRekK-mjcEM",
        "outputId": "ccd2156a-4053-469a-f2d7-416c68dfeada"
      },
      "execution_count": 14,
      "outputs": [
        {
          "output_type": "execute_result",
          "data": {
            "text/plain": [
              "     Y1961    Y1962    Y1963    Y1964    Y1965    Y1966   Y1967    Y1968  \\\n",
              "0  2937.75  3137.75  3137.75  3137.75  3237.75  3437.75  3438.5  3537.75   \n",
              "\n",
              "     Y1969   Y1970  ...   Y2013   Y2014    Y2015    Y2016    Y2017    Y2018  \\\n",
              "0  3637.75  3437.0  ...  137.68  960.46  1035.28  1804.72  3167.46  3198.89   \n",
              "\n",
              "     Y2019    Y2020    Y2021  Y2022  \n",
              "0  3130.58  2511.67  2013.48    0.0  \n",
              "\n",
              "[1 rows x 62 columns]"
            ],
            "text/html": [
              "\n",
              "  <div id=\"df-0a1fd57b-0b3c-45f7-8ebb-006c7dce8553\" class=\"colab-df-container\">\n",
              "    <div>\n",
              "<style scoped>\n",
              "    .dataframe tbody tr th:only-of-type {\n",
              "        vertical-align: middle;\n",
              "    }\n",
              "\n",
              "    .dataframe tbody tr th {\n",
              "        vertical-align: top;\n",
              "    }\n",
              "\n",
              "    .dataframe thead th {\n",
              "        text-align: right;\n",
              "    }\n",
              "</style>\n",
              "<table border=\"1\" class=\"dataframe\">\n",
              "  <thead>\n",
              "    <tr style=\"text-align: right;\">\n",
              "      <th></th>\n",
              "      <th>Y1961</th>\n",
              "      <th>Y1962</th>\n",
              "      <th>Y1963</th>\n",
              "      <th>Y1964</th>\n",
              "      <th>Y1965</th>\n",
              "      <th>Y1966</th>\n",
              "      <th>Y1967</th>\n",
              "      <th>Y1968</th>\n",
              "      <th>Y1969</th>\n",
              "      <th>Y1970</th>\n",
              "      <th>...</th>\n",
              "      <th>Y2013</th>\n",
              "      <th>Y2014</th>\n",
              "      <th>Y2015</th>\n",
              "      <th>Y2016</th>\n",
              "      <th>Y2017</th>\n",
              "      <th>Y2018</th>\n",
              "      <th>Y2019</th>\n",
              "      <th>Y2020</th>\n",
              "      <th>Y2021</th>\n",
              "      <th>Y2022</th>\n",
              "    </tr>\n",
              "  </thead>\n",
              "  <tbody>\n",
              "    <tr>\n",
              "      <th>0</th>\n",
              "      <td>2937.75</td>\n",
              "      <td>3137.75</td>\n",
              "      <td>3137.75</td>\n",
              "      <td>3137.75</td>\n",
              "      <td>3237.75</td>\n",
              "      <td>3437.75</td>\n",
              "      <td>3438.5</td>\n",
              "      <td>3537.75</td>\n",
              "      <td>3637.75</td>\n",
              "      <td>3437.0</td>\n",
              "      <td>...</td>\n",
              "      <td>137.68</td>\n",
              "      <td>960.46</td>\n",
              "      <td>1035.28</td>\n",
              "      <td>1804.72</td>\n",
              "      <td>3167.46</td>\n",
              "      <td>3198.89</td>\n",
              "      <td>3130.58</td>\n",
              "      <td>2511.67</td>\n",
              "      <td>2013.48</td>\n",
              "      <td>0.0</td>\n",
              "    </tr>\n",
              "  </tbody>\n",
              "</table>\n",
              "<p>1 rows × 62 columns</p>\n",
              "</div>\n",
              "    <div class=\"colab-df-buttons\">\n",
              "\n",
              "  <div class=\"colab-df-container\">\n",
              "    <button class=\"colab-df-convert\" onclick=\"convertToInteractive('df-0a1fd57b-0b3c-45f7-8ebb-006c7dce8553')\"\n",
              "            title=\"Convert this dataframe to an interactive table.\"\n",
              "            style=\"display:none;\">\n",
              "\n",
              "  <svg xmlns=\"http://www.w3.org/2000/svg\" height=\"24px\" viewBox=\"0 -960 960 960\">\n",
              "    <path d=\"M120-120v-720h720v720H120Zm60-500h600v-160H180v160Zm220 220h160v-160H400v160Zm0 220h160v-160H400v160ZM180-400h160v-160H180v160Zm440 0h160v-160H620v160ZM180-180h160v-160H180v160Zm440 0h160v-160H620v160Z\"/>\n",
              "  </svg>\n",
              "    </button>\n",
              "\n",
              "  <style>\n",
              "    .colab-df-container {\n",
              "      display:flex;\n",
              "      gap: 12px;\n",
              "    }\n",
              "\n",
              "    .colab-df-convert {\n",
              "      background-color: #E8F0FE;\n",
              "      border: none;\n",
              "      border-radius: 50%;\n",
              "      cursor: pointer;\n",
              "      display: none;\n",
              "      fill: #1967D2;\n",
              "      height: 32px;\n",
              "      padding: 0 0 0 0;\n",
              "      width: 32px;\n",
              "    }\n",
              "\n",
              "    .colab-df-convert:hover {\n",
              "      background-color: #E2EBFA;\n",
              "      box-shadow: 0px 1px 2px rgba(60, 64, 67, 0.3), 0px 1px 3px 1px rgba(60, 64, 67, 0.15);\n",
              "      fill: #174EA6;\n",
              "    }\n",
              "\n",
              "    .colab-df-buttons div {\n",
              "      margin-bottom: 4px;\n",
              "    }\n",
              "\n",
              "    [theme=dark] .colab-df-convert {\n",
              "      background-color: #3B4455;\n",
              "      fill: #D2E3FC;\n",
              "    }\n",
              "\n",
              "    [theme=dark] .colab-df-convert:hover {\n",
              "      background-color: #434B5C;\n",
              "      box-shadow: 0px 1px 3px 1px rgba(0, 0, 0, 0.15);\n",
              "      filter: drop-shadow(0px 1px 2px rgba(0, 0, 0, 0.3));\n",
              "      fill: #FFFFFF;\n",
              "    }\n",
              "  </style>\n",
              "\n",
              "    <script>\n",
              "      const buttonEl =\n",
              "        document.querySelector('#df-0a1fd57b-0b3c-45f7-8ebb-006c7dce8553 button.colab-df-convert');\n",
              "      buttonEl.style.display =\n",
              "        google.colab.kernel.accessAllowed ? 'block' : 'none';\n",
              "\n",
              "      async function convertToInteractive(key) {\n",
              "        const element = document.querySelector('#df-0a1fd57b-0b3c-45f7-8ebb-006c7dce8553');\n",
              "        const dataTable =\n",
              "          await google.colab.kernel.invokeFunction('convertToInteractive',\n",
              "                                                    [key], {});\n",
              "        if (!dataTable) return;\n",
              "\n",
              "        const docLinkHtml = 'Like what you see? Visit the ' +\n",
              "          '<a target=\"_blank\" href=https://colab.research.google.com/notebooks/data_table.ipynb>data table notebook</a>'\n",
              "          + ' to learn more about interactive tables.';\n",
              "        element.innerHTML = '';\n",
              "        dataTable['output_type'] = 'display_data';\n",
              "        await google.colab.output.renderOutput(dataTable, element);\n",
              "        const docLink = document.createElement('div');\n",
              "        docLink.innerHTML = docLinkHtml;\n",
              "        element.appendChild(docLink);\n",
              "      }\n",
              "    </script>\n",
              "  </div>\n",
              "\n",
              "\n",
              "    </div>\n",
              "  </div>\n"
            ],
            "application/vnd.google.colaboratory.intrinsic+json": {
              "type": "dataframe",
              "variable_name": "numerical_data"
            }
          },
          "metadata": {},
          "execution_count": 14
        }
      ]
    },
    {
      "cell_type": "code",
      "source": [
        "categorical_data.head(1)"
      ],
      "metadata": {
        "colab": {
          "base_uri": "https://localhost:8080/",
          "height": 81
        },
        "id": "v4zItBNvlATr",
        "outputId": "5779dcf3-0655-4f8b-de16-c05d9246feb9"
      },
      "execution_count": 15,
      "outputs": [
        {
          "output_type": "execute_result",
          "data": {
            "text/plain": [
              "         Área    Elemento                     Producto     Unidad\n",
              "0  Afganistán  Producción  Aceite de girasol, en bruto  toneladas"
            ],
            "text/html": [
              "\n",
              "  <div id=\"df-fa005ad3-f652-4c87-bae5-b158fe922059\" class=\"colab-df-container\">\n",
              "    <div>\n",
              "<style scoped>\n",
              "    .dataframe tbody tr th:only-of-type {\n",
              "        vertical-align: middle;\n",
              "    }\n",
              "\n",
              "    .dataframe tbody tr th {\n",
              "        vertical-align: top;\n",
              "    }\n",
              "\n",
              "    .dataframe thead th {\n",
              "        text-align: right;\n",
              "    }\n",
              "</style>\n",
              "<table border=\"1\" class=\"dataframe\">\n",
              "  <thead>\n",
              "    <tr style=\"text-align: right;\">\n",
              "      <th></th>\n",
              "      <th>Área</th>\n",
              "      <th>Elemento</th>\n",
              "      <th>Producto</th>\n",
              "      <th>Unidad</th>\n",
              "    </tr>\n",
              "  </thead>\n",
              "  <tbody>\n",
              "    <tr>\n",
              "      <th>0</th>\n",
              "      <td>Afganistán</td>\n",
              "      <td>Producción</td>\n",
              "      <td>Aceite de girasol, en bruto</td>\n",
              "      <td>toneladas</td>\n",
              "    </tr>\n",
              "  </tbody>\n",
              "</table>\n",
              "</div>\n",
              "    <div class=\"colab-df-buttons\">\n",
              "\n",
              "  <div class=\"colab-df-container\">\n",
              "    <button class=\"colab-df-convert\" onclick=\"convertToInteractive('df-fa005ad3-f652-4c87-bae5-b158fe922059')\"\n",
              "            title=\"Convert this dataframe to an interactive table.\"\n",
              "            style=\"display:none;\">\n",
              "\n",
              "  <svg xmlns=\"http://www.w3.org/2000/svg\" height=\"24px\" viewBox=\"0 -960 960 960\">\n",
              "    <path d=\"M120-120v-720h720v720H120Zm60-500h600v-160H180v160Zm220 220h160v-160H400v160Zm0 220h160v-160H400v160ZM180-400h160v-160H180v160Zm440 0h160v-160H620v160ZM180-180h160v-160H180v160Zm440 0h160v-160H620v160Z\"/>\n",
              "  </svg>\n",
              "    </button>\n",
              "\n",
              "  <style>\n",
              "    .colab-df-container {\n",
              "      display:flex;\n",
              "      gap: 12px;\n",
              "    }\n",
              "\n",
              "    .colab-df-convert {\n",
              "      background-color: #E8F0FE;\n",
              "      border: none;\n",
              "      border-radius: 50%;\n",
              "      cursor: pointer;\n",
              "      display: none;\n",
              "      fill: #1967D2;\n",
              "      height: 32px;\n",
              "      padding: 0 0 0 0;\n",
              "      width: 32px;\n",
              "    }\n",
              "\n",
              "    .colab-df-convert:hover {\n",
              "      background-color: #E2EBFA;\n",
              "      box-shadow: 0px 1px 2px rgba(60, 64, 67, 0.3), 0px 1px 3px 1px rgba(60, 64, 67, 0.15);\n",
              "      fill: #174EA6;\n",
              "    }\n",
              "\n",
              "    .colab-df-buttons div {\n",
              "      margin-bottom: 4px;\n",
              "    }\n",
              "\n",
              "    [theme=dark] .colab-df-convert {\n",
              "      background-color: #3B4455;\n",
              "      fill: #D2E3FC;\n",
              "    }\n",
              "\n",
              "    [theme=dark] .colab-df-convert:hover {\n",
              "      background-color: #434B5C;\n",
              "      box-shadow: 0px 1px 3px 1px rgba(0, 0, 0, 0.15);\n",
              "      filter: drop-shadow(0px 1px 2px rgba(0, 0, 0, 0.3));\n",
              "      fill: #FFFFFF;\n",
              "    }\n",
              "  </style>\n",
              "\n",
              "    <script>\n",
              "      const buttonEl =\n",
              "        document.querySelector('#df-fa005ad3-f652-4c87-bae5-b158fe922059 button.colab-df-convert');\n",
              "      buttonEl.style.display =\n",
              "        google.colab.kernel.accessAllowed ? 'block' : 'none';\n",
              "\n",
              "      async function convertToInteractive(key) {\n",
              "        const element = document.querySelector('#df-fa005ad3-f652-4c87-bae5-b158fe922059');\n",
              "        const dataTable =\n",
              "          await google.colab.kernel.invokeFunction('convertToInteractive',\n",
              "                                                    [key], {});\n",
              "        if (!dataTable) return;\n",
              "\n",
              "        const docLinkHtml = 'Like what you see? Visit the ' +\n",
              "          '<a target=\"_blank\" href=https://colab.research.google.com/notebooks/data_table.ipynb>data table notebook</a>'\n",
              "          + ' to learn more about interactive tables.';\n",
              "        element.innerHTML = '';\n",
              "        dataTable['output_type'] = 'display_data';\n",
              "        await google.colab.output.renderOutput(dataTable, element);\n",
              "        const docLink = document.createElement('div');\n",
              "        docLink.innerHTML = docLinkHtml;\n",
              "        element.appendChild(docLink);\n",
              "      }\n",
              "    </script>\n",
              "  </div>\n",
              "\n",
              "\n",
              "    </div>\n",
              "  </div>\n"
            ],
            "application/vnd.google.colaboratory.intrinsic+json": {
              "type": "dataframe",
              "variable_name": "categorical_data",
              "summary": "{\n  \"name\": \"categorical_data\",\n  \"rows\": 79606,\n  \"fields\": [\n    {\n      \"column\": \"\\u00c1rea\",\n      \"properties\": {\n        \"dtype\": \"category\",\n        \"num_unique_values\": 245,\n        \"samples\": [\n          \"Botswana\",\n          \"Argelia\",\n          \"Puerto Rico\"\n        ],\n        \"semantic_type\": \"\",\n        \"description\": \"\"\n      }\n    },\n    {\n      \"column\": \"Elemento\",\n      \"properties\": {\n        \"dtype\": \"category\",\n        \"num_unique_values\": 9,\n        \"samples\": [\n          \"Reses lecheras\",\n          \"\\u00c1rea cosechada\",\n          \"Animales en producci\\u00f3n/Sacrificados\"\n        ],\n        \"semantic_type\": \"\",\n        \"description\": \"\"\n      }\n    },\n    {\n      \"column\": \"Producto\",\n      \"properties\": {\n        \"dtype\": \"category\",\n        \"num_unique_values\": 301,\n        \"samples\": [\n          \"Altramuz\",\n          \"Clavo de olor (tallos enteros), en bruto\",\n          \"Semillas de aceite de ricino\"\n        ],\n        \"semantic_type\": \"\",\n        \"description\": \"\"\n      }\n    },\n    {\n      \"column\": \"Unidad\",\n      \"properties\": {\n        \"dtype\": \"category\",\n        \"num_unique_values\": 12,\n        \"samples\": [\n          \"No.\",\n          \"1000 No.\",\n          \"toneladas\"\n        ],\n        \"semantic_type\": \"\",\n        \"description\": \"\"\n      }\n    }\n  ]\n}"
            }
          },
          "metadata": {},
          "execution_count": 15
        }
      ]
    },
    {
      "cell_type": "markdown",
      "source": [
        "##Preprocesamiento de los datos numéricos"
      ],
      "metadata": {
        "id": "3EnGQyVqp946"
      }
    },
    {
      "cell_type": "markdown",
      "source": [
        "Preprocesamiento con StandardScaler"
      ],
      "metadata": {
        "id": "gW_rHIASlLDs"
      }
    },
    {
      "cell_type": "code",
      "source": [
        "scaler = StandardScaler()\n",
        "scaler"
      ],
      "metadata": {
        "colab": {
          "base_uri": "https://localhost:8080/",
          "height": 75
        },
        "id": "JXv62HShlGz7",
        "outputId": "f89ceb5b-45c4-40e0-d8c0-4d68b60138d4"
      },
      "execution_count": 16,
      "outputs": [
        {
          "output_type": "execute_result",
          "data": {
            "text/plain": [
              "StandardScaler()"
            ],
            "text/html": [
              "<style>#sk-container-id-1 {color: black;background-color: white;}#sk-container-id-1 pre{padding: 0;}#sk-container-id-1 div.sk-toggleable {background-color: white;}#sk-container-id-1 label.sk-toggleable__label {cursor: pointer;display: block;width: 100%;margin-bottom: 0;padding: 0.3em;box-sizing: border-box;text-align: center;}#sk-container-id-1 label.sk-toggleable__label-arrow:before {content: \"▸\";float: left;margin-right: 0.25em;color: #696969;}#sk-container-id-1 label.sk-toggleable__label-arrow:hover:before {color: black;}#sk-container-id-1 div.sk-estimator:hover label.sk-toggleable__label-arrow:before {color: black;}#sk-container-id-1 div.sk-toggleable__content {max-height: 0;max-width: 0;overflow: hidden;text-align: left;background-color: #f0f8ff;}#sk-container-id-1 div.sk-toggleable__content pre {margin: 0.2em;color: black;border-radius: 0.25em;background-color: #f0f8ff;}#sk-container-id-1 input.sk-toggleable__control:checked~div.sk-toggleable__content {max-height: 200px;max-width: 100%;overflow: auto;}#sk-container-id-1 input.sk-toggleable__control:checked~label.sk-toggleable__label-arrow:before {content: \"▾\";}#sk-container-id-1 div.sk-estimator input.sk-toggleable__control:checked~label.sk-toggleable__label {background-color: #d4ebff;}#sk-container-id-1 div.sk-label input.sk-toggleable__control:checked~label.sk-toggleable__label {background-color: #d4ebff;}#sk-container-id-1 input.sk-hidden--visually {border: 0;clip: rect(1px 1px 1px 1px);clip: rect(1px, 1px, 1px, 1px);height: 1px;margin: -1px;overflow: hidden;padding: 0;position: absolute;width: 1px;}#sk-container-id-1 div.sk-estimator {font-family: monospace;background-color: #f0f8ff;border: 1px dotted black;border-radius: 0.25em;box-sizing: border-box;margin-bottom: 0.5em;}#sk-container-id-1 div.sk-estimator:hover {background-color: #d4ebff;}#sk-container-id-1 div.sk-parallel-item::after {content: \"\";width: 100%;border-bottom: 1px solid gray;flex-grow: 1;}#sk-container-id-1 div.sk-label:hover label.sk-toggleable__label {background-color: #d4ebff;}#sk-container-id-1 div.sk-serial::before {content: \"\";position: absolute;border-left: 1px solid gray;box-sizing: border-box;top: 0;bottom: 0;left: 50%;z-index: 0;}#sk-container-id-1 div.sk-serial {display: flex;flex-direction: column;align-items: center;background-color: white;padding-right: 0.2em;padding-left: 0.2em;position: relative;}#sk-container-id-1 div.sk-item {position: relative;z-index: 1;}#sk-container-id-1 div.sk-parallel {display: flex;align-items: stretch;justify-content: center;background-color: white;position: relative;}#sk-container-id-1 div.sk-item::before, #sk-container-id-1 div.sk-parallel-item::before {content: \"\";position: absolute;border-left: 1px solid gray;box-sizing: border-box;top: 0;bottom: 0;left: 50%;z-index: -1;}#sk-container-id-1 div.sk-parallel-item {display: flex;flex-direction: column;z-index: 1;position: relative;background-color: white;}#sk-container-id-1 div.sk-parallel-item:first-child::after {align-self: flex-end;width: 50%;}#sk-container-id-1 div.sk-parallel-item:last-child::after {align-self: flex-start;width: 50%;}#sk-container-id-1 div.sk-parallel-item:only-child::after {width: 0;}#sk-container-id-1 div.sk-dashed-wrapped {border: 1px dashed gray;margin: 0 0.4em 0.5em 0.4em;box-sizing: border-box;padding-bottom: 0.4em;background-color: white;}#sk-container-id-1 div.sk-label label {font-family: monospace;font-weight: bold;display: inline-block;line-height: 1.2em;}#sk-container-id-1 div.sk-label-container {text-align: center;}#sk-container-id-1 div.sk-container {/* jupyter's `normalize.less` sets `[hidden] { display: none; }` but bootstrap.min.css set `[hidden] { display: none !important; }` so we also need the `!important` here to be able to override the default hidden behavior on the sphinx rendered scikit-learn.org. See: https://github.com/scikit-learn/scikit-learn/issues/21755 */display: inline-block !important;position: relative;}#sk-container-id-1 div.sk-text-repr-fallback {display: none;}</style><div id=\"sk-container-id-1\" class=\"sk-top-container\"><div class=\"sk-text-repr-fallback\"><pre>StandardScaler()</pre><b>In a Jupyter environment, please rerun this cell to show the HTML representation or trust the notebook. <br />On GitHub, the HTML representation is unable to render, please try loading this page with nbviewer.org.</b></div><div class=\"sk-container\" hidden><div class=\"sk-item\"><div class=\"sk-estimator sk-toggleable\"><input class=\"sk-toggleable__control sk-hidden--visually\" id=\"sk-estimator-id-1\" type=\"checkbox\" checked><label for=\"sk-estimator-id-1\" class=\"sk-toggleable__label sk-toggleable__label-arrow\">StandardScaler</label><div class=\"sk-toggleable__content\"><pre>StandardScaler()</pre></div></div></div></div></div>"
            ]
          },
          "metadata": {},
          "execution_count": 16
        }
      ]
    },
    {
      "cell_type": "code",
      "source": [
        "scaler.fit(numerical_data)"
      ],
      "metadata": {
        "colab": {
          "base_uri": "https://localhost:8080/",
          "height": 75
        },
        "id": "AfFPe5PHlRmc",
        "outputId": "bb5d783e-294c-4384-f29e-b67f29b6740b"
      },
      "execution_count": 17,
      "outputs": [
        {
          "output_type": "execute_result",
          "data": {
            "text/plain": [
              "StandardScaler()"
            ],
            "text/html": [
              "<style>#sk-container-id-2 {color: black;background-color: white;}#sk-container-id-2 pre{padding: 0;}#sk-container-id-2 div.sk-toggleable {background-color: white;}#sk-container-id-2 label.sk-toggleable__label {cursor: pointer;display: block;width: 100%;margin-bottom: 0;padding: 0.3em;box-sizing: border-box;text-align: center;}#sk-container-id-2 label.sk-toggleable__label-arrow:before {content: \"▸\";float: left;margin-right: 0.25em;color: #696969;}#sk-container-id-2 label.sk-toggleable__label-arrow:hover:before {color: black;}#sk-container-id-2 div.sk-estimator:hover label.sk-toggleable__label-arrow:before {color: black;}#sk-container-id-2 div.sk-toggleable__content {max-height: 0;max-width: 0;overflow: hidden;text-align: left;background-color: #f0f8ff;}#sk-container-id-2 div.sk-toggleable__content pre {margin: 0.2em;color: black;border-radius: 0.25em;background-color: #f0f8ff;}#sk-container-id-2 input.sk-toggleable__control:checked~div.sk-toggleable__content {max-height: 200px;max-width: 100%;overflow: auto;}#sk-container-id-2 input.sk-toggleable__control:checked~label.sk-toggleable__label-arrow:before {content: \"▾\";}#sk-container-id-2 div.sk-estimator input.sk-toggleable__control:checked~label.sk-toggleable__label {background-color: #d4ebff;}#sk-container-id-2 div.sk-label input.sk-toggleable__control:checked~label.sk-toggleable__label {background-color: #d4ebff;}#sk-container-id-2 input.sk-hidden--visually {border: 0;clip: rect(1px 1px 1px 1px);clip: rect(1px, 1px, 1px, 1px);height: 1px;margin: -1px;overflow: hidden;padding: 0;position: absolute;width: 1px;}#sk-container-id-2 div.sk-estimator {font-family: monospace;background-color: #f0f8ff;border: 1px dotted black;border-radius: 0.25em;box-sizing: border-box;margin-bottom: 0.5em;}#sk-container-id-2 div.sk-estimator:hover {background-color: #d4ebff;}#sk-container-id-2 div.sk-parallel-item::after {content: \"\";width: 100%;border-bottom: 1px solid gray;flex-grow: 1;}#sk-container-id-2 div.sk-label:hover label.sk-toggleable__label {background-color: #d4ebff;}#sk-container-id-2 div.sk-serial::before {content: \"\";position: absolute;border-left: 1px solid gray;box-sizing: border-box;top: 0;bottom: 0;left: 50%;z-index: 0;}#sk-container-id-2 div.sk-serial {display: flex;flex-direction: column;align-items: center;background-color: white;padding-right: 0.2em;padding-left: 0.2em;position: relative;}#sk-container-id-2 div.sk-item {position: relative;z-index: 1;}#sk-container-id-2 div.sk-parallel {display: flex;align-items: stretch;justify-content: center;background-color: white;position: relative;}#sk-container-id-2 div.sk-item::before, #sk-container-id-2 div.sk-parallel-item::before {content: \"\";position: absolute;border-left: 1px solid gray;box-sizing: border-box;top: 0;bottom: 0;left: 50%;z-index: -1;}#sk-container-id-2 div.sk-parallel-item {display: flex;flex-direction: column;z-index: 1;position: relative;background-color: white;}#sk-container-id-2 div.sk-parallel-item:first-child::after {align-self: flex-end;width: 50%;}#sk-container-id-2 div.sk-parallel-item:last-child::after {align-self: flex-start;width: 50%;}#sk-container-id-2 div.sk-parallel-item:only-child::after {width: 0;}#sk-container-id-2 div.sk-dashed-wrapped {border: 1px dashed gray;margin: 0 0.4em 0.5em 0.4em;box-sizing: border-box;padding-bottom: 0.4em;background-color: white;}#sk-container-id-2 div.sk-label label {font-family: monospace;font-weight: bold;display: inline-block;line-height: 1.2em;}#sk-container-id-2 div.sk-label-container {text-align: center;}#sk-container-id-2 div.sk-container {/* jupyter's `normalize.less` sets `[hidden] { display: none; }` but bootstrap.min.css set `[hidden] { display: none !important; }` so we also need the `!important` here to be able to override the default hidden behavior on the sphinx rendered scikit-learn.org. See: https://github.com/scikit-learn/scikit-learn/issues/21755 */display: inline-block !important;position: relative;}#sk-container-id-2 div.sk-text-repr-fallback {display: none;}</style><div id=\"sk-container-id-2\" class=\"sk-top-container\"><div class=\"sk-text-repr-fallback\"><pre>StandardScaler()</pre><b>In a Jupyter environment, please rerun this cell to show the HTML representation or trust the notebook. <br />On GitHub, the HTML representation is unable to render, please try loading this page with nbviewer.org.</b></div><div class=\"sk-container\" hidden><div class=\"sk-item\"><div class=\"sk-estimator sk-toggleable\"><input class=\"sk-toggleable__control sk-hidden--visually\" id=\"sk-estimator-id-2\" type=\"checkbox\" checked><label for=\"sk-estimator-id-2\" class=\"sk-toggleable__label sk-toggleable__label-arrow\">StandardScaler</label><div class=\"sk-toggleable__content\"><pre>StandardScaler()</pre></div></div></div></div></div>"
            ]
          },
          "metadata": {},
          "execution_count": 17
        }
      ]
    },
    {
      "cell_type": "code",
      "source": [
        "print(scaler.mean_)"
      ],
      "metadata": {
        "colab": {
          "base_uri": "https://localhost:8080/"
        },
        "id": "qEMsWjkZlUyL",
        "outputId": "a05536fa-0b86-4919-e1b0-9288c7704922"
      },
      "execution_count": 18,
      "outputs": [
        {
          "output_type": "stream",
          "name": "stdout",
          "text": [
            "[1105318.49810353 1130403.80877283 1154577.77776248 1188857.55190865\n",
            " 1213114.64106286 1244246.822588   1276477.00430545 1297259.7200348\n",
            " 1300683.30485893 1329793.55318318 1358341.04134914 1362009.59589076\n",
            " 1396505.03003128 1410445.17205173 1437941.19628093 1466003.22398638\n",
            " 1493275.18522285 1539512.08079215 1556173.63778296 1573711.89276462\n",
            " 1611740.58267894 1648539.41746363 1654874.41420596 1699462.90226403\n",
            " 1719052.27396302 1743319.02330239 1766287.53889594 1789363.32187838\n",
            " 1844157.82488745 1881891.85256651 1871949.01019232 1914403.39634173\n",
            " 1913259.80164761 1954499.71556503 1987699.16803093 2032075.47746979\n",
            " 2049229.92456536 2090012.06475844 2136914.71737859 2159122.5905997\n",
            " 2174305.4212793  2209113.28528867 2254051.91766349 2322789.73311798\n",
            " 2360164.15030086 2404246.38601852 2472343.70402859 2539421.00140731\n",
            " 2556608.81279828 2611963.74379594 2679472.50944652 2710224.91195953\n",
            " 2786046.29965241 2832988.75898173 2859367.39736012 2900512.14790795\n",
            " 2950815.63070623 2971037.80256765 2989640.38875901 3010039.88518968\n",
            " 3078609.22550763 3064557.22437555]\n"
          ]
        }
      ]
    },
    {
      "cell_type": "code",
      "source": [
        "numerical_data_preprocessed = scaler.transform(numerical_data)\n",
        "numerical_data_preprocessed"
      ],
      "metadata": {
        "colab": {
          "base_uri": "https://localhost:8080/"
        },
        "id": "DEQk_pxzlZMr",
        "outputId": "6e579f4d-f871-4d01-e943-334fff2bf87f"
      },
      "execution_count": 19,
      "outputs": [
        {
          "output_type": "execute_result",
          "data": {
            "text/plain": [
              "array([[-0.08170223, -0.0820734 , -0.08231475, ..., -0.08556038,\n",
              "        -0.08518179, -0.08311888],\n",
              "       [-0.08175299, -0.08216526, -0.08240818, ..., -0.08556502,\n",
              "        -0.08517949, -0.08311888],\n",
              "       [-0.08154958, -0.08174008, -0.08169966, ..., -0.08539431,\n",
              "        -0.08501052, -0.08311888],\n",
              "       ...,\n",
              "       [-0.07804807, -0.0784724 , -0.07880722, ..., -0.08284801,\n",
              "        -0.08245277, -0.08037187],\n",
              "       [ 2.58709661,  2.61067962,  2.59585468, ...,  6.20500712,\n",
              "         6.30920094,  6.4531452 ],\n",
              "       [13.60539009, 13.61430869, 13.64782722, ..., 14.7562109 ,\n",
              "        14.4845313 , 14.53719215]])"
            ]
          },
          "metadata": {},
          "execution_count": 19
        }
      ]
    },
    {
      "cell_type": "markdown",
      "source": [
        "Preprocesamiento con QuantileTransformer"
      ],
      "metadata": {
        "id": "4jspoKGol0LZ"
      }
    },
    {
      "cell_type": "code",
      "source": [
        "qt = QuantileTransformer()\n",
        "qt"
      ],
      "metadata": {
        "colab": {
          "base_uri": "https://localhost:8080/",
          "height": 75
        },
        "id": "q0WyWeXllm7M",
        "outputId": "673395c9-ecf8-4af0-aba3-9e0da0d9186f"
      },
      "execution_count": 20,
      "outputs": [
        {
          "output_type": "execute_result",
          "data": {
            "text/plain": [
              "QuantileTransformer()"
            ],
            "text/html": [
              "<style>#sk-container-id-3 {color: black;background-color: white;}#sk-container-id-3 pre{padding: 0;}#sk-container-id-3 div.sk-toggleable {background-color: white;}#sk-container-id-3 label.sk-toggleable__label {cursor: pointer;display: block;width: 100%;margin-bottom: 0;padding: 0.3em;box-sizing: border-box;text-align: center;}#sk-container-id-3 label.sk-toggleable__label-arrow:before {content: \"▸\";float: left;margin-right: 0.25em;color: #696969;}#sk-container-id-3 label.sk-toggleable__label-arrow:hover:before {color: black;}#sk-container-id-3 div.sk-estimator:hover label.sk-toggleable__label-arrow:before {color: black;}#sk-container-id-3 div.sk-toggleable__content {max-height: 0;max-width: 0;overflow: hidden;text-align: left;background-color: #f0f8ff;}#sk-container-id-3 div.sk-toggleable__content pre {margin: 0.2em;color: black;border-radius: 0.25em;background-color: #f0f8ff;}#sk-container-id-3 input.sk-toggleable__control:checked~div.sk-toggleable__content {max-height: 200px;max-width: 100%;overflow: auto;}#sk-container-id-3 input.sk-toggleable__control:checked~label.sk-toggleable__label-arrow:before {content: \"▾\";}#sk-container-id-3 div.sk-estimator input.sk-toggleable__control:checked~label.sk-toggleable__label {background-color: #d4ebff;}#sk-container-id-3 div.sk-label input.sk-toggleable__control:checked~label.sk-toggleable__label {background-color: #d4ebff;}#sk-container-id-3 input.sk-hidden--visually {border: 0;clip: rect(1px 1px 1px 1px);clip: rect(1px, 1px, 1px, 1px);height: 1px;margin: -1px;overflow: hidden;padding: 0;position: absolute;width: 1px;}#sk-container-id-3 div.sk-estimator {font-family: monospace;background-color: #f0f8ff;border: 1px dotted black;border-radius: 0.25em;box-sizing: border-box;margin-bottom: 0.5em;}#sk-container-id-3 div.sk-estimator:hover {background-color: #d4ebff;}#sk-container-id-3 div.sk-parallel-item::after {content: \"\";width: 100%;border-bottom: 1px solid gray;flex-grow: 1;}#sk-container-id-3 div.sk-label:hover label.sk-toggleable__label {background-color: #d4ebff;}#sk-container-id-3 div.sk-serial::before {content: \"\";position: absolute;border-left: 1px solid gray;box-sizing: border-box;top: 0;bottom: 0;left: 50%;z-index: 0;}#sk-container-id-3 div.sk-serial {display: flex;flex-direction: column;align-items: center;background-color: white;padding-right: 0.2em;padding-left: 0.2em;position: relative;}#sk-container-id-3 div.sk-item {position: relative;z-index: 1;}#sk-container-id-3 div.sk-parallel {display: flex;align-items: stretch;justify-content: center;background-color: white;position: relative;}#sk-container-id-3 div.sk-item::before, #sk-container-id-3 div.sk-parallel-item::before {content: \"\";position: absolute;border-left: 1px solid gray;box-sizing: border-box;top: 0;bottom: 0;left: 50%;z-index: -1;}#sk-container-id-3 div.sk-parallel-item {display: flex;flex-direction: column;z-index: 1;position: relative;background-color: white;}#sk-container-id-3 div.sk-parallel-item:first-child::after {align-self: flex-end;width: 50%;}#sk-container-id-3 div.sk-parallel-item:last-child::after {align-self: flex-start;width: 50%;}#sk-container-id-3 div.sk-parallel-item:only-child::after {width: 0;}#sk-container-id-3 div.sk-dashed-wrapped {border: 1px dashed gray;margin: 0 0.4em 0.5em 0.4em;box-sizing: border-box;padding-bottom: 0.4em;background-color: white;}#sk-container-id-3 div.sk-label label {font-family: monospace;font-weight: bold;display: inline-block;line-height: 1.2em;}#sk-container-id-3 div.sk-label-container {text-align: center;}#sk-container-id-3 div.sk-container {/* jupyter's `normalize.less` sets `[hidden] { display: none; }` but bootstrap.min.css set `[hidden] { display: none !important; }` so we also need the `!important` here to be able to override the default hidden behavior on the sphinx rendered scikit-learn.org. See: https://github.com/scikit-learn/scikit-learn/issues/21755 */display: inline-block !important;position: relative;}#sk-container-id-3 div.sk-text-repr-fallback {display: none;}</style><div id=\"sk-container-id-3\" class=\"sk-top-container\"><div class=\"sk-text-repr-fallback\"><pre>QuantileTransformer()</pre><b>In a Jupyter environment, please rerun this cell to show the HTML representation or trust the notebook. <br />On GitHub, the HTML representation is unable to render, please try loading this page with nbviewer.org.</b></div><div class=\"sk-container\" hidden><div class=\"sk-item\"><div class=\"sk-estimator sk-toggleable\"><input class=\"sk-toggleable__control sk-hidden--visually\" id=\"sk-estimator-id-3\" type=\"checkbox\" checked><label for=\"sk-estimator-id-3\" class=\"sk-toggleable__label sk-toggleable__label-arrow\">QuantileTransformer</label><div class=\"sk-toggleable__content\"><pre>QuantileTransformer()</pre></div></div></div></div></div>"
            ]
          },
          "metadata": {},
          "execution_count": 20
        }
      ]
    },
    {
      "cell_type": "code",
      "source": [
        "qt.fit(numerical_data)"
      ],
      "metadata": {
        "colab": {
          "base_uri": "https://localhost:8080/",
          "height": 75
        },
        "id": "W3RGomC-mCIz",
        "outputId": "f44b5d8f-3924-4ab3-a94c-5f6fe3a886f8"
      },
      "execution_count": 21,
      "outputs": [
        {
          "output_type": "execute_result",
          "data": {
            "text/plain": [
              "QuantileTransformer()"
            ],
            "text/html": [
              "<style>#sk-container-id-4 {color: black;background-color: white;}#sk-container-id-4 pre{padding: 0;}#sk-container-id-4 div.sk-toggleable {background-color: white;}#sk-container-id-4 label.sk-toggleable__label {cursor: pointer;display: block;width: 100%;margin-bottom: 0;padding: 0.3em;box-sizing: border-box;text-align: center;}#sk-container-id-4 label.sk-toggleable__label-arrow:before {content: \"▸\";float: left;margin-right: 0.25em;color: #696969;}#sk-container-id-4 label.sk-toggleable__label-arrow:hover:before {color: black;}#sk-container-id-4 div.sk-estimator:hover label.sk-toggleable__label-arrow:before {color: black;}#sk-container-id-4 div.sk-toggleable__content {max-height: 0;max-width: 0;overflow: hidden;text-align: left;background-color: #f0f8ff;}#sk-container-id-4 div.sk-toggleable__content pre {margin: 0.2em;color: black;border-radius: 0.25em;background-color: #f0f8ff;}#sk-container-id-4 input.sk-toggleable__control:checked~div.sk-toggleable__content {max-height: 200px;max-width: 100%;overflow: auto;}#sk-container-id-4 input.sk-toggleable__control:checked~label.sk-toggleable__label-arrow:before {content: \"▾\";}#sk-container-id-4 div.sk-estimator input.sk-toggleable__control:checked~label.sk-toggleable__label {background-color: #d4ebff;}#sk-container-id-4 div.sk-label input.sk-toggleable__control:checked~label.sk-toggleable__label {background-color: #d4ebff;}#sk-container-id-4 input.sk-hidden--visually {border: 0;clip: rect(1px 1px 1px 1px);clip: rect(1px, 1px, 1px, 1px);height: 1px;margin: -1px;overflow: hidden;padding: 0;position: absolute;width: 1px;}#sk-container-id-4 div.sk-estimator {font-family: monospace;background-color: #f0f8ff;border: 1px dotted black;border-radius: 0.25em;box-sizing: border-box;margin-bottom: 0.5em;}#sk-container-id-4 div.sk-estimator:hover {background-color: #d4ebff;}#sk-container-id-4 div.sk-parallel-item::after {content: \"\";width: 100%;border-bottom: 1px solid gray;flex-grow: 1;}#sk-container-id-4 div.sk-label:hover label.sk-toggleable__label {background-color: #d4ebff;}#sk-container-id-4 div.sk-serial::before {content: \"\";position: absolute;border-left: 1px solid gray;box-sizing: border-box;top: 0;bottom: 0;left: 50%;z-index: 0;}#sk-container-id-4 div.sk-serial {display: flex;flex-direction: column;align-items: center;background-color: white;padding-right: 0.2em;padding-left: 0.2em;position: relative;}#sk-container-id-4 div.sk-item {position: relative;z-index: 1;}#sk-container-id-4 div.sk-parallel {display: flex;align-items: stretch;justify-content: center;background-color: white;position: relative;}#sk-container-id-4 div.sk-item::before, #sk-container-id-4 div.sk-parallel-item::before {content: \"\";position: absolute;border-left: 1px solid gray;box-sizing: border-box;top: 0;bottom: 0;left: 50%;z-index: -1;}#sk-container-id-4 div.sk-parallel-item {display: flex;flex-direction: column;z-index: 1;position: relative;background-color: white;}#sk-container-id-4 div.sk-parallel-item:first-child::after {align-self: flex-end;width: 50%;}#sk-container-id-4 div.sk-parallel-item:last-child::after {align-self: flex-start;width: 50%;}#sk-container-id-4 div.sk-parallel-item:only-child::after {width: 0;}#sk-container-id-4 div.sk-dashed-wrapped {border: 1px dashed gray;margin: 0 0.4em 0.5em 0.4em;box-sizing: border-box;padding-bottom: 0.4em;background-color: white;}#sk-container-id-4 div.sk-label label {font-family: monospace;font-weight: bold;display: inline-block;line-height: 1.2em;}#sk-container-id-4 div.sk-label-container {text-align: center;}#sk-container-id-4 div.sk-container {/* jupyter's `normalize.less` sets `[hidden] { display: none; }` but bootstrap.min.css set `[hidden] { display: none !important; }` so we also need the `!important` here to be able to override the default hidden behavior on the sphinx rendered scikit-learn.org. See: https://github.com/scikit-learn/scikit-learn/issues/21755 */display: inline-block !important;position: relative;}#sk-container-id-4 div.sk-text-repr-fallback {display: none;}</style><div id=\"sk-container-id-4\" class=\"sk-top-container\"><div class=\"sk-text-repr-fallback\"><pre>QuantileTransformer()</pre><b>In a Jupyter environment, please rerun this cell to show the HTML representation or trust the notebook. <br />On GitHub, the HTML representation is unable to render, please try loading this page with nbviewer.org.</b></div><div class=\"sk-container\" hidden><div class=\"sk-item\"><div class=\"sk-estimator sk-toggleable\"><input class=\"sk-toggleable__control sk-hidden--visually\" id=\"sk-estimator-id-4\" type=\"checkbox\" checked><label for=\"sk-estimator-id-4\" class=\"sk-toggleable__label sk-toggleable__label-arrow\">QuantileTransformer</label><div class=\"sk-toggleable__content\"><pre>QuantileTransformer()</pre></div></div></div></div></div>"
            ]
          },
          "metadata": {},
          "execution_count": 21
        }
      ]
    },
    {
      "cell_type": "code",
      "source": [
        "numerical_data_preprocessed_qt = qt.transform(numerical_data)\n",
        "numerical_data_preprocessed_qt"
      ],
      "metadata": {
        "colab": {
          "base_uri": "https://localhost:8080/"
        },
        "id": "Yi9B4xIMmM7D",
        "outputId": "c346ef1c-5410-4f46-a007-a172533162b4"
      },
      "execution_count": 22,
      "outputs": [
        {
          "output_type": "execute_result",
          "data": {
            "text/plain": [
              "array([[0.49127345, 0.50354361, 0.50396669, ..., 0.33185546, 0.31718002,\n",
              "        0.        ],\n",
              "       [0.47609591, 0.46585513, 0.46589146, ..., 0.32795964, 0.32042546,\n",
              "        0.        ],\n",
              "       [0.53250265, 0.58020578, 0.61998942, ..., 0.4247974 , 0.42467084,\n",
              "        0.        ],\n",
              "       ...,\n",
              "       [0.74827643, 0.754896  , 0.74837895, ..., 0.69705116, 0.69913671,\n",
              "        0.72111383],\n",
              "       [0.99308562, 0.99441926, 0.99432327, ..., 0.99770842, 0.99763268,\n",
              "        0.99699725],\n",
              "       [0.99900649, 0.99906948, 0.99903549, ..., 0.9992099 , 0.99904022,\n",
              "        0.99894331]])"
            ]
          },
          "metadata": {},
          "execution_count": 22
        }
      ]
    },
    {
      "cell_type": "markdown",
      "source": [
        "Preprocesamiento con MinMaxScaler\n",
        "\n"
      ],
      "metadata": {
        "id": "iZR-Ih_XnfQA"
      }
    },
    {
      "cell_type": "code",
      "source": [
        "mms = MinMaxScaler()\n",
        "mms"
      ],
      "metadata": {
        "colab": {
          "base_uri": "https://localhost:8080/",
          "height": 75
        },
        "id": "UHTYqaoqn1BD",
        "outputId": "da1ab5ec-5688-441f-fae7-3f5ecc7c06d7"
      },
      "execution_count": 24,
      "outputs": [
        {
          "output_type": "execute_result",
          "data": {
            "text/plain": [
              "MinMaxScaler()"
            ],
            "text/html": [
              "<style>#sk-container-id-5 {color: black;background-color: white;}#sk-container-id-5 pre{padding: 0;}#sk-container-id-5 div.sk-toggleable {background-color: white;}#sk-container-id-5 label.sk-toggleable__label {cursor: pointer;display: block;width: 100%;margin-bottom: 0;padding: 0.3em;box-sizing: border-box;text-align: center;}#sk-container-id-5 label.sk-toggleable__label-arrow:before {content: \"▸\";float: left;margin-right: 0.25em;color: #696969;}#sk-container-id-5 label.sk-toggleable__label-arrow:hover:before {color: black;}#sk-container-id-5 div.sk-estimator:hover label.sk-toggleable__label-arrow:before {color: black;}#sk-container-id-5 div.sk-toggleable__content {max-height: 0;max-width: 0;overflow: hidden;text-align: left;background-color: #f0f8ff;}#sk-container-id-5 div.sk-toggleable__content pre {margin: 0.2em;color: black;border-radius: 0.25em;background-color: #f0f8ff;}#sk-container-id-5 input.sk-toggleable__control:checked~div.sk-toggleable__content {max-height: 200px;max-width: 100%;overflow: auto;}#sk-container-id-5 input.sk-toggleable__control:checked~label.sk-toggleable__label-arrow:before {content: \"▾\";}#sk-container-id-5 div.sk-estimator input.sk-toggleable__control:checked~label.sk-toggleable__label {background-color: #d4ebff;}#sk-container-id-5 div.sk-label input.sk-toggleable__control:checked~label.sk-toggleable__label {background-color: #d4ebff;}#sk-container-id-5 input.sk-hidden--visually {border: 0;clip: rect(1px 1px 1px 1px);clip: rect(1px, 1px, 1px, 1px);height: 1px;margin: -1px;overflow: hidden;padding: 0;position: absolute;width: 1px;}#sk-container-id-5 div.sk-estimator {font-family: monospace;background-color: #f0f8ff;border: 1px dotted black;border-radius: 0.25em;box-sizing: border-box;margin-bottom: 0.5em;}#sk-container-id-5 div.sk-estimator:hover {background-color: #d4ebff;}#sk-container-id-5 div.sk-parallel-item::after {content: \"\";width: 100%;border-bottom: 1px solid gray;flex-grow: 1;}#sk-container-id-5 div.sk-label:hover label.sk-toggleable__label {background-color: #d4ebff;}#sk-container-id-5 div.sk-serial::before {content: \"\";position: absolute;border-left: 1px solid gray;box-sizing: border-box;top: 0;bottom: 0;left: 50%;z-index: 0;}#sk-container-id-5 div.sk-serial {display: flex;flex-direction: column;align-items: center;background-color: white;padding-right: 0.2em;padding-left: 0.2em;position: relative;}#sk-container-id-5 div.sk-item {position: relative;z-index: 1;}#sk-container-id-5 div.sk-parallel {display: flex;align-items: stretch;justify-content: center;background-color: white;position: relative;}#sk-container-id-5 div.sk-item::before, #sk-container-id-5 div.sk-parallel-item::before {content: \"\";position: absolute;border-left: 1px solid gray;box-sizing: border-box;top: 0;bottom: 0;left: 50%;z-index: -1;}#sk-container-id-5 div.sk-parallel-item {display: flex;flex-direction: column;z-index: 1;position: relative;background-color: white;}#sk-container-id-5 div.sk-parallel-item:first-child::after {align-self: flex-end;width: 50%;}#sk-container-id-5 div.sk-parallel-item:last-child::after {align-self: flex-start;width: 50%;}#sk-container-id-5 div.sk-parallel-item:only-child::after {width: 0;}#sk-container-id-5 div.sk-dashed-wrapped {border: 1px dashed gray;margin: 0 0.4em 0.5em 0.4em;box-sizing: border-box;padding-bottom: 0.4em;background-color: white;}#sk-container-id-5 div.sk-label label {font-family: monospace;font-weight: bold;display: inline-block;line-height: 1.2em;}#sk-container-id-5 div.sk-label-container {text-align: center;}#sk-container-id-5 div.sk-container {/* jupyter's `normalize.less` sets `[hidden] { display: none; }` but bootstrap.min.css set `[hidden] { display: none !important; }` so we also need the `!important` here to be able to override the default hidden behavior on the sphinx rendered scikit-learn.org. See: https://github.com/scikit-learn/scikit-learn/issues/21755 */display: inline-block !important;position: relative;}#sk-container-id-5 div.sk-text-repr-fallback {display: none;}</style><div id=\"sk-container-id-5\" class=\"sk-top-container\"><div class=\"sk-text-repr-fallback\"><pre>MinMaxScaler()</pre><b>In a Jupyter environment, please rerun this cell to show the HTML representation or trust the notebook. <br />On GitHub, the HTML representation is unable to render, please try loading this page with nbviewer.org.</b></div><div class=\"sk-container\" hidden><div class=\"sk-item\"><div class=\"sk-estimator sk-toggleable\"><input class=\"sk-toggleable__control sk-hidden--visually\" id=\"sk-estimator-id-5\" type=\"checkbox\" checked><label for=\"sk-estimator-id-5\" class=\"sk-toggleable__label sk-toggleable__label-arrow\">MinMaxScaler</label><div class=\"sk-toggleable__content\"><pre>MinMaxScaler()</pre></div></div></div></div></div>"
            ]
          },
          "metadata": {},
          "execution_count": 24
        }
      ]
    },
    {
      "cell_type": "code",
      "source": [
        "mms.fit(numerical_data)"
      ],
      "metadata": {
        "colab": {
          "base_uri": "https://localhost:8080/",
          "height": 75
        },
        "id": "t6_ZJPERoM-C",
        "outputId": "9617d728-d6df-44e2-d80d-50c8cf9479f9"
      },
      "execution_count": 25,
      "outputs": [
        {
          "output_type": "execute_result",
          "data": {
            "text/plain": [
              "MinMaxScaler()"
            ],
            "text/html": [
              "<style>#sk-container-id-6 {color: black;background-color: white;}#sk-container-id-6 pre{padding: 0;}#sk-container-id-6 div.sk-toggleable {background-color: white;}#sk-container-id-6 label.sk-toggleable__label {cursor: pointer;display: block;width: 100%;margin-bottom: 0;padding: 0.3em;box-sizing: border-box;text-align: center;}#sk-container-id-6 label.sk-toggleable__label-arrow:before {content: \"▸\";float: left;margin-right: 0.25em;color: #696969;}#sk-container-id-6 label.sk-toggleable__label-arrow:hover:before {color: black;}#sk-container-id-6 div.sk-estimator:hover label.sk-toggleable__label-arrow:before {color: black;}#sk-container-id-6 div.sk-toggleable__content {max-height: 0;max-width: 0;overflow: hidden;text-align: left;background-color: #f0f8ff;}#sk-container-id-6 div.sk-toggleable__content pre {margin: 0.2em;color: black;border-radius: 0.25em;background-color: #f0f8ff;}#sk-container-id-6 input.sk-toggleable__control:checked~div.sk-toggleable__content {max-height: 200px;max-width: 100%;overflow: auto;}#sk-container-id-6 input.sk-toggleable__control:checked~label.sk-toggleable__label-arrow:before {content: \"▾\";}#sk-container-id-6 div.sk-estimator input.sk-toggleable__control:checked~label.sk-toggleable__label {background-color: #d4ebff;}#sk-container-id-6 div.sk-label input.sk-toggleable__control:checked~label.sk-toggleable__label {background-color: #d4ebff;}#sk-container-id-6 input.sk-hidden--visually {border: 0;clip: rect(1px 1px 1px 1px);clip: rect(1px, 1px, 1px, 1px);height: 1px;margin: -1px;overflow: hidden;padding: 0;position: absolute;width: 1px;}#sk-container-id-6 div.sk-estimator {font-family: monospace;background-color: #f0f8ff;border: 1px dotted black;border-radius: 0.25em;box-sizing: border-box;margin-bottom: 0.5em;}#sk-container-id-6 div.sk-estimator:hover {background-color: #d4ebff;}#sk-container-id-6 div.sk-parallel-item::after {content: \"\";width: 100%;border-bottom: 1px solid gray;flex-grow: 1;}#sk-container-id-6 div.sk-label:hover label.sk-toggleable__label {background-color: #d4ebff;}#sk-container-id-6 div.sk-serial::before {content: \"\";position: absolute;border-left: 1px solid gray;box-sizing: border-box;top: 0;bottom: 0;left: 50%;z-index: 0;}#sk-container-id-6 div.sk-serial {display: flex;flex-direction: column;align-items: center;background-color: white;padding-right: 0.2em;padding-left: 0.2em;position: relative;}#sk-container-id-6 div.sk-item {position: relative;z-index: 1;}#sk-container-id-6 div.sk-parallel {display: flex;align-items: stretch;justify-content: center;background-color: white;position: relative;}#sk-container-id-6 div.sk-item::before, #sk-container-id-6 div.sk-parallel-item::before {content: \"\";position: absolute;border-left: 1px solid gray;box-sizing: border-box;top: 0;bottom: 0;left: 50%;z-index: -1;}#sk-container-id-6 div.sk-parallel-item {display: flex;flex-direction: column;z-index: 1;position: relative;background-color: white;}#sk-container-id-6 div.sk-parallel-item:first-child::after {align-self: flex-end;width: 50%;}#sk-container-id-6 div.sk-parallel-item:last-child::after {align-self: flex-start;width: 50%;}#sk-container-id-6 div.sk-parallel-item:only-child::after {width: 0;}#sk-container-id-6 div.sk-dashed-wrapped {border: 1px dashed gray;margin: 0 0.4em 0.5em 0.4em;box-sizing: border-box;padding-bottom: 0.4em;background-color: white;}#sk-container-id-6 div.sk-label label {font-family: monospace;font-weight: bold;display: inline-block;line-height: 1.2em;}#sk-container-id-6 div.sk-label-container {text-align: center;}#sk-container-id-6 div.sk-container {/* jupyter's `normalize.less` sets `[hidden] { display: none; }` but bootstrap.min.css set `[hidden] { display: none !important; }` so we also need the `!important` here to be able to override the default hidden behavior on the sphinx rendered scikit-learn.org. See: https://github.com/scikit-learn/scikit-learn/issues/21755 */display: inline-block !important;position: relative;}#sk-container-id-6 div.sk-text-repr-fallback {display: none;}</style><div id=\"sk-container-id-6\" class=\"sk-top-container\"><div class=\"sk-text-repr-fallback\"><pre>MinMaxScaler()</pre><b>In a Jupyter environment, please rerun this cell to show the HTML representation or trust the notebook. <br />On GitHub, the HTML representation is unable to render, please try loading this page with nbviewer.org.</b></div><div class=\"sk-container\" hidden><div class=\"sk-item\"><div class=\"sk-estimator sk-toggleable\"><input class=\"sk-toggleable__control sk-hidden--visually\" id=\"sk-estimator-id-6\" type=\"checkbox\" checked><label for=\"sk-estimator-id-6\" class=\"sk-toggleable__label sk-toggleable__label-arrow\">MinMaxScaler</label><div class=\"sk-toggleable__content\"><pre>MinMaxScaler()</pre></div></div></div></div></div>"
            ]
          },
          "metadata": {},
          "execution_count": 25
        }
      ]
    },
    {
      "cell_type": "code",
      "source": [
        "numerical_data_preprocessed_mms = mms.transform(numerical_data)\n",
        "numerical_data_preprocessed_mms"
      ],
      "metadata": {
        "colab": {
          "base_uri": "https://localhost:8080/"
        },
        "id": "bJEL9Y18oVRi",
        "outputId": "b666f3e0-16c3-458a-97c5-ab5dbc3bcd6a"
      },
      "execution_count": 26,
      "outputs": [
        {
          "output_type": "execute_result",
          "data": {
            "text/plain": [
              "array([[2.18874055e-06, 2.30701382e-06, 2.29239188e-06, ...,\n",
              "        8.36209497e-07, 6.55586734e-07, 0.00000000e+00],\n",
              "       [1.67842557e-06, 1.37931891e-06, 1.33755432e-06, ...,\n",
              "        7.81858727e-07, 6.82637485e-07, 0.00000000e+00],\n",
              "       [3.72322444e-06, 5.67302252e-06, 8.57831271e-06, ...,\n",
              "        2.77965656e-06, 2.66965645e-06, 0.00000000e+00],\n",
              "       ...,\n",
              "       [3.89223671e-05, 3.86716614e-05, 3.81379782e-05, ...,\n",
              "        3.25785012e-05, 3.27487304e-05, 3.31022570e-05],\n",
              "       [2.68304806e-02, 2.71950105e-02, 2.73721315e-02, ...,\n",
              "        7.36180494e-02, 7.51984596e-02, 7.87639143e-02],\n",
              "       [1.37592666e-01, 1.38314902e-01, 1.40318948e-01, ...,\n",
              "        1.73691022e-01, 1.71340170e-01, 1.76179070e-01]])"
            ]
          },
          "metadata": {},
          "execution_count": 26
        }
      ]
    },
    {
      "cell_type": "markdown",
      "source": [
        "##Preprocesamiento de los datos categóricos"
      ],
      "metadata": {
        "id": "nAee4UA1qHfR"
      }
    },
    {
      "cell_type": "markdown",
      "source": [
        "Preprocesamiento con LabelEncoder"
      ],
      "metadata": {
        "id": "4oFURwIOpsR6"
      }
    },
    {
      "cell_type": "code",
      "source": [
        "le = LabelEncoder()\n",
        "le.fit(data[categorical_features]['Producto'])"
      ],
      "metadata": {
        "colab": {
          "base_uri": "https://localhost:8080/",
          "height": 75
        },
        "id": "RjkWF1TIqbO5",
        "outputId": "4899baa6-587c-4f60-ef75-b1212bdcd68c"
      },
      "execution_count": 27,
      "outputs": [
        {
          "output_type": "execute_result",
          "data": {
            "text/plain": [
              "LabelEncoder()"
            ],
            "text/html": [
              "<style>#sk-container-id-7 {color: black;background-color: white;}#sk-container-id-7 pre{padding: 0;}#sk-container-id-7 div.sk-toggleable {background-color: white;}#sk-container-id-7 label.sk-toggleable__label {cursor: pointer;display: block;width: 100%;margin-bottom: 0;padding: 0.3em;box-sizing: border-box;text-align: center;}#sk-container-id-7 label.sk-toggleable__label-arrow:before {content: \"▸\";float: left;margin-right: 0.25em;color: #696969;}#sk-container-id-7 label.sk-toggleable__label-arrow:hover:before {color: black;}#sk-container-id-7 div.sk-estimator:hover label.sk-toggleable__label-arrow:before {color: black;}#sk-container-id-7 div.sk-toggleable__content {max-height: 0;max-width: 0;overflow: hidden;text-align: left;background-color: #f0f8ff;}#sk-container-id-7 div.sk-toggleable__content pre {margin: 0.2em;color: black;border-radius: 0.25em;background-color: #f0f8ff;}#sk-container-id-7 input.sk-toggleable__control:checked~div.sk-toggleable__content {max-height: 200px;max-width: 100%;overflow: auto;}#sk-container-id-7 input.sk-toggleable__control:checked~label.sk-toggleable__label-arrow:before {content: \"▾\";}#sk-container-id-7 div.sk-estimator input.sk-toggleable__control:checked~label.sk-toggleable__label {background-color: #d4ebff;}#sk-container-id-7 div.sk-label input.sk-toggleable__control:checked~label.sk-toggleable__label {background-color: #d4ebff;}#sk-container-id-7 input.sk-hidden--visually {border: 0;clip: rect(1px 1px 1px 1px);clip: rect(1px, 1px, 1px, 1px);height: 1px;margin: -1px;overflow: hidden;padding: 0;position: absolute;width: 1px;}#sk-container-id-7 div.sk-estimator {font-family: monospace;background-color: #f0f8ff;border: 1px dotted black;border-radius: 0.25em;box-sizing: border-box;margin-bottom: 0.5em;}#sk-container-id-7 div.sk-estimator:hover {background-color: #d4ebff;}#sk-container-id-7 div.sk-parallel-item::after {content: \"\";width: 100%;border-bottom: 1px solid gray;flex-grow: 1;}#sk-container-id-7 div.sk-label:hover label.sk-toggleable__label {background-color: #d4ebff;}#sk-container-id-7 div.sk-serial::before {content: \"\";position: absolute;border-left: 1px solid gray;box-sizing: border-box;top: 0;bottom: 0;left: 50%;z-index: 0;}#sk-container-id-7 div.sk-serial {display: flex;flex-direction: column;align-items: center;background-color: white;padding-right: 0.2em;padding-left: 0.2em;position: relative;}#sk-container-id-7 div.sk-item {position: relative;z-index: 1;}#sk-container-id-7 div.sk-parallel {display: flex;align-items: stretch;justify-content: center;background-color: white;position: relative;}#sk-container-id-7 div.sk-item::before, #sk-container-id-7 div.sk-parallel-item::before {content: \"\";position: absolute;border-left: 1px solid gray;box-sizing: border-box;top: 0;bottom: 0;left: 50%;z-index: -1;}#sk-container-id-7 div.sk-parallel-item {display: flex;flex-direction: column;z-index: 1;position: relative;background-color: white;}#sk-container-id-7 div.sk-parallel-item:first-child::after {align-self: flex-end;width: 50%;}#sk-container-id-7 div.sk-parallel-item:last-child::after {align-self: flex-start;width: 50%;}#sk-container-id-7 div.sk-parallel-item:only-child::after {width: 0;}#sk-container-id-7 div.sk-dashed-wrapped {border: 1px dashed gray;margin: 0 0.4em 0.5em 0.4em;box-sizing: border-box;padding-bottom: 0.4em;background-color: white;}#sk-container-id-7 div.sk-label label {font-family: monospace;font-weight: bold;display: inline-block;line-height: 1.2em;}#sk-container-id-7 div.sk-label-container {text-align: center;}#sk-container-id-7 div.sk-container {/* jupyter's `normalize.less` sets `[hidden] { display: none; }` but bootstrap.min.css set `[hidden] { display: none !important; }` so we also need the `!important` here to be able to override the default hidden behavior on the sphinx rendered scikit-learn.org. See: https://github.com/scikit-learn/scikit-learn/issues/21755 */display: inline-block !important;position: relative;}#sk-container-id-7 div.sk-text-repr-fallback {display: none;}</style><div id=\"sk-container-id-7\" class=\"sk-top-container\"><div class=\"sk-text-repr-fallback\"><pre>LabelEncoder()</pre><b>In a Jupyter environment, please rerun this cell to show the HTML representation or trust the notebook. <br />On GitHub, the HTML representation is unable to render, please try loading this page with nbviewer.org.</b></div><div class=\"sk-container\" hidden><div class=\"sk-item\"><div class=\"sk-estimator sk-toggleable\"><input class=\"sk-toggleable__control sk-hidden--visually\" id=\"sk-estimator-id-7\" type=\"checkbox\" checked><label for=\"sk-estimator-id-7\" class=\"sk-toggleable__label sk-toggleable__label-arrow\">LabelEncoder</label><div class=\"sk-toggleable__content\"><pre>LabelEncoder()</pre></div></div></div></div></div>"
            ]
          },
          "metadata": {},
          "execution_count": 27
        }
      ]
    },
    {
      "cell_type": "code",
      "source": [
        "le.classes_"
      ],
      "metadata": {
        "colab": {
          "base_uri": "https://localhost:8080/"
        },
        "id": "KFlyRkhZqx-p",
        "outputId": "0292b3e5-52d7-43e1-97d9-8e779d6a4e14"
      },
      "execution_count": 28,
      "outputs": [
        {
          "output_type": "execute_result",
          "data": {
            "text/plain": [
              "array(['Abaca, cañamo de manila en bruto', 'Abejas',\n",
              "       'Aceite de colza, en bruto', 'Aceite de girasol, en bruto',\n",
              "       'Aceite de sésamo', 'Aceite, algodón', 'Aceite, almendra de palma',\n",
              "       'Aceite, copra', 'Aceite, cártamo, alazor', 'Aceite, linaza',\n",
              "       'Aceite, maní', 'Aceite, maíz', 'Aceite, nuez de palma',\n",
              "       'Aceite, oliva', 'Aceite, palma', 'Aceite, soja',\n",
              "       'Aceitunas, olivas', 'Agave, fibras en bruto n.c.p.', 'Aguacates',\n",
              "       'Ajo verde',\n",
              "       'Ajíes y pimientos secos (caspicum y pimenta), en bruto',\n",
              "       'Ajíes y pimientos, verdes (capsicum y pimenta)', 'Albaricoques',\n",
              "       'Alcachofas', 'Algarrobas', 'Algodón con semilla, sin desmotar',\n",
              "       'Almendra de palma', 'Almendras con cáscara', 'Alpiste',\n",
              "       'Altramuz',\n",
              "       'Anís, badiana, cilantro, comino, alcaravea, hinojo y bayas de enebro, en bruto',\n",
              "       'Arroz', 'Arándanos', 'Arándanos trepadores', 'Asnos',\n",
              "       'Avellanas con cáscara', 'Avena', 'Aves de corral', 'Azucar, caña',\n",
              "       'Azucar, remolacha',\n",
              "       'Azúcar de caña o de remolacha en bruto (solo centrifugada)',\n",
              "       'Balata, gutapercha, guayule, chicle y gomas naturales similares, en formas primarias o en placas, hojas o tiras',\n",
              "       'Bananos', 'Batatas, boniatos', 'Berenjenas', 'Bonote en bruto',\n",
              "       'Búfalo', 'Caballos', 'Café, verde',\n",
              "       'Calabazas, zapayo, calabaza confitera', 'Camellos', 'Camote',\n",
              "       'Camélidos, otros', 'Caprinos',\n",
              "       'Capullos de gusano de seda aptos para el devanado', 'Caquis',\n",
              "       'Caracoles, frescos, refrigerados, congelados, secos, salados o en salmuera, excepto caracoles marinos',\n",
              "       'Carne Ovina y de Cabra', 'Carne Vacuna y de Búfalo, primaria',\n",
              "       'Carne de Aves de Corral', 'Carne de búfalo, fresca o refrigerada',\n",
              "       'Carne de caprino, fresca o refrigerada',\n",
              "       'Carne de caza, fresca, refrigerada o congelada',\n",
              "       'Carne de conejos y liebres, fresca o refrigerada',\n",
              "       'Carne de ganado ovino, fresca o refrigerada',\n",
              "       'Carne de ganso, fresca o refrigerada',\n",
              "       'Carne de pato, fresca o refrigerada',\n",
              "       'Carne de pavo, fresca o refrigerada',\n",
              "       'Carne de pollo, fresca o refrigerada',\n",
              "       'Carne, asno, fresca o refrigerada',\n",
              "       'Carne, caballo, fresca o refrigerada',\n",
              "       'Carne, camello, fresca o refrigerada',\n",
              "       'Carne, cerdo, fresca o refrigerada',\n",
              "       'Carne, ganado vacuno, fresca o refrigerada',\n",
              "       'Carne, mula, fresca o refrigerada',\n",
              "       'Carne, otros camélidos domésticos, fresca o refrigerada',\n",
              "       'Carne, otros roedores domésticos, fresca o refrigerada',\n",
              "       'Carne, paloma y otras aves n.c.p., fresca, refrigerada o congelada',\n",
              "       'Carne, total', 'Castañas de cajú, con cáscara',\n",
              "       'Castañas, con cáscara', 'Caucho natural en forma primaria',\n",
              "       'Caupis, secos', 'Cañamón', 'Cebada',\n",
              "       'Cebollas y chalotes, secos (excepto deshidratados)',\n",
              "       'Cebollas, chalotes, verdes', 'Centeno', 'Cera de abeja',\n",
              "       'Cereales n.c.p.', 'Cereales, mezcla', 'Cereales, primarios',\n",
              "       'Cerezas', 'Cerveza de cebada, malteada', 'Ciruelas y endrinas',\n",
              "       'Clavo de olor (tallos enteros), en bruto', 'Coco, con cáscara',\n",
              "       'Coliflor y brécol', 'Colza o semillas de colza',\n",
              "       'Conejos y liebres', 'Conos de lúpulo', 'Crema fresca',\n",
              "       'Cueros y pieles en bruto de bufalo',\n",
              "       'Cueros y pieles en bruto de bufalo vacuno',\n",
              "       'Cueros y pieles en bruto de caprinos',\n",
              "       'Cueros y pieles en bruto de ovinos', 'Cultivos Azúcar en Bruto',\n",
              "       'Cultivos Fibras, equivalente de fibra',\n",
              "       'Cultivos oleaginosos, equivalente aceite',\n",
              "       'Cultivos oleaginosos, equivalente tortas',\n",
              "       'Cáñamo común, en bruto o enriado', 'Cítricos, total',\n",
              "       'Despojos comestibles de bovinos, frescos, refrigerados o congelados',\n",
              "       'Despojos comestibles de búfalos, frescos, refrigerados o congelados',\n",
              "       'Despojos comestibles de caballos y otros equinos, frescos, refrigerados o congelados',\n",
              "       'Despojos comestibles de camellos y otros camélidos, frescos, refrigerados o congelados',\n",
              "       'Despojos comestibles de caprinos, frescos, refrigerados o congelados',\n",
              "       'Despojos comestibles de cerdos, frescos, refrigerados o congelados',\n",
              "       'Despojos comestibles de ovinos, frescos, refrigerados o congelados',\n",
              "       'Digitaria', 'Dátiles', 'Esparragos', 'Espinacas',\n",
              "       'Fibra de algodón, desmotada',\n",
              "       'Flores de canela y canela, en bruto', 'Frambuesas', 'Fresas',\n",
              "       'Frijoles bambara, secos', 'Frijoles, secos', 'Frutas Primaria',\n",
              "       'Gallinas', 'Ganado vacuno', 'Gandules, secos', 'Gansos',\n",
              "       'Garbanzos secos', 'Ghee, leche de búfala', 'Ghee, leche de vaca',\n",
              "       'Gombo', 'Grano se soja', 'Granos de cacao',\n",
              "       'Grasa bovino, sin procesar', 'Grasa de búfalo, sin procesar',\n",
              "       'Grasa de camello', 'Grasa de caprino, sin procesar',\n",
              "       'Grasa de cerdo', 'Grasa de cerdo, procesada',\n",
              "       'Grasa de ovino, sin procesar',\n",
              "       'Green tea (not fermented), black tea (fermented) and partly fermented tea, in immediate packings of a content not exceeding 3 kg',\n",
              "       'Grosellas', 'Guindas', 'Guisantes, secos', 'Guisantes, verdes',\n",
              "       'Habas y haba caballar, secas', 'Habas y haba caballar, verdes',\n",
              "       'Higos', 'Hojas de té', 'Hojas de yerba mate', 'Hongos y trufas',\n",
              "       'Hortaliz Prim Exc Melon', 'Huevos Naturales',\n",
              "       'Huevos de gallina con cáscara, frescos',\n",
              "       'Huevos de otras aves con cáscara, frescos n.c.p.',\n",
              "       'Jengibre en bruto', 'Judías verdes con hilo', 'Kapok',\n",
              "       'Kapok, fibra en bruto', 'Kapok, semilla, con cascara',\n",
              "       'Kenaf y otras fibras textiles de líber, brutas o enriadas',\n",
              "       'Kiwis', 'Lana esquilada, con grasa, incluso lavada',\n",
              "       'Leche Desnat & Suero, Secas', 'Leche Evapor & Condensada',\n",
              "       'Leche cruda de búfalo', 'Leche cruda de cabra',\n",
              "       'Leche cruda de camella', 'Leche cruda de ganado bovino',\n",
              "       'Leche cruda de oveja', 'Leche descremada y suero en polvo',\n",
              "       'Leche entera en polvo', 'Leche, desnatada condensada',\n",
              "       'Leche, desnatada de vaca', 'Leche, desnatada evaporada',\n",
              "       'Leche, entera condensada', 'Leche, entera evaporada',\n",
              "       'Leche, suero de mantequilla en polvo', 'Leche, total',\n",
              "       'Lechuga y achicoria', 'Legumbres Secas, total', 'Lentejas secas',\n",
              "       'Limones y limas', 'Linaza', 'Lino, en rama o enriado',\n",
              "       'Mangos, guayabas y mangostanes', 'Mantequilla de leche de búfala',\n",
              "       'Mantequilla de leche de cabra', 'Mantequilla de leche de vaca',\n",
              "       'Mantequilla y Ghee', 'Mantequilla y ghee de leche de oveja',\n",
              "       'Manzana de acajú', 'Manzanas', 'Maní con cáscara',\n",
              "       'Margarina y grasa de cocinar', 'Maíz', 'Maíz verde (maíz)',\n",
              "       'Melazas', 'Melocotones (duraznos) y nectarinas',\n",
              "       'Melón Cantalupo y otros melones', 'Membrillos',\n",
              "       'Menta, hierbabuena', 'Miel natural', 'Mijo', 'Mulas y burdéganos',\n",
              "       'Naranjas', 'Nueces (Toda Clase), tot', 'Nueces de areca',\n",
              "       'Nueces de karité', 'Nueces de nogal con cáscara',\n",
              "       'Nueces de tung', 'Nueces del Brasil con cáscara', 'Nuez de cola',\n",
              "       'Nuez moscada, macis y cardamomo, en bruto',\n",
              "       'Otra carne n.c.p. (excluidos los mamíferos), frescos, refrigerados o congelados',\n",
              "       'Otra fruta, drupas, n.c.p.',\n",
              "       'Otras bayas y frutos del género vaccinium n.c.p.',\n",
              "       'Otras fibras textiles, en bruto, n.e.p.',\n",
              "       'Otras frutas cítricas n.c.p.', 'Otras frutas tropicales, n.c.p.',\n",
              "       'Otras frutas, n.c.p.', 'Otras frutas, pomáceas, n.c.p.',\n",
              "       'Otras hortalizas frescas n.c.p.', 'Otras judias, verdes',\n",
              "       'Otras legumbres secas n.c.p.',\n",
              "       'Otras semillas oleaginosas, n.c.p.',\n",
              "       'Otros cultivos de azúcar n.c.p.',\n",
              "       'Otros cultivos de estimulantes, especias y plantas aromáticas, n.c.p.',\n",
              "       'Otros frutos secos (excepto nueces silvestres comestibles y maní), con cáscara, n.c.p.',\n",
              "       'Ovejas y cabras', 'Ovinos', 'Papas, patatas', 'Papayas', 'Patos',\n",
              "       'Pavos', 'Pelitre, flores secas', 'Pepinos, pepinillos', 'Peras',\n",
              "       'Pimienta (Piper spp.), cruda', 'Pistachos con cáscara',\n",
              "       'Piña tropical', 'Plátanos (Verde) y bananos para cocinar',\n",
              "       'Pomelos', 'Porcinos / cerdos',\n",
              "       'Puerros y otras hortalizas aliáceas', 'Queso (Todos tipos)',\n",
              "       'Queso de leche de búfalo, fresco o procesado',\n",
              "       'Queso de leche de cabras, frescas o procesado',\n",
              "       'Queso de leche de oveja, fresca o procesado',\n",
              "       'Queso de leche desnatada de vaca',\n",
              "       'Queso de leche entera de vaca', 'Quinua',\n",
              "       'Ramio, en rama o enriado', 'Raíces de achicoria',\n",
              "       'Raíces y tubérculos comestibles con alto contenido en almidón o inulina, frescos n.c.p.',\n",
              "       'Raíces&Tubérculos, total', 'Repollos', 'Roedores, otros',\n",
              "       'Sandías', 'Sebo', 'Seda cruda (sin torcer)',\n",
              "       'Semilla de adormidera', 'Semilla de algodón',\n",
              "       'Semilla de cartamo, alazor', 'Semilla de girasol',\n",
              "       'Semilla de melón', 'Semilla de mostaza',\n",
              "       'Semilla de sésamo, ajonjolí', 'Semillas de aceite de ricino',\n",
              "       'Semillas de jojoba', 'Semillas del arbol del sebo',\n",
              "       'Sisal, crudo', 'Sorgo', 'Suero, condensado', 'Suero, en polvo',\n",
              "       'Tabaco sin elaborar', 'Tangerinas, mandarinas, clementinas',\n",
              "       'Taro (cocoyam)', 'Tomates, frescos', 'Trigo',\n",
              "       'Trigo sarraceno, alforfon', 'Triticale', 'Uva espina', 'Uvas',\n",
              "       'Vacas y búfalos', 'Vainilla en bruto', 'Veza', 'Vino', 'Yogur',\n",
              "       'Yuca, fresca', 'Yuca, hojas', 'Yute, en rama o enriado',\n",
              "       'Zanahorias y nabos', 'Ñames'], dtype=object)"
            ]
          },
          "metadata": {},
          "execution_count": 28
        }
      ]
    },
    {
      "cell_type": "code",
      "source": [
        "le.transform(data[categorical_features]['Producto'])"
      ],
      "metadata": {
        "colab": {
          "base_uri": "https://localhost:8080/"
        },
        "id": "cUmpGt_6q2-4",
        "outputId": "ac3299d5-5153-434c-8fed-fae6d3e566f2"
      },
      "execution_count": 29,
      "outputs": [
        {
          "output_type": "execute_result",
          "data": {
            "text/plain": [
              "array([  3,   4,   5, ..., 262, 262, 291])"
            ]
          },
          "metadata": {},
          "execution_count": 29
        }
      ]
    },
    {
      "cell_type": "markdown",
      "source": [
        "Preprocesamiento con OrdinalEncoder"
      ],
      "metadata": {
        "id": "-tbCRrPrrMov"
      }
    },
    {
      "cell_type": "code",
      "source": [
        "enc = OrdinalEncoder()\n",
        "enc.fit(data[categorical_features])"
      ],
      "metadata": {
        "colab": {
          "base_uri": "https://localhost:8080/",
          "height": 75
        },
        "id": "IiXMmC5IrQa5",
        "outputId": "efc6c46b-56d3-4afc-e2d0-3959c3423198"
      },
      "execution_count": 30,
      "outputs": [
        {
          "output_type": "execute_result",
          "data": {
            "text/plain": [
              "OrdinalEncoder()"
            ],
            "text/html": [
              "<style>#sk-container-id-8 {color: black;background-color: white;}#sk-container-id-8 pre{padding: 0;}#sk-container-id-8 div.sk-toggleable {background-color: white;}#sk-container-id-8 label.sk-toggleable__label {cursor: pointer;display: block;width: 100%;margin-bottom: 0;padding: 0.3em;box-sizing: border-box;text-align: center;}#sk-container-id-8 label.sk-toggleable__label-arrow:before {content: \"▸\";float: left;margin-right: 0.25em;color: #696969;}#sk-container-id-8 label.sk-toggleable__label-arrow:hover:before {color: black;}#sk-container-id-8 div.sk-estimator:hover label.sk-toggleable__label-arrow:before {color: black;}#sk-container-id-8 div.sk-toggleable__content {max-height: 0;max-width: 0;overflow: hidden;text-align: left;background-color: #f0f8ff;}#sk-container-id-8 div.sk-toggleable__content pre {margin: 0.2em;color: black;border-radius: 0.25em;background-color: #f0f8ff;}#sk-container-id-8 input.sk-toggleable__control:checked~div.sk-toggleable__content {max-height: 200px;max-width: 100%;overflow: auto;}#sk-container-id-8 input.sk-toggleable__control:checked~label.sk-toggleable__label-arrow:before {content: \"▾\";}#sk-container-id-8 div.sk-estimator input.sk-toggleable__control:checked~label.sk-toggleable__label {background-color: #d4ebff;}#sk-container-id-8 div.sk-label input.sk-toggleable__control:checked~label.sk-toggleable__label {background-color: #d4ebff;}#sk-container-id-8 input.sk-hidden--visually {border: 0;clip: rect(1px 1px 1px 1px);clip: rect(1px, 1px, 1px, 1px);height: 1px;margin: -1px;overflow: hidden;padding: 0;position: absolute;width: 1px;}#sk-container-id-8 div.sk-estimator {font-family: monospace;background-color: #f0f8ff;border: 1px dotted black;border-radius: 0.25em;box-sizing: border-box;margin-bottom: 0.5em;}#sk-container-id-8 div.sk-estimator:hover {background-color: #d4ebff;}#sk-container-id-8 div.sk-parallel-item::after {content: \"\";width: 100%;border-bottom: 1px solid gray;flex-grow: 1;}#sk-container-id-8 div.sk-label:hover label.sk-toggleable__label {background-color: #d4ebff;}#sk-container-id-8 div.sk-serial::before {content: \"\";position: absolute;border-left: 1px solid gray;box-sizing: border-box;top: 0;bottom: 0;left: 50%;z-index: 0;}#sk-container-id-8 div.sk-serial {display: flex;flex-direction: column;align-items: center;background-color: white;padding-right: 0.2em;padding-left: 0.2em;position: relative;}#sk-container-id-8 div.sk-item {position: relative;z-index: 1;}#sk-container-id-8 div.sk-parallel {display: flex;align-items: stretch;justify-content: center;background-color: white;position: relative;}#sk-container-id-8 div.sk-item::before, #sk-container-id-8 div.sk-parallel-item::before {content: \"\";position: absolute;border-left: 1px solid gray;box-sizing: border-box;top: 0;bottom: 0;left: 50%;z-index: -1;}#sk-container-id-8 div.sk-parallel-item {display: flex;flex-direction: column;z-index: 1;position: relative;background-color: white;}#sk-container-id-8 div.sk-parallel-item:first-child::after {align-self: flex-end;width: 50%;}#sk-container-id-8 div.sk-parallel-item:last-child::after {align-self: flex-start;width: 50%;}#sk-container-id-8 div.sk-parallel-item:only-child::after {width: 0;}#sk-container-id-8 div.sk-dashed-wrapped {border: 1px dashed gray;margin: 0 0.4em 0.5em 0.4em;box-sizing: border-box;padding-bottom: 0.4em;background-color: white;}#sk-container-id-8 div.sk-label label {font-family: monospace;font-weight: bold;display: inline-block;line-height: 1.2em;}#sk-container-id-8 div.sk-label-container {text-align: center;}#sk-container-id-8 div.sk-container {/* jupyter's `normalize.less` sets `[hidden] { display: none; }` but bootstrap.min.css set `[hidden] { display: none !important; }` so we also need the `!important` here to be able to override the default hidden behavior on the sphinx rendered scikit-learn.org. See: https://github.com/scikit-learn/scikit-learn/issues/21755 */display: inline-block !important;position: relative;}#sk-container-id-8 div.sk-text-repr-fallback {display: none;}</style><div id=\"sk-container-id-8\" class=\"sk-top-container\"><div class=\"sk-text-repr-fallback\"><pre>OrdinalEncoder()</pre><b>In a Jupyter environment, please rerun this cell to show the HTML representation or trust the notebook. <br />On GitHub, the HTML representation is unable to render, please try loading this page with nbviewer.org.</b></div><div class=\"sk-container\" hidden><div class=\"sk-item\"><div class=\"sk-estimator sk-toggleable\"><input class=\"sk-toggleable__control sk-hidden--visually\" id=\"sk-estimator-id-8\" type=\"checkbox\" checked><label for=\"sk-estimator-id-8\" class=\"sk-toggleable__label sk-toggleable__label-arrow\">OrdinalEncoder</label><div class=\"sk-toggleable__content\"><pre>OrdinalEncoder()</pre></div></div></div></div></div>"
            ]
          },
          "metadata": {},
          "execution_count": 30
        }
      ]
    },
    {
      "cell_type": "code",
      "source": [
        "enc.categories_"
      ],
      "metadata": {
        "colab": {
          "base_uri": "https://localhost:8080/"
        },
        "id": "IN8jVW0RrdUR",
        "outputId": "79b96e83-97f3-440c-cbbb-11bd8e1c617b"
      },
      "execution_count": 31,
      "outputs": [
        {
          "output_type": "execute_result",
          "data": {
            "text/plain": [
              "[array(['Afganistán', 'Albania', 'Alemania', 'América central',\n",
              "        'América del Sur', 'América septentrional', 'Américas', 'Angola',\n",
              "        'Antigua y Barbuda', 'Arabia Saudita', 'Argelia', 'Argentina',\n",
              "        'Armenia', 'Asia', 'Asia central', 'Asia meridional',\n",
              "        'Asia occidental', 'Asia oriental', 'Asia sudoriental',\n",
              "        'Australia', 'Australia y Nueva Zelandia', 'Austria', 'Azerbaiyán',\n",
              "        'Bahamas', 'Bahrein', 'Bangladesh', 'Barbados', 'Belarús',\n",
              "        'Belice', 'Benin', 'Bhután', 'Bolivia (Estado Plurinacional de)',\n",
              "        'Bosnia y Herzegovina', 'Botswana', 'Brasil', 'Brunei Darussalam',\n",
              "        'Bulgaria', 'Burkina Faso', 'Burundi', 'Bélgica',\n",
              "        'Bélgica-Luxemburgo', 'Cabo Verde', 'Camboya', 'Camerún', 'Canadá',\n",
              "        'Chad', 'Checoslovaq', 'Chequia', 'Chile', 'China',\n",
              "        'China, Continental', 'China, RAE de Hong Kong',\n",
              "        'China, RAE de Macao', 'China, Taiwán provincia de', 'Chipre',\n",
              "        'Colombia', 'Comoras', 'Congo', 'Costa Rica', 'Croacia', 'Cuba',\n",
              "        \"Côte d'Ivoire\", 'Dinamarca', 'Djibouti', 'Dominica', 'Ecuador',\n",
              "        'Egipto', 'El Caribe', 'El Salvador', 'Emiratos Árabes Unidos',\n",
              "        'Eritrea', 'Eslovaquia', 'Eslovenia', 'España',\n",
              "        'Estados Unidos de América', 'Estonia', 'Eswatini', 'Etiopía',\n",
              "        'Etiopía RDP', 'Europa', 'Europa meridional', 'Europa occidental',\n",
              "        'Europa oriental', 'Europa septentrional', 'Federación de Rusia',\n",
              "        'Fiji', 'Filipinas', 'Finlandia', 'Francia', 'Gabón', 'Gambia',\n",
              "        'Georgia', 'Ghana', 'Granada', 'Grecia', 'Guadalupe', 'Guatemala',\n",
              "        'Guayana Francesa', 'Guinea', 'Guinea Ecuatorial', 'Guinea-Bissau',\n",
              "        'Guyana', 'Haití', 'Honduras', 'Hungría',\n",
              "        'Import netos alim en Des', 'India', 'Indonesia', 'Iraq',\n",
              "        'Irlanda', 'Irán (República Islámica del)', 'Islandia',\n",
              "        'Islas Cook', 'Islas Feroe', 'Islas Marshall', 'Islas Salomón',\n",
              "        'Israel', 'Italia', 'Jamaica', 'Japón', 'Jordania', 'Kazajstán',\n",
              "        'Kenya', 'Kirguistán', 'Kiribati', 'Kuwait', 'Lesotho', 'Letonia',\n",
              "        'Liberia', 'Libia', 'Lituania', 'Los países menos desarrollados',\n",
              "        'Luxemburgo', 'Líbano', 'Macedonia del Norte', 'Madagascar',\n",
              "        'Malasia', 'Malawi', 'Maldivas', 'Malta', 'Malí', 'Marruecos',\n",
              "        'Martinica', 'Mauricio', 'Mauritania', 'Melanesia', 'Micronesia',\n",
              "        'Micronesia (Estados Federados de)', 'Mongolia', 'Montenegro',\n",
              "        'Mozambique', 'Mundo', 'Myanmar', 'México', 'Namibia', 'Nauru',\n",
              "        'Nepal', 'Nicaragua', 'Nigeria', 'Niue', 'Noruega',\n",
              "        'Nueva Caledonia', 'Nueva Zelandia', 'Níger', 'Oceanía', 'Omán',\n",
              "        'Pakistán', 'Palestina', 'Panamá', 'Papua Nueva Guinea',\n",
              "        'Paraguay', 'Países Bajos (Reino de los)',\n",
              "        'Países de bajos ingresos y con déficit de alim.',\n",
              "        'Países sin litoral en vías de desarrollo',\n",
              "        'Pequeñas islas en vías de Desarrollo', 'Perú', 'Polinesia',\n",
              "        'Polinesia Francesa', 'Polonia', 'Portugal', 'Puerto Rico',\n",
              "        'Qatar', 'Reino Unido de Gran Bretaña e Irlanda del Norte',\n",
              "        'República Centroafricana', 'República Democrática Popular Lao',\n",
              "        'República Democrática del Congo', 'República Dominicana',\n",
              "        'República Popular Democrática de Corea',\n",
              "        'República Unida de Tanzanía', 'República de Corea',\n",
              "        'República de Moldova', 'República Árabe Siria', 'Reunión',\n",
              "        'Rumania', 'Rwanda', 'Saint Kitts y Nevis', 'Samoa',\n",
              "        'San Vicente y las Granadinas', 'Santa Lucía',\n",
              "        'Santo Tomé y Príncipe', 'Senegal', 'Serbia',\n",
              "        'Serbia y Montenegro', 'Seychelles', 'Sierra Leona', 'Singapur',\n",
              "        'Somalia', 'Sri Lanka', 'Sudáfrica', 'Sudán', 'Sudán (ex)',\n",
              "        'Sudán del Sur', 'Suecia', 'Suiza', 'Suriname', 'Tailandia',\n",
              "        'Tayikistán', 'Timor-Leste', 'Togo', 'Tokelau', 'Tonga',\n",
              "        'Trinidad y Tabago', 'Turkmenistán', 'Turquía', 'Tuvalu', 'Túnez',\n",
              "        'URSS', 'Ucrania', 'Uganda', 'Unión Europea (27)', 'Uruguay',\n",
              "        'Uzbekistán', 'Vanuatu', 'Venezuela (República Bolivariana de)',\n",
              "        'Viet Nam', 'Yemen', 'Yugoslav RFS', 'Zambia', 'Zimbabwe',\n",
              "        'África', 'África central', 'África meridional',\n",
              "        'África occidental', 'África oriental', 'África septentrional'],\n",
              "       dtype=object),\n",
              " array(['Animales en producción/Sacrificados', 'Animales productores',\n",
              "        'Existencias', 'Ponedoras', 'Producción', 'Rendimiento',\n",
              "        'Rendimiento/Peso en carcasa', 'Reses lecheras', 'Área cosechada'],\n",
              "       dtype=object),\n",
              " array(['Abaca, cañamo de manila en bruto', 'Abejas',\n",
              "        'Aceite de colza, en bruto', 'Aceite de girasol, en bruto',\n",
              "        'Aceite de sésamo', 'Aceite, algodón', 'Aceite, almendra de palma',\n",
              "        'Aceite, copra', 'Aceite, cártamo, alazor', 'Aceite, linaza',\n",
              "        'Aceite, maní', 'Aceite, maíz', 'Aceite, nuez de palma',\n",
              "        'Aceite, oliva', 'Aceite, palma', 'Aceite, soja',\n",
              "        'Aceitunas, olivas', 'Agave, fibras en bruto n.c.p.', 'Aguacates',\n",
              "        'Ajo verde',\n",
              "        'Ajíes y pimientos secos (caspicum y pimenta), en bruto',\n",
              "        'Ajíes y pimientos, verdes (capsicum y pimenta)', 'Albaricoques',\n",
              "        'Alcachofas', 'Algarrobas', 'Algodón con semilla, sin desmotar',\n",
              "        'Almendra de palma', 'Almendras con cáscara', 'Alpiste',\n",
              "        'Altramuz',\n",
              "        'Anís, badiana, cilantro, comino, alcaravea, hinojo y bayas de enebro, en bruto',\n",
              "        'Arroz', 'Arándanos', 'Arándanos trepadores', 'Asnos',\n",
              "        'Avellanas con cáscara', 'Avena', 'Aves de corral', 'Azucar, caña',\n",
              "        'Azucar, remolacha',\n",
              "        'Azúcar de caña o de remolacha en bruto (solo centrifugada)',\n",
              "        'Balata, gutapercha, guayule, chicle y gomas naturales similares, en formas primarias o en placas, hojas o tiras',\n",
              "        'Bananos', 'Batatas, boniatos', 'Berenjenas', 'Bonote en bruto',\n",
              "        'Búfalo', 'Caballos', 'Café, verde',\n",
              "        'Calabazas, zapayo, calabaza confitera', 'Camellos', 'Camote',\n",
              "        'Camélidos, otros', 'Caprinos',\n",
              "        'Capullos de gusano de seda aptos para el devanado', 'Caquis',\n",
              "        'Caracoles, frescos, refrigerados, congelados, secos, salados o en salmuera, excepto caracoles marinos',\n",
              "        'Carne Ovina y de Cabra', 'Carne Vacuna y de Búfalo, primaria',\n",
              "        'Carne de Aves de Corral', 'Carne de búfalo, fresca o refrigerada',\n",
              "        'Carne de caprino, fresca o refrigerada',\n",
              "        'Carne de caza, fresca, refrigerada o congelada',\n",
              "        'Carne de conejos y liebres, fresca o refrigerada',\n",
              "        'Carne de ganado ovino, fresca o refrigerada',\n",
              "        'Carne de ganso, fresca o refrigerada',\n",
              "        'Carne de pato, fresca o refrigerada',\n",
              "        'Carne de pavo, fresca o refrigerada',\n",
              "        'Carne de pollo, fresca o refrigerada',\n",
              "        'Carne, asno, fresca o refrigerada',\n",
              "        'Carne, caballo, fresca o refrigerada',\n",
              "        'Carne, camello, fresca o refrigerada',\n",
              "        'Carne, cerdo, fresca o refrigerada',\n",
              "        'Carne, ganado vacuno, fresca o refrigerada',\n",
              "        'Carne, mula, fresca o refrigerada',\n",
              "        'Carne, otros camélidos domésticos, fresca o refrigerada',\n",
              "        'Carne, otros roedores domésticos, fresca o refrigerada',\n",
              "        'Carne, paloma y otras aves n.c.p., fresca, refrigerada o congelada',\n",
              "        'Carne, total', 'Castañas de cajú, con cáscara',\n",
              "        'Castañas, con cáscara', 'Caucho natural en forma primaria',\n",
              "        'Caupis, secos', 'Cañamón', 'Cebada',\n",
              "        'Cebollas y chalotes, secos (excepto deshidratados)',\n",
              "        'Cebollas, chalotes, verdes', 'Centeno', 'Cera de abeja',\n",
              "        'Cereales n.c.p.', 'Cereales, mezcla', 'Cereales, primarios',\n",
              "        'Cerezas', 'Cerveza de cebada, malteada', 'Ciruelas y endrinas',\n",
              "        'Clavo de olor (tallos enteros), en bruto', 'Coco, con cáscara',\n",
              "        'Coliflor y brécol', 'Colza o semillas de colza',\n",
              "        'Conejos y liebres', 'Conos de lúpulo', 'Crema fresca',\n",
              "        'Cueros y pieles en bruto de bufalo',\n",
              "        'Cueros y pieles en bruto de bufalo vacuno',\n",
              "        'Cueros y pieles en bruto de caprinos',\n",
              "        'Cueros y pieles en bruto de ovinos', 'Cultivos Azúcar en Bruto',\n",
              "        'Cultivos Fibras, equivalente de fibra',\n",
              "        'Cultivos oleaginosos, equivalente aceite',\n",
              "        'Cultivos oleaginosos, equivalente tortas',\n",
              "        'Cáñamo común, en bruto o enriado', 'Cítricos, total',\n",
              "        'Despojos comestibles de bovinos, frescos, refrigerados o congelados',\n",
              "        'Despojos comestibles de búfalos, frescos, refrigerados o congelados',\n",
              "        'Despojos comestibles de caballos y otros equinos, frescos, refrigerados o congelados',\n",
              "        'Despojos comestibles de camellos y otros camélidos, frescos, refrigerados o congelados',\n",
              "        'Despojos comestibles de caprinos, frescos, refrigerados o congelados',\n",
              "        'Despojos comestibles de cerdos, frescos, refrigerados o congelados',\n",
              "        'Despojos comestibles de ovinos, frescos, refrigerados o congelados',\n",
              "        'Digitaria', 'Dátiles', 'Esparragos', 'Espinacas',\n",
              "        'Fibra de algodón, desmotada',\n",
              "        'Flores de canela y canela, en bruto', 'Frambuesas', 'Fresas',\n",
              "        'Frijoles bambara, secos', 'Frijoles, secos', 'Frutas Primaria',\n",
              "        'Gallinas', 'Ganado vacuno', 'Gandules, secos', 'Gansos',\n",
              "        'Garbanzos secos', 'Ghee, leche de búfala', 'Ghee, leche de vaca',\n",
              "        'Gombo', 'Grano se soja', 'Granos de cacao',\n",
              "        'Grasa bovino, sin procesar', 'Grasa de búfalo, sin procesar',\n",
              "        'Grasa de camello', 'Grasa de caprino, sin procesar',\n",
              "        'Grasa de cerdo', 'Grasa de cerdo, procesada',\n",
              "        'Grasa de ovino, sin procesar',\n",
              "        'Green tea (not fermented), black tea (fermented) and partly fermented tea, in immediate packings of a content not exceeding 3 kg',\n",
              "        'Grosellas', 'Guindas', 'Guisantes, secos', 'Guisantes, verdes',\n",
              "        'Habas y haba caballar, secas', 'Habas y haba caballar, verdes',\n",
              "        'Higos', 'Hojas de té', 'Hojas de yerba mate', 'Hongos y trufas',\n",
              "        'Hortaliz Prim Exc Melon', 'Huevos Naturales',\n",
              "        'Huevos de gallina con cáscara, frescos',\n",
              "        'Huevos de otras aves con cáscara, frescos n.c.p.',\n",
              "        'Jengibre en bruto', 'Judías verdes con hilo', 'Kapok',\n",
              "        'Kapok, fibra en bruto', 'Kapok, semilla, con cascara',\n",
              "        'Kenaf y otras fibras textiles de líber, brutas o enriadas',\n",
              "        'Kiwis', 'Lana esquilada, con grasa, incluso lavada',\n",
              "        'Leche Desnat & Suero, Secas', 'Leche Evapor & Condensada',\n",
              "        'Leche cruda de búfalo', 'Leche cruda de cabra',\n",
              "        'Leche cruda de camella', 'Leche cruda de ganado bovino',\n",
              "        'Leche cruda de oveja', 'Leche descremada y suero en polvo',\n",
              "        'Leche entera en polvo', 'Leche, desnatada condensada',\n",
              "        'Leche, desnatada de vaca', 'Leche, desnatada evaporada',\n",
              "        'Leche, entera condensada', 'Leche, entera evaporada',\n",
              "        'Leche, suero de mantequilla en polvo', 'Leche, total',\n",
              "        'Lechuga y achicoria', 'Legumbres Secas, total', 'Lentejas secas',\n",
              "        'Limones y limas', 'Linaza', 'Lino, en rama o enriado',\n",
              "        'Mangos, guayabas y mangostanes', 'Mantequilla de leche de búfala',\n",
              "        'Mantequilla de leche de cabra', 'Mantequilla de leche de vaca',\n",
              "        'Mantequilla y Ghee', 'Mantequilla y ghee de leche de oveja',\n",
              "        'Manzana de acajú', 'Manzanas', 'Maní con cáscara',\n",
              "        'Margarina y grasa de cocinar', 'Maíz', 'Maíz verde (maíz)',\n",
              "        'Melazas', 'Melocotones (duraznos) y nectarinas',\n",
              "        'Melón Cantalupo y otros melones', 'Membrillos',\n",
              "        'Menta, hierbabuena', 'Miel natural', 'Mijo', 'Mulas y burdéganos',\n",
              "        'Naranjas', 'Nueces (Toda Clase), tot', 'Nueces de areca',\n",
              "        'Nueces de karité', 'Nueces de nogal con cáscara',\n",
              "        'Nueces de tung', 'Nueces del Brasil con cáscara', 'Nuez de cola',\n",
              "        'Nuez moscada, macis y cardamomo, en bruto',\n",
              "        'Otra carne n.c.p. (excluidos los mamíferos), frescos, refrigerados o congelados',\n",
              "        'Otra fruta, drupas, n.c.p.',\n",
              "        'Otras bayas y frutos del género vaccinium n.c.p.',\n",
              "        'Otras fibras textiles, en bruto, n.e.p.',\n",
              "        'Otras frutas cítricas n.c.p.', 'Otras frutas tropicales, n.c.p.',\n",
              "        'Otras frutas, n.c.p.', 'Otras frutas, pomáceas, n.c.p.',\n",
              "        'Otras hortalizas frescas n.c.p.', 'Otras judias, verdes',\n",
              "        'Otras legumbres secas n.c.p.',\n",
              "        'Otras semillas oleaginosas, n.c.p.',\n",
              "        'Otros cultivos de azúcar n.c.p.',\n",
              "        'Otros cultivos de estimulantes, especias y plantas aromáticas, n.c.p.',\n",
              "        'Otros frutos secos (excepto nueces silvestres comestibles y maní), con cáscara, n.c.p.',\n",
              "        'Ovejas y cabras', 'Ovinos', 'Papas, patatas', 'Papayas', 'Patos',\n",
              "        'Pavos', 'Pelitre, flores secas', 'Pepinos, pepinillos', 'Peras',\n",
              "        'Pimienta (Piper spp.), cruda', 'Pistachos con cáscara',\n",
              "        'Piña tropical', 'Plátanos (Verde) y bananos para cocinar',\n",
              "        'Pomelos', 'Porcinos / cerdos',\n",
              "        'Puerros y otras hortalizas aliáceas', 'Queso (Todos tipos)',\n",
              "        'Queso de leche de búfalo, fresco o procesado',\n",
              "        'Queso de leche de cabras, frescas o procesado',\n",
              "        'Queso de leche de oveja, fresca o procesado',\n",
              "        'Queso de leche desnatada de vaca',\n",
              "        'Queso de leche entera de vaca', 'Quinua',\n",
              "        'Ramio, en rama o enriado', 'Raíces de achicoria',\n",
              "        'Raíces y tubérculos comestibles con alto contenido en almidón o inulina, frescos n.c.p.',\n",
              "        'Raíces&Tubérculos, total', 'Repollos', 'Roedores, otros',\n",
              "        'Sandías', 'Sebo', 'Seda cruda (sin torcer)',\n",
              "        'Semilla de adormidera', 'Semilla de algodón',\n",
              "        'Semilla de cartamo, alazor', 'Semilla de girasol',\n",
              "        'Semilla de melón', 'Semilla de mostaza',\n",
              "        'Semilla de sésamo, ajonjolí', 'Semillas de aceite de ricino',\n",
              "        'Semillas de jojoba', 'Semillas del arbol del sebo',\n",
              "        'Sisal, crudo', 'Sorgo', 'Suero, condensado', 'Suero, en polvo',\n",
              "        'Tabaco sin elaborar', 'Tangerinas, mandarinas, clementinas',\n",
              "        'Taro (cocoyam)', 'Tomates, frescos', 'Trigo',\n",
              "        'Trigo sarraceno, alforfon', 'Triticale', 'Uva espina', 'Uvas',\n",
              "        'Vacas y búfalos', 'Vainilla en bruto', 'Veza', 'Vino', 'Yogur',\n",
              "        'Yuca, fresca', 'Yuca, hojas', 'Yute, en rama o enriado',\n",
              "        'Zanahorias y nabos', 'Ñames'], dtype=object),\n",
              " array(['0.1 g/An', '100 g', '100 g/Cabeza', '100 g/ha', '100 mg/Cabeza',\n",
              "        '1000 No.', '1000 cabezas', 'Cabeza', 'No.', 'No./An', 'ha',\n",
              "        'toneladas'], dtype=object)]"
            ]
          },
          "metadata": {},
          "execution_count": 31
        }
      ]
    },
    {
      "cell_type": "code",
      "source": [
        "enc.transform(data[categorical_features])"
      ],
      "metadata": {
        "colab": {
          "base_uri": "https://localhost:8080/"
        },
        "id": "S3-sSKJtrgLh",
        "outputId": "ba17982e-15f3-41b7-b2cf-eaa9ec7c682d"
      },
      "execution_count": 32,
      "outputs": [
        {
          "output_type": "execute_result",
          "data": {
            "text/plain": [
              "array([[  0.,   4.,   3.,  11.],\n",
              "       [  0.,   4.,   4.,  11.],\n",
              "       [  0.,   4.,   5.,  11.],\n",
              "       ...,\n",
              "       [105.,   5., 262.,   3.],\n",
              "       [105.,   4., 262.,  11.],\n",
              "       [105.,   2., 291.,   7.]])"
            ]
          },
          "metadata": {},
          "execution_count": 32
        }
      ]
    },
    {
      "cell_type": "markdown",
      "source": [
        "Preprocesamiento con OneHotEncoder"
      ],
      "metadata": {
        "id": "i4HX1YXzrvSg"
      }
    },
    {
      "cell_type": "code",
      "source": [
        "from sklearn.preprocessing import OneHotEncoder\n",
        "encoder = OneHotEncoder()\n",
        "encoder.fit(data[categorical_features])\n",
        "type(encoder.categories_[0])"
      ],
      "metadata": {
        "colab": {
          "base_uri": "https://localhost:8080/"
        },
        "id": "0wZY_xKEruco",
        "outputId": "92738fc8-d060-4a4c-99b0-a3d61094c2cf"
      },
      "execution_count": 38,
      "outputs": [
        {
          "output_type": "execute_result",
          "data": {
            "text/plain": [
              "numpy.ndarray"
            ]
          },
          "metadata": {},
          "execution_count": 38
        }
      ]
    },
    {
      "cell_type": "code",
      "source": [
        "encoder.categories_"
      ],
      "metadata": {
        "colab": {
          "base_uri": "https://localhost:8080/"
        },
        "id": "XH-Ai6DEwC0F",
        "outputId": "aa3498b4-ec8e-4bdf-e5c7-f0ba86c6fd57"
      },
      "execution_count": 39,
      "outputs": [
        {
          "output_type": "execute_result",
          "data": {
            "text/plain": [
              "[array(['Afganistán', 'Albania', 'Alemania', 'América central',\n",
              "        'América del Sur', 'América septentrional', 'Américas', 'Angola',\n",
              "        'Antigua y Barbuda', 'Arabia Saudita', 'Argelia', 'Argentina',\n",
              "        'Armenia', 'Asia', 'Asia central', 'Asia meridional',\n",
              "        'Asia occidental', 'Asia oriental', 'Asia sudoriental',\n",
              "        'Australia', 'Australia y Nueva Zelandia', 'Austria', 'Azerbaiyán',\n",
              "        'Bahamas', 'Bahrein', 'Bangladesh', 'Barbados', 'Belarús',\n",
              "        'Belice', 'Benin', 'Bhután', 'Bolivia (Estado Plurinacional de)',\n",
              "        'Bosnia y Herzegovina', 'Botswana', 'Brasil', 'Brunei Darussalam',\n",
              "        'Bulgaria', 'Burkina Faso', 'Burundi', 'Bélgica',\n",
              "        'Bélgica-Luxemburgo', 'Cabo Verde', 'Camboya', 'Camerún', 'Canadá',\n",
              "        'Chad', 'Checoslovaq', 'Chequia', 'Chile', 'China',\n",
              "        'China, Continental', 'China, RAE de Hong Kong',\n",
              "        'China, RAE de Macao', 'China, Taiwán provincia de', 'Chipre',\n",
              "        'Colombia', 'Comoras', 'Congo', 'Costa Rica', 'Croacia', 'Cuba',\n",
              "        \"Côte d'Ivoire\", 'Dinamarca', 'Djibouti', 'Dominica', 'Ecuador',\n",
              "        'Egipto', 'El Caribe', 'El Salvador', 'Emiratos Árabes Unidos',\n",
              "        'Eritrea', 'Eslovaquia', 'Eslovenia', 'España',\n",
              "        'Estados Unidos de América', 'Estonia', 'Eswatini', 'Etiopía',\n",
              "        'Etiopía RDP', 'Europa', 'Europa meridional', 'Europa occidental',\n",
              "        'Europa oriental', 'Europa septentrional', 'Federación de Rusia',\n",
              "        'Fiji', 'Filipinas', 'Finlandia', 'Francia', 'Gabón', 'Gambia',\n",
              "        'Georgia', 'Ghana', 'Granada', 'Grecia', 'Guadalupe', 'Guatemala',\n",
              "        'Guayana Francesa', 'Guinea', 'Guinea Ecuatorial', 'Guinea-Bissau',\n",
              "        'Guyana', 'Haití', 'Honduras', 'Hungría',\n",
              "        'Import netos alim en Des', 'India', 'Indonesia', 'Iraq',\n",
              "        'Irlanda', 'Irán (República Islámica del)', 'Islandia',\n",
              "        'Islas Cook', 'Islas Feroe', 'Islas Marshall', 'Islas Salomón',\n",
              "        'Israel', 'Italia', 'Jamaica', 'Japón', 'Jordania', 'Kazajstán',\n",
              "        'Kenya', 'Kirguistán', 'Kiribati', 'Kuwait', 'Lesotho', 'Letonia',\n",
              "        'Liberia', 'Libia', 'Lituania', 'Los países menos desarrollados',\n",
              "        'Luxemburgo', 'Líbano', 'Macedonia del Norte', 'Madagascar',\n",
              "        'Malasia', 'Malawi', 'Maldivas', 'Malta', 'Malí', 'Marruecos',\n",
              "        'Martinica', 'Mauricio', 'Mauritania', 'Melanesia', 'Micronesia',\n",
              "        'Micronesia (Estados Federados de)', 'Mongolia', 'Montenegro',\n",
              "        'Mozambique', 'Mundo', 'Myanmar', 'México', 'Namibia', 'Nauru',\n",
              "        'Nepal', 'Nicaragua', 'Nigeria', 'Niue', 'Noruega',\n",
              "        'Nueva Caledonia', 'Nueva Zelandia', 'Níger', 'Oceanía', 'Omán',\n",
              "        'Pakistán', 'Palestina', 'Panamá', 'Papua Nueva Guinea',\n",
              "        'Paraguay', 'Países Bajos (Reino de los)',\n",
              "        'Países de bajos ingresos y con déficit de alim.',\n",
              "        'Países sin litoral en vías de desarrollo',\n",
              "        'Pequeñas islas en vías de Desarrollo', 'Perú', 'Polinesia',\n",
              "        'Polinesia Francesa', 'Polonia', 'Portugal', 'Puerto Rico',\n",
              "        'Qatar', 'Reino Unido de Gran Bretaña e Irlanda del Norte',\n",
              "        'República Centroafricana', 'República Democrática Popular Lao',\n",
              "        'República Democrática del Congo', 'República Dominicana',\n",
              "        'República Popular Democrática de Corea',\n",
              "        'República Unida de Tanzanía', 'República de Corea',\n",
              "        'República de Moldova', 'República Árabe Siria', 'Reunión',\n",
              "        'Rumania', 'Rwanda', 'Saint Kitts y Nevis', 'Samoa',\n",
              "        'San Vicente y las Granadinas', 'Santa Lucía',\n",
              "        'Santo Tomé y Príncipe', 'Senegal', 'Serbia',\n",
              "        'Serbia y Montenegro', 'Seychelles', 'Sierra Leona', 'Singapur',\n",
              "        'Somalia', 'Sri Lanka', 'Sudáfrica', 'Sudán', 'Sudán (ex)',\n",
              "        'Sudán del Sur', 'Suecia', 'Suiza', 'Suriname', 'Tailandia',\n",
              "        'Tayikistán', 'Timor-Leste', 'Togo', 'Tokelau', 'Tonga',\n",
              "        'Trinidad y Tabago', 'Turkmenistán', 'Turquía', 'Tuvalu', 'Túnez',\n",
              "        'URSS', 'Ucrania', 'Uganda', 'Unión Europea (27)', 'Uruguay',\n",
              "        'Uzbekistán', 'Vanuatu', 'Venezuela (República Bolivariana de)',\n",
              "        'Viet Nam', 'Yemen', 'Yugoslav RFS', 'Zambia', 'Zimbabwe',\n",
              "        'África', 'África central', 'África meridional',\n",
              "        'África occidental', 'África oriental', 'África septentrional'],\n",
              "       dtype=object),\n",
              " array(['Animales en producción/Sacrificados', 'Animales productores',\n",
              "        'Existencias', 'Ponedoras', 'Producción', 'Rendimiento',\n",
              "        'Rendimiento/Peso en carcasa', 'Reses lecheras', 'Área cosechada'],\n",
              "       dtype=object),\n",
              " array(['Abaca, cañamo de manila en bruto', 'Abejas',\n",
              "        'Aceite de colza, en bruto', 'Aceite de girasol, en bruto',\n",
              "        'Aceite de sésamo', 'Aceite, algodón', 'Aceite, almendra de palma',\n",
              "        'Aceite, copra', 'Aceite, cártamo, alazor', 'Aceite, linaza',\n",
              "        'Aceite, maní', 'Aceite, maíz', 'Aceite, nuez de palma',\n",
              "        'Aceite, oliva', 'Aceite, palma', 'Aceite, soja',\n",
              "        'Aceitunas, olivas', 'Agave, fibras en bruto n.c.p.', 'Aguacates',\n",
              "        'Ajo verde',\n",
              "        'Ajíes y pimientos secos (caspicum y pimenta), en bruto',\n",
              "        'Ajíes y pimientos, verdes (capsicum y pimenta)', 'Albaricoques',\n",
              "        'Alcachofas', 'Algarrobas', 'Algodón con semilla, sin desmotar',\n",
              "        'Almendra de palma', 'Almendras con cáscara', 'Alpiste',\n",
              "        'Altramuz',\n",
              "        'Anís, badiana, cilantro, comino, alcaravea, hinojo y bayas de enebro, en bruto',\n",
              "        'Arroz', 'Arándanos', 'Arándanos trepadores', 'Asnos',\n",
              "        'Avellanas con cáscara', 'Avena', 'Aves de corral', 'Azucar, caña',\n",
              "        'Azucar, remolacha',\n",
              "        'Azúcar de caña o de remolacha en bruto (solo centrifugada)',\n",
              "        'Balata, gutapercha, guayule, chicle y gomas naturales similares, en formas primarias o en placas, hojas o tiras',\n",
              "        'Bananos', 'Batatas, boniatos', 'Berenjenas', 'Bonote en bruto',\n",
              "        'Búfalo', 'Caballos', 'Café, verde',\n",
              "        'Calabazas, zapayo, calabaza confitera', 'Camellos', 'Camote',\n",
              "        'Camélidos, otros', 'Caprinos',\n",
              "        'Capullos de gusano de seda aptos para el devanado', 'Caquis',\n",
              "        'Caracoles, frescos, refrigerados, congelados, secos, salados o en salmuera, excepto caracoles marinos',\n",
              "        'Carne Ovina y de Cabra', 'Carne Vacuna y de Búfalo, primaria',\n",
              "        'Carne de Aves de Corral', 'Carne de búfalo, fresca o refrigerada',\n",
              "        'Carne de caprino, fresca o refrigerada',\n",
              "        'Carne de caza, fresca, refrigerada o congelada',\n",
              "        'Carne de conejos y liebres, fresca o refrigerada',\n",
              "        'Carne de ganado ovino, fresca o refrigerada',\n",
              "        'Carne de ganso, fresca o refrigerada',\n",
              "        'Carne de pato, fresca o refrigerada',\n",
              "        'Carne de pavo, fresca o refrigerada',\n",
              "        'Carne de pollo, fresca o refrigerada',\n",
              "        'Carne, asno, fresca o refrigerada',\n",
              "        'Carne, caballo, fresca o refrigerada',\n",
              "        'Carne, camello, fresca o refrigerada',\n",
              "        'Carne, cerdo, fresca o refrigerada',\n",
              "        'Carne, ganado vacuno, fresca o refrigerada',\n",
              "        'Carne, mula, fresca o refrigerada',\n",
              "        'Carne, otros camélidos domésticos, fresca o refrigerada',\n",
              "        'Carne, otros roedores domésticos, fresca o refrigerada',\n",
              "        'Carne, paloma y otras aves n.c.p., fresca, refrigerada o congelada',\n",
              "        'Carne, total', 'Castañas de cajú, con cáscara',\n",
              "        'Castañas, con cáscara', 'Caucho natural en forma primaria',\n",
              "        'Caupis, secos', 'Cañamón', 'Cebada',\n",
              "        'Cebollas y chalotes, secos (excepto deshidratados)',\n",
              "        'Cebollas, chalotes, verdes', 'Centeno', 'Cera de abeja',\n",
              "        'Cereales n.c.p.', 'Cereales, mezcla', 'Cereales, primarios',\n",
              "        'Cerezas', 'Cerveza de cebada, malteada', 'Ciruelas y endrinas',\n",
              "        'Clavo de olor (tallos enteros), en bruto', 'Coco, con cáscara',\n",
              "        'Coliflor y brécol', 'Colza o semillas de colza',\n",
              "        'Conejos y liebres', 'Conos de lúpulo', 'Crema fresca',\n",
              "        'Cueros y pieles en bruto de bufalo',\n",
              "        'Cueros y pieles en bruto de bufalo vacuno',\n",
              "        'Cueros y pieles en bruto de caprinos',\n",
              "        'Cueros y pieles en bruto de ovinos', 'Cultivos Azúcar en Bruto',\n",
              "        'Cultivos Fibras, equivalente de fibra',\n",
              "        'Cultivos oleaginosos, equivalente aceite',\n",
              "        'Cultivos oleaginosos, equivalente tortas',\n",
              "        'Cáñamo común, en bruto o enriado', 'Cítricos, total',\n",
              "        'Despojos comestibles de bovinos, frescos, refrigerados o congelados',\n",
              "        'Despojos comestibles de búfalos, frescos, refrigerados o congelados',\n",
              "        'Despojos comestibles de caballos y otros equinos, frescos, refrigerados o congelados',\n",
              "        'Despojos comestibles de camellos y otros camélidos, frescos, refrigerados o congelados',\n",
              "        'Despojos comestibles de caprinos, frescos, refrigerados o congelados',\n",
              "        'Despojos comestibles de cerdos, frescos, refrigerados o congelados',\n",
              "        'Despojos comestibles de ovinos, frescos, refrigerados o congelados',\n",
              "        'Digitaria', 'Dátiles', 'Esparragos', 'Espinacas',\n",
              "        'Fibra de algodón, desmotada',\n",
              "        'Flores de canela y canela, en bruto', 'Frambuesas', 'Fresas',\n",
              "        'Frijoles bambara, secos', 'Frijoles, secos', 'Frutas Primaria',\n",
              "        'Gallinas', 'Ganado vacuno', 'Gandules, secos', 'Gansos',\n",
              "        'Garbanzos secos', 'Ghee, leche de búfala', 'Ghee, leche de vaca',\n",
              "        'Gombo', 'Grano se soja', 'Granos de cacao',\n",
              "        'Grasa bovino, sin procesar', 'Grasa de búfalo, sin procesar',\n",
              "        'Grasa de camello', 'Grasa de caprino, sin procesar',\n",
              "        'Grasa de cerdo', 'Grasa de cerdo, procesada',\n",
              "        'Grasa de ovino, sin procesar',\n",
              "        'Green tea (not fermented), black tea (fermented) and partly fermented tea, in immediate packings of a content not exceeding 3 kg',\n",
              "        'Grosellas', 'Guindas', 'Guisantes, secos', 'Guisantes, verdes',\n",
              "        'Habas y haba caballar, secas', 'Habas y haba caballar, verdes',\n",
              "        'Higos', 'Hojas de té', 'Hojas de yerba mate', 'Hongos y trufas',\n",
              "        'Hortaliz Prim Exc Melon', 'Huevos Naturales',\n",
              "        'Huevos de gallina con cáscara, frescos',\n",
              "        'Huevos de otras aves con cáscara, frescos n.c.p.',\n",
              "        'Jengibre en bruto', 'Judías verdes con hilo', 'Kapok',\n",
              "        'Kapok, fibra en bruto', 'Kapok, semilla, con cascara',\n",
              "        'Kenaf y otras fibras textiles de líber, brutas o enriadas',\n",
              "        'Kiwis', 'Lana esquilada, con grasa, incluso lavada',\n",
              "        'Leche Desnat & Suero, Secas', 'Leche Evapor & Condensada',\n",
              "        'Leche cruda de búfalo', 'Leche cruda de cabra',\n",
              "        'Leche cruda de camella', 'Leche cruda de ganado bovino',\n",
              "        'Leche cruda de oveja', 'Leche descremada y suero en polvo',\n",
              "        'Leche entera en polvo', 'Leche, desnatada condensada',\n",
              "        'Leche, desnatada de vaca', 'Leche, desnatada evaporada',\n",
              "        'Leche, entera condensada', 'Leche, entera evaporada',\n",
              "        'Leche, suero de mantequilla en polvo', 'Leche, total',\n",
              "        'Lechuga y achicoria', 'Legumbres Secas, total', 'Lentejas secas',\n",
              "        'Limones y limas', 'Linaza', 'Lino, en rama o enriado',\n",
              "        'Mangos, guayabas y mangostanes', 'Mantequilla de leche de búfala',\n",
              "        'Mantequilla de leche de cabra', 'Mantequilla de leche de vaca',\n",
              "        'Mantequilla y Ghee', 'Mantequilla y ghee de leche de oveja',\n",
              "        'Manzana de acajú', 'Manzanas', 'Maní con cáscara',\n",
              "        'Margarina y grasa de cocinar', 'Maíz', 'Maíz verde (maíz)',\n",
              "        'Melazas', 'Melocotones (duraznos) y nectarinas',\n",
              "        'Melón Cantalupo y otros melones', 'Membrillos',\n",
              "        'Menta, hierbabuena', 'Miel natural', 'Mijo', 'Mulas y burdéganos',\n",
              "        'Naranjas', 'Nueces (Toda Clase), tot', 'Nueces de areca',\n",
              "        'Nueces de karité', 'Nueces de nogal con cáscara',\n",
              "        'Nueces de tung', 'Nueces del Brasil con cáscara', 'Nuez de cola',\n",
              "        'Nuez moscada, macis y cardamomo, en bruto',\n",
              "        'Otra carne n.c.p. (excluidos los mamíferos), frescos, refrigerados o congelados',\n",
              "        'Otra fruta, drupas, n.c.p.',\n",
              "        'Otras bayas y frutos del género vaccinium n.c.p.',\n",
              "        'Otras fibras textiles, en bruto, n.e.p.',\n",
              "        'Otras frutas cítricas n.c.p.', 'Otras frutas tropicales, n.c.p.',\n",
              "        'Otras frutas, n.c.p.', 'Otras frutas, pomáceas, n.c.p.',\n",
              "        'Otras hortalizas frescas n.c.p.', 'Otras judias, verdes',\n",
              "        'Otras legumbres secas n.c.p.',\n",
              "        'Otras semillas oleaginosas, n.c.p.',\n",
              "        'Otros cultivos de azúcar n.c.p.',\n",
              "        'Otros cultivos de estimulantes, especias y plantas aromáticas, n.c.p.',\n",
              "        'Otros frutos secos (excepto nueces silvestres comestibles y maní), con cáscara, n.c.p.',\n",
              "        'Ovejas y cabras', 'Ovinos', 'Papas, patatas', 'Papayas', 'Patos',\n",
              "        'Pavos', 'Pelitre, flores secas', 'Pepinos, pepinillos', 'Peras',\n",
              "        'Pimienta (Piper spp.), cruda', 'Pistachos con cáscara',\n",
              "        'Piña tropical', 'Plátanos (Verde) y bananos para cocinar',\n",
              "        'Pomelos', 'Porcinos / cerdos',\n",
              "        'Puerros y otras hortalizas aliáceas', 'Queso (Todos tipos)',\n",
              "        'Queso de leche de búfalo, fresco o procesado',\n",
              "        'Queso de leche de cabras, frescas o procesado',\n",
              "        'Queso de leche de oveja, fresca o procesado',\n",
              "        'Queso de leche desnatada de vaca',\n",
              "        'Queso de leche entera de vaca', 'Quinua',\n",
              "        'Ramio, en rama o enriado', 'Raíces de achicoria',\n",
              "        'Raíces y tubérculos comestibles con alto contenido en almidón o inulina, frescos n.c.p.',\n",
              "        'Raíces&Tubérculos, total', 'Repollos', 'Roedores, otros',\n",
              "        'Sandías', 'Sebo', 'Seda cruda (sin torcer)',\n",
              "        'Semilla de adormidera', 'Semilla de algodón',\n",
              "        'Semilla de cartamo, alazor', 'Semilla de girasol',\n",
              "        'Semilla de melón', 'Semilla de mostaza',\n",
              "        'Semilla de sésamo, ajonjolí', 'Semillas de aceite de ricino',\n",
              "        'Semillas de jojoba', 'Semillas del arbol del sebo',\n",
              "        'Sisal, crudo', 'Sorgo', 'Suero, condensado', 'Suero, en polvo',\n",
              "        'Tabaco sin elaborar', 'Tangerinas, mandarinas, clementinas',\n",
              "        'Taro (cocoyam)', 'Tomates, frescos', 'Trigo',\n",
              "        'Trigo sarraceno, alforfon', 'Triticale', 'Uva espina', 'Uvas',\n",
              "        'Vacas y búfalos', 'Vainilla en bruto', 'Veza', 'Vino', 'Yogur',\n",
              "        'Yuca, fresca', 'Yuca, hojas', 'Yute, en rama o enriado',\n",
              "        'Zanahorias y nabos', 'Ñames'], dtype=object),\n",
              " array(['0.1 g/An', '100 g', '100 g/Cabeza', '100 g/ha', '100 mg/Cabeza',\n",
              "        '1000 No.', '1000 cabezas', 'Cabeza', 'No.', 'No./An', 'ha',\n",
              "        'toneladas'], dtype=object)]"
            ]
          },
          "metadata": {},
          "execution_count": 39
        }
      ]
    },
    {
      "cell_type": "code",
      "source": [
        "pca = PCA(n_components=2)\n",
        "pca"
      ],
      "metadata": {
        "colab": {
          "base_uri": "https://localhost:8080/",
          "height": 75
        },
        "id": "nHd5fQVJ0Mek",
        "outputId": "557d60f6-f712-4665-f0c1-75e37ce2088f"
      },
      "execution_count": 47,
      "outputs": [
        {
          "output_type": "execute_result",
          "data": {
            "text/plain": [
              "PCA(n_components=2)"
            ],
            "text/html": [
              "<style>#sk-container-id-10 {color: black;background-color: white;}#sk-container-id-10 pre{padding: 0;}#sk-container-id-10 div.sk-toggleable {background-color: white;}#sk-container-id-10 label.sk-toggleable__label {cursor: pointer;display: block;width: 100%;margin-bottom: 0;padding: 0.3em;box-sizing: border-box;text-align: center;}#sk-container-id-10 label.sk-toggleable__label-arrow:before {content: \"▸\";float: left;margin-right: 0.25em;color: #696969;}#sk-container-id-10 label.sk-toggleable__label-arrow:hover:before {color: black;}#sk-container-id-10 div.sk-estimator:hover label.sk-toggleable__label-arrow:before {color: black;}#sk-container-id-10 div.sk-toggleable__content {max-height: 0;max-width: 0;overflow: hidden;text-align: left;background-color: #f0f8ff;}#sk-container-id-10 div.sk-toggleable__content pre {margin: 0.2em;color: black;border-radius: 0.25em;background-color: #f0f8ff;}#sk-container-id-10 input.sk-toggleable__control:checked~div.sk-toggleable__content {max-height: 200px;max-width: 100%;overflow: auto;}#sk-container-id-10 input.sk-toggleable__control:checked~label.sk-toggleable__label-arrow:before {content: \"▾\";}#sk-container-id-10 div.sk-estimator input.sk-toggleable__control:checked~label.sk-toggleable__label {background-color: #d4ebff;}#sk-container-id-10 div.sk-label input.sk-toggleable__control:checked~label.sk-toggleable__label {background-color: #d4ebff;}#sk-container-id-10 input.sk-hidden--visually {border: 0;clip: rect(1px 1px 1px 1px);clip: rect(1px, 1px, 1px, 1px);height: 1px;margin: -1px;overflow: hidden;padding: 0;position: absolute;width: 1px;}#sk-container-id-10 div.sk-estimator {font-family: monospace;background-color: #f0f8ff;border: 1px dotted black;border-radius: 0.25em;box-sizing: border-box;margin-bottom: 0.5em;}#sk-container-id-10 div.sk-estimator:hover {background-color: #d4ebff;}#sk-container-id-10 div.sk-parallel-item::after {content: \"\";width: 100%;border-bottom: 1px solid gray;flex-grow: 1;}#sk-container-id-10 div.sk-label:hover label.sk-toggleable__label {background-color: #d4ebff;}#sk-container-id-10 div.sk-serial::before {content: \"\";position: absolute;border-left: 1px solid gray;box-sizing: border-box;top: 0;bottom: 0;left: 50%;z-index: 0;}#sk-container-id-10 div.sk-serial {display: flex;flex-direction: column;align-items: center;background-color: white;padding-right: 0.2em;padding-left: 0.2em;position: relative;}#sk-container-id-10 div.sk-item {position: relative;z-index: 1;}#sk-container-id-10 div.sk-parallel {display: flex;align-items: stretch;justify-content: center;background-color: white;position: relative;}#sk-container-id-10 div.sk-item::before, #sk-container-id-10 div.sk-parallel-item::before {content: \"\";position: absolute;border-left: 1px solid gray;box-sizing: border-box;top: 0;bottom: 0;left: 50%;z-index: -1;}#sk-container-id-10 div.sk-parallel-item {display: flex;flex-direction: column;z-index: 1;position: relative;background-color: white;}#sk-container-id-10 div.sk-parallel-item:first-child::after {align-self: flex-end;width: 50%;}#sk-container-id-10 div.sk-parallel-item:last-child::after {align-self: flex-start;width: 50%;}#sk-container-id-10 div.sk-parallel-item:only-child::after {width: 0;}#sk-container-id-10 div.sk-dashed-wrapped {border: 1px dashed gray;margin: 0 0.4em 0.5em 0.4em;box-sizing: border-box;padding-bottom: 0.4em;background-color: white;}#sk-container-id-10 div.sk-label label {font-family: monospace;font-weight: bold;display: inline-block;line-height: 1.2em;}#sk-container-id-10 div.sk-label-container {text-align: center;}#sk-container-id-10 div.sk-container {/* jupyter's `normalize.less` sets `[hidden] { display: none; }` but bootstrap.min.css set `[hidden] { display: none !important; }` so we also need the `!important` here to be able to override the default hidden behavior on the sphinx rendered scikit-learn.org. See: https://github.com/scikit-learn/scikit-learn/issues/21755 */display: inline-block !important;position: relative;}#sk-container-id-10 div.sk-text-repr-fallback {display: none;}</style><div id=\"sk-container-id-10\" class=\"sk-top-container\"><div class=\"sk-text-repr-fallback\"><pre>PCA(n_components=2)</pre><b>In a Jupyter environment, please rerun this cell to show the HTML representation or trust the notebook. <br />On GitHub, the HTML representation is unable to render, please try loading this page with nbviewer.org.</b></div><div class=\"sk-container\" hidden><div class=\"sk-item\"><div class=\"sk-estimator sk-toggleable\"><input class=\"sk-toggleable__control sk-hidden--visually\" id=\"sk-estimator-id-10\" type=\"checkbox\" checked><label for=\"sk-estimator-id-10\" class=\"sk-toggleable__label sk-toggleable__label-arrow\">PCA</label><div class=\"sk-toggleable__content\"><pre>PCA(n_components=2)</pre></div></div></div></div></div>"
            ]
          },
          "metadata": {},
          "execution_count": 47
        }
      ]
    },
    {
      "cell_type": "code",
      "source": [
        "pd.DataFrame(numerical_data_preprocessed).isnull().sum().sum()"
      ],
      "metadata": {
        "colab": {
          "base_uri": "https://localhost:8080/"
        },
        "id": "b3YsZgd30PZ8",
        "outputId": "c388eceb-9b90-4914-cd31-5a9de0829cd4"
      },
      "execution_count": 48,
      "outputs": [
        {
          "output_type": "execute_result",
          "data": {
            "text/plain": [
              "0"
            ]
          },
          "metadata": {},
          "execution_count": 48
        }
      ]
    },
    {
      "cell_type": "code",
      "source": [
        "pd.DataFrame(numerical_data_preprocessed)"
      ],
      "metadata": {
        "colab": {
          "base_uri": "https://localhost:8080/",
          "height": 424
        },
        "id": "u73GsB6C0Vdc",
        "outputId": "5c134667-177d-46a7-b046-c73da442ab2e"
      },
      "execution_count": 49,
      "outputs": [
        {
          "output_type": "execute_result",
          "data": {
            "text/plain": [
              "              0          1          2          3          4          5   \\\n",
              "0      -0.081702  -0.082073  -0.082315  -0.082277  -0.082194  -0.082140   \n",
              "1      -0.081753  -0.082165  -0.082408  -0.082306  -0.082223  -0.082159   \n",
              "2      -0.081550  -0.081740  -0.081700  -0.081942  -0.081876  -0.081940   \n",
              "3      -0.081658  -0.082032  -0.082335  -0.082260  -0.082120  -0.082037   \n",
              "4      -0.081914  -0.082295  -0.082533  -0.082488  -0.082409  -0.082362   \n",
              "...          ...        ...        ...        ...        ...        ...   \n",
              "79601  -0.060297  -0.060805  -0.060873  -0.060994  -0.059809  -0.060203   \n",
              "79602   0.428970   0.429705   0.430546   0.417933   0.423657   0.403638   \n",
              "79603  -0.078048  -0.078472  -0.078807  -0.078816  -0.078763  -0.078782   \n",
              "79604   2.587097   2.610680   2.595855   2.570517   2.637321   2.550266   \n",
              "79605  13.605390  13.614309  13.647827  13.765660  13.770968  13.753919   \n",
              "\n",
              "              6          7          8          9   ...         52         53  \\\n",
              "0      -0.082347  -0.082440  -0.082589  -0.082847  ...  -0.083319  -0.083813   \n",
              "1      -0.082353  -0.082437  -0.082606  -0.082844  ...  -0.083283  -0.083804   \n",
              "2      -0.082079  -0.082307  -0.082346  -0.082571  ...  -0.083181  -0.083698   \n",
              "3      -0.082248  -0.082506  -0.082629  -0.082709  ...  -0.083301  -0.083818   \n",
              "4      -0.082564  -0.082659  -0.082816  -0.083055  ...  -0.083307  -0.083821   \n",
              "...          ...        ...        ...        ...  ...        ...        ...   \n",
              "79601  -0.060505  -0.059711  -0.060104  -0.060268  ...  -0.039989  -0.040144   \n",
              "79602   0.406427   0.405699   0.434747   0.454713  ...   0.501966   0.491864   \n",
              "79603  -0.078991  -0.079136  -0.079351  -0.079645  ...  -0.080518  -0.081060   \n",
              "79604   2.622813   2.622291   2.737772   2.858009  ...   5.406946   5.326953   \n",
              "79605  13.774183  13.880757  14.038732  13.956258  ...  13.586989  13.770476   \n",
              "\n",
              "              54         55         56         57         58         59  \\\n",
              "0      -0.083737  -0.083825  -0.084272  -0.084278  -0.085119  -0.085560   \n",
              "1      -0.083742  -0.083847  -0.084331  -0.084334  -0.085168  -0.085565   \n",
              "2      -0.083600  -0.083686  -0.084243  -0.084184  -0.084973  -0.085394   \n",
              "3      -0.083610  -0.083348  -0.083799  -0.083654  -0.084434  -0.085177   \n",
              "4      -0.083746  -0.083856  -0.084341  -0.084346  -0.085185  -0.085611   \n",
              "...          ...        ...        ...        ...        ...        ...   \n",
              "79601  -0.040315  -0.041174  -0.041465  -0.041057  -0.044822  -0.045265   \n",
              "79602   0.500675   0.513515   0.531943   0.535514   0.528374   0.557226   \n",
              "79603  -0.081005  -0.081179  -0.081741  -0.081626  -0.082370  -0.082848   \n",
              "79604   5.426775   5.489880   5.566716   5.902303   6.025299   6.205007   \n",
              "79605  13.914881  14.057226  14.040276  13.971335  14.335739  14.756211   \n",
              "\n",
              "              60         61  \n",
              "0      -0.085182  -0.083119  \n",
              "1      -0.085179  -0.083119  \n",
              "2      -0.085011  -0.083119  \n",
              "3      -0.084989  -0.083119  \n",
              "4      -0.085217  -0.083119  \n",
              "...          ...        ...  \n",
              "79601  -0.048367  -0.083119  \n",
              "79602   0.550519   0.562238  \n",
              "79603  -0.082453  -0.080372  \n",
              "79604   6.309201   6.453145  \n",
              "79605  14.484531  14.537192  \n",
              "\n",
              "[79606 rows x 62 columns]"
            ],
            "text/html": [
              "\n",
              "  <div id=\"df-c9274e97-2c6c-4a79-9dd4-37c4c7034360\" class=\"colab-df-container\">\n",
              "    <div>\n",
              "<style scoped>\n",
              "    .dataframe tbody tr th:only-of-type {\n",
              "        vertical-align: middle;\n",
              "    }\n",
              "\n",
              "    .dataframe tbody tr th {\n",
              "        vertical-align: top;\n",
              "    }\n",
              "\n",
              "    .dataframe thead th {\n",
              "        text-align: right;\n",
              "    }\n",
              "</style>\n",
              "<table border=\"1\" class=\"dataframe\">\n",
              "  <thead>\n",
              "    <tr style=\"text-align: right;\">\n",
              "      <th></th>\n",
              "      <th>0</th>\n",
              "      <th>1</th>\n",
              "      <th>2</th>\n",
              "      <th>3</th>\n",
              "      <th>4</th>\n",
              "      <th>5</th>\n",
              "      <th>6</th>\n",
              "      <th>7</th>\n",
              "      <th>8</th>\n",
              "      <th>9</th>\n",
              "      <th>...</th>\n",
              "      <th>52</th>\n",
              "      <th>53</th>\n",
              "      <th>54</th>\n",
              "      <th>55</th>\n",
              "      <th>56</th>\n",
              "      <th>57</th>\n",
              "      <th>58</th>\n",
              "      <th>59</th>\n",
              "      <th>60</th>\n",
              "      <th>61</th>\n",
              "    </tr>\n",
              "  </thead>\n",
              "  <tbody>\n",
              "    <tr>\n",
              "      <th>0</th>\n",
              "      <td>-0.081702</td>\n",
              "      <td>-0.082073</td>\n",
              "      <td>-0.082315</td>\n",
              "      <td>-0.082277</td>\n",
              "      <td>-0.082194</td>\n",
              "      <td>-0.082140</td>\n",
              "      <td>-0.082347</td>\n",
              "      <td>-0.082440</td>\n",
              "      <td>-0.082589</td>\n",
              "      <td>-0.082847</td>\n",
              "      <td>...</td>\n",
              "      <td>-0.083319</td>\n",
              "      <td>-0.083813</td>\n",
              "      <td>-0.083737</td>\n",
              "      <td>-0.083825</td>\n",
              "      <td>-0.084272</td>\n",
              "      <td>-0.084278</td>\n",
              "      <td>-0.085119</td>\n",
              "      <td>-0.085560</td>\n",
              "      <td>-0.085182</td>\n",
              "      <td>-0.083119</td>\n",
              "    </tr>\n",
              "    <tr>\n",
              "      <th>1</th>\n",
              "      <td>-0.081753</td>\n",
              "      <td>-0.082165</td>\n",
              "      <td>-0.082408</td>\n",
              "      <td>-0.082306</td>\n",
              "      <td>-0.082223</td>\n",
              "      <td>-0.082159</td>\n",
              "      <td>-0.082353</td>\n",
              "      <td>-0.082437</td>\n",
              "      <td>-0.082606</td>\n",
              "      <td>-0.082844</td>\n",
              "      <td>...</td>\n",
              "      <td>-0.083283</td>\n",
              "      <td>-0.083804</td>\n",
              "      <td>-0.083742</td>\n",
              "      <td>-0.083847</td>\n",
              "      <td>-0.084331</td>\n",
              "      <td>-0.084334</td>\n",
              "      <td>-0.085168</td>\n",
              "      <td>-0.085565</td>\n",
              "      <td>-0.085179</td>\n",
              "      <td>-0.083119</td>\n",
              "    </tr>\n",
              "    <tr>\n",
              "      <th>2</th>\n",
              "      <td>-0.081550</td>\n",
              "      <td>-0.081740</td>\n",
              "      <td>-0.081700</td>\n",
              "      <td>-0.081942</td>\n",
              "      <td>-0.081876</td>\n",
              "      <td>-0.081940</td>\n",
              "      <td>-0.082079</td>\n",
              "      <td>-0.082307</td>\n",
              "      <td>-0.082346</td>\n",
              "      <td>-0.082571</td>\n",
              "      <td>...</td>\n",
              "      <td>-0.083181</td>\n",
              "      <td>-0.083698</td>\n",
              "      <td>-0.083600</td>\n",
              "      <td>-0.083686</td>\n",
              "      <td>-0.084243</td>\n",
              "      <td>-0.084184</td>\n",
              "      <td>-0.084973</td>\n",
              "      <td>-0.085394</td>\n",
              "      <td>-0.085011</td>\n",
              "      <td>-0.083119</td>\n",
              "    </tr>\n",
              "    <tr>\n",
              "      <th>3</th>\n",
              "      <td>-0.081658</td>\n",
              "      <td>-0.082032</td>\n",
              "      <td>-0.082335</td>\n",
              "      <td>-0.082260</td>\n",
              "      <td>-0.082120</td>\n",
              "      <td>-0.082037</td>\n",
              "      <td>-0.082248</td>\n",
              "      <td>-0.082506</td>\n",
              "      <td>-0.082629</td>\n",
              "      <td>-0.082709</td>\n",
              "      <td>...</td>\n",
              "      <td>-0.083301</td>\n",
              "      <td>-0.083818</td>\n",
              "      <td>-0.083610</td>\n",
              "      <td>-0.083348</td>\n",
              "      <td>-0.083799</td>\n",
              "      <td>-0.083654</td>\n",
              "      <td>-0.084434</td>\n",
              "      <td>-0.085177</td>\n",
              "      <td>-0.084989</td>\n",
              "      <td>-0.083119</td>\n",
              "    </tr>\n",
              "    <tr>\n",
              "      <th>4</th>\n",
              "      <td>-0.081914</td>\n",
              "      <td>-0.082295</td>\n",
              "      <td>-0.082533</td>\n",
              "      <td>-0.082488</td>\n",
              "      <td>-0.082409</td>\n",
              "      <td>-0.082362</td>\n",
              "      <td>-0.082564</td>\n",
              "      <td>-0.082659</td>\n",
              "      <td>-0.082816</td>\n",
              "      <td>-0.083055</td>\n",
              "      <td>...</td>\n",
              "      <td>-0.083307</td>\n",
              "      <td>-0.083821</td>\n",
              "      <td>-0.083746</td>\n",
              "      <td>-0.083856</td>\n",
              "      <td>-0.084341</td>\n",
              "      <td>-0.084346</td>\n",
              "      <td>-0.085185</td>\n",
              "      <td>-0.085611</td>\n",
              "      <td>-0.085217</td>\n",
              "      <td>-0.083119</td>\n",
              "    </tr>\n",
              "    <tr>\n",
              "      <th>...</th>\n",
              "      <td>...</td>\n",
              "      <td>...</td>\n",
              "      <td>...</td>\n",
              "      <td>...</td>\n",
              "      <td>...</td>\n",
              "      <td>...</td>\n",
              "      <td>...</td>\n",
              "      <td>...</td>\n",
              "      <td>...</td>\n",
              "      <td>...</td>\n",
              "      <td>...</td>\n",
              "      <td>...</td>\n",
              "      <td>...</td>\n",
              "      <td>...</td>\n",
              "      <td>...</td>\n",
              "      <td>...</td>\n",
              "      <td>...</td>\n",
              "      <td>...</td>\n",
              "      <td>...</td>\n",
              "      <td>...</td>\n",
              "      <td>...</td>\n",
              "    </tr>\n",
              "    <tr>\n",
              "      <th>79601</th>\n",
              "      <td>-0.060297</td>\n",
              "      <td>-0.060805</td>\n",
              "      <td>-0.060873</td>\n",
              "      <td>-0.060994</td>\n",
              "      <td>-0.059809</td>\n",
              "      <td>-0.060203</td>\n",
              "      <td>-0.060505</td>\n",
              "      <td>-0.059711</td>\n",
              "      <td>-0.060104</td>\n",
              "      <td>-0.060268</td>\n",
              "      <td>...</td>\n",
              "      <td>-0.039989</td>\n",
              "      <td>-0.040144</td>\n",
              "      <td>-0.040315</td>\n",
              "      <td>-0.041174</td>\n",
              "      <td>-0.041465</td>\n",
              "      <td>-0.041057</td>\n",
              "      <td>-0.044822</td>\n",
              "      <td>-0.045265</td>\n",
              "      <td>-0.048367</td>\n",
              "      <td>-0.083119</td>\n",
              "    </tr>\n",
              "    <tr>\n",
              "      <th>79602</th>\n",
              "      <td>0.428970</td>\n",
              "      <td>0.429705</td>\n",
              "      <td>0.430546</td>\n",
              "      <td>0.417933</td>\n",
              "      <td>0.423657</td>\n",
              "      <td>0.403638</td>\n",
              "      <td>0.406427</td>\n",
              "      <td>0.405699</td>\n",
              "      <td>0.434747</td>\n",
              "      <td>0.454713</td>\n",
              "      <td>...</td>\n",
              "      <td>0.501966</td>\n",
              "      <td>0.491864</td>\n",
              "      <td>0.500675</td>\n",
              "      <td>0.513515</td>\n",
              "      <td>0.531943</td>\n",
              "      <td>0.535514</td>\n",
              "      <td>0.528374</td>\n",
              "      <td>0.557226</td>\n",
              "      <td>0.550519</td>\n",
              "      <td>0.562238</td>\n",
              "    </tr>\n",
              "    <tr>\n",
              "      <th>79603</th>\n",
              "      <td>-0.078048</td>\n",
              "      <td>-0.078472</td>\n",
              "      <td>-0.078807</td>\n",
              "      <td>-0.078816</td>\n",
              "      <td>-0.078763</td>\n",
              "      <td>-0.078782</td>\n",
              "      <td>-0.078991</td>\n",
              "      <td>-0.079136</td>\n",
              "      <td>-0.079351</td>\n",
              "      <td>-0.079645</td>\n",
              "      <td>...</td>\n",
              "      <td>-0.080518</td>\n",
              "      <td>-0.081060</td>\n",
              "      <td>-0.081005</td>\n",
              "      <td>-0.081179</td>\n",
              "      <td>-0.081741</td>\n",
              "      <td>-0.081626</td>\n",
              "      <td>-0.082370</td>\n",
              "      <td>-0.082848</td>\n",
              "      <td>-0.082453</td>\n",
              "      <td>-0.080372</td>\n",
              "    </tr>\n",
              "    <tr>\n",
              "      <th>79604</th>\n",
              "      <td>2.587097</td>\n",
              "      <td>2.610680</td>\n",
              "      <td>2.595855</td>\n",
              "      <td>2.570517</td>\n",
              "      <td>2.637321</td>\n",
              "      <td>2.550266</td>\n",
              "      <td>2.622813</td>\n",
              "      <td>2.622291</td>\n",
              "      <td>2.737772</td>\n",
              "      <td>2.858009</td>\n",
              "      <td>...</td>\n",
              "      <td>5.406946</td>\n",
              "      <td>5.326953</td>\n",
              "      <td>5.426775</td>\n",
              "      <td>5.489880</td>\n",
              "      <td>5.566716</td>\n",
              "      <td>5.902303</td>\n",
              "      <td>6.025299</td>\n",
              "      <td>6.205007</td>\n",
              "      <td>6.309201</td>\n",
              "      <td>6.453145</td>\n",
              "    </tr>\n",
              "    <tr>\n",
              "      <th>79605</th>\n",
              "      <td>13.605390</td>\n",
              "      <td>13.614309</td>\n",
              "      <td>13.647827</td>\n",
              "      <td>13.765660</td>\n",
              "      <td>13.770968</td>\n",
              "      <td>13.753919</td>\n",
              "      <td>13.774183</td>\n",
              "      <td>13.880757</td>\n",
              "      <td>14.038732</td>\n",
              "      <td>13.956258</td>\n",
              "      <td>...</td>\n",
              "      <td>13.586989</td>\n",
              "      <td>13.770476</td>\n",
              "      <td>13.914881</td>\n",
              "      <td>14.057226</td>\n",
              "      <td>14.040276</td>\n",
              "      <td>13.971335</td>\n",
              "      <td>14.335739</td>\n",
              "      <td>14.756211</td>\n",
              "      <td>14.484531</td>\n",
              "      <td>14.537192</td>\n",
              "    </tr>\n",
              "  </tbody>\n",
              "</table>\n",
              "<p>79606 rows × 62 columns</p>\n",
              "</div>\n",
              "    <div class=\"colab-df-buttons\">\n",
              "\n",
              "  <div class=\"colab-df-container\">\n",
              "    <button class=\"colab-df-convert\" onclick=\"convertToInteractive('df-c9274e97-2c6c-4a79-9dd4-37c4c7034360')\"\n",
              "            title=\"Convert this dataframe to an interactive table.\"\n",
              "            style=\"display:none;\">\n",
              "\n",
              "  <svg xmlns=\"http://www.w3.org/2000/svg\" height=\"24px\" viewBox=\"0 -960 960 960\">\n",
              "    <path d=\"M120-120v-720h720v720H120Zm60-500h600v-160H180v160Zm220 220h160v-160H400v160Zm0 220h160v-160H400v160ZM180-400h160v-160H180v160Zm440 0h160v-160H620v160ZM180-180h160v-160H180v160Zm440 0h160v-160H620v160Z\"/>\n",
              "  </svg>\n",
              "    </button>\n",
              "\n",
              "  <style>\n",
              "    .colab-df-container {\n",
              "      display:flex;\n",
              "      gap: 12px;\n",
              "    }\n",
              "\n",
              "    .colab-df-convert {\n",
              "      background-color: #E8F0FE;\n",
              "      border: none;\n",
              "      border-radius: 50%;\n",
              "      cursor: pointer;\n",
              "      display: none;\n",
              "      fill: #1967D2;\n",
              "      height: 32px;\n",
              "      padding: 0 0 0 0;\n",
              "      width: 32px;\n",
              "    }\n",
              "\n",
              "    .colab-df-convert:hover {\n",
              "      background-color: #E2EBFA;\n",
              "      box-shadow: 0px 1px 2px rgba(60, 64, 67, 0.3), 0px 1px 3px 1px rgba(60, 64, 67, 0.15);\n",
              "      fill: #174EA6;\n",
              "    }\n",
              "\n",
              "    .colab-df-buttons div {\n",
              "      margin-bottom: 4px;\n",
              "    }\n",
              "\n",
              "    [theme=dark] .colab-df-convert {\n",
              "      background-color: #3B4455;\n",
              "      fill: #D2E3FC;\n",
              "    }\n",
              "\n",
              "    [theme=dark] .colab-df-convert:hover {\n",
              "      background-color: #434B5C;\n",
              "      box-shadow: 0px 1px 3px 1px rgba(0, 0, 0, 0.15);\n",
              "      filter: drop-shadow(0px 1px 2px rgba(0, 0, 0, 0.3));\n",
              "      fill: #FFFFFF;\n",
              "    }\n",
              "  </style>\n",
              "\n",
              "    <script>\n",
              "      const buttonEl =\n",
              "        document.querySelector('#df-c9274e97-2c6c-4a79-9dd4-37c4c7034360 button.colab-df-convert');\n",
              "      buttonEl.style.display =\n",
              "        google.colab.kernel.accessAllowed ? 'block' : 'none';\n",
              "\n",
              "      async function convertToInteractive(key) {\n",
              "        const element = document.querySelector('#df-c9274e97-2c6c-4a79-9dd4-37c4c7034360');\n",
              "        const dataTable =\n",
              "          await google.colab.kernel.invokeFunction('convertToInteractive',\n",
              "                                                    [key], {});\n",
              "        if (!dataTable) return;\n",
              "\n",
              "        const docLinkHtml = 'Like what you see? Visit the ' +\n",
              "          '<a target=\"_blank\" href=https://colab.research.google.com/notebooks/data_table.ipynb>data table notebook</a>'\n",
              "          + ' to learn more about interactive tables.';\n",
              "        element.innerHTML = '';\n",
              "        dataTable['output_type'] = 'display_data';\n",
              "        await google.colab.output.renderOutput(dataTable, element);\n",
              "        const docLink = document.createElement('div');\n",
              "        docLink.innerHTML = docLinkHtml;\n",
              "        element.appendChild(docLink);\n",
              "      }\n",
              "    </script>\n",
              "  </div>\n",
              "\n",
              "\n",
              "<div id=\"df-58e1ee4f-793b-4825-a41a-a3f55db5552a\">\n",
              "  <button class=\"colab-df-quickchart\" onclick=\"quickchart('df-58e1ee4f-793b-4825-a41a-a3f55db5552a')\"\n",
              "            title=\"Suggest charts\"\n",
              "            style=\"display:none;\">\n",
              "\n",
              "<svg xmlns=\"http://www.w3.org/2000/svg\" height=\"24px\"viewBox=\"0 0 24 24\"\n",
              "     width=\"24px\">\n",
              "    <g>\n",
              "        <path d=\"M19 3H5c-1.1 0-2 .9-2 2v14c0 1.1.9 2 2 2h14c1.1 0 2-.9 2-2V5c0-1.1-.9-2-2-2zM9 17H7v-7h2v7zm4 0h-2V7h2v10zm4 0h-2v-4h2v4z\"/>\n",
              "    </g>\n",
              "</svg>\n",
              "  </button>\n",
              "\n",
              "<style>\n",
              "  .colab-df-quickchart {\n",
              "      --bg-color: #E8F0FE;\n",
              "      --fill-color: #1967D2;\n",
              "      --hover-bg-color: #E2EBFA;\n",
              "      --hover-fill-color: #174EA6;\n",
              "      --disabled-fill-color: #AAA;\n",
              "      --disabled-bg-color: #DDD;\n",
              "  }\n",
              "\n",
              "  [theme=dark] .colab-df-quickchart {\n",
              "      --bg-color: #3B4455;\n",
              "      --fill-color: #D2E3FC;\n",
              "      --hover-bg-color: #434B5C;\n",
              "      --hover-fill-color: #FFFFFF;\n",
              "      --disabled-bg-color: #3B4455;\n",
              "      --disabled-fill-color: #666;\n",
              "  }\n",
              "\n",
              "  .colab-df-quickchart {\n",
              "    background-color: var(--bg-color);\n",
              "    border: none;\n",
              "    border-radius: 50%;\n",
              "    cursor: pointer;\n",
              "    display: none;\n",
              "    fill: var(--fill-color);\n",
              "    height: 32px;\n",
              "    padding: 0;\n",
              "    width: 32px;\n",
              "  }\n",
              "\n",
              "  .colab-df-quickchart:hover {\n",
              "    background-color: var(--hover-bg-color);\n",
              "    box-shadow: 0 1px 2px rgba(60, 64, 67, 0.3), 0 1px 3px 1px rgba(60, 64, 67, 0.15);\n",
              "    fill: var(--button-hover-fill-color);\n",
              "  }\n",
              "\n",
              "  .colab-df-quickchart-complete:disabled,\n",
              "  .colab-df-quickchart-complete:disabled:hover {\n",
              "    background-color: var(--disabled-bg-color);\n",
              "    fill: var(--disabled-fill-color);\n",
              "    box-shadow: none;\n",
              "  }\n",
              "\n",
              "  .colab-df-spinner {\n",
              "    border: 2px solid var(--fill-color);\n",
              "    border-color: transparent;\n",
              "    border-bottom-color: var(--fill-color);\n",
              "    animation:\n",
              "      spin 1s steps(1) infinite;\n",
              "  }\n",
              "\n",
              "  @keyframes spin {\n",
              "    0% {\n",
              "      border-color: transparent;\n",
              "      border-bottom-color: var(--fill-color);\n",
              "      border-left-color: var(--fill-color);\n",
              "    }\n",
              "    20% {\n",
              "      border-color: transparent;\n",
              "      border-left-color: var(--fill-color);\n",
              "      border-top-color: var(--fill-color);\n",
              "    }\n",
              "    30% {\n",
              "      border-color: transparent;\n",
              "      border-left-color: var(--fill-color);\n",
              "      border-top-color: var(--fill-color);\n",
              "      border-right-color: var(--fill-color);\n",
              "    }\n",
              "    40% {\n",
              "      border-color: transparent;\n",
              "      border-right-color: var(--fill-color);\n",
              "      border-top-color: var(--fill-color);\n",
              "    }\n",
              "    60% {\n",
              "      border-color: transparent;\n",
              "      border-right-color: var(--fill-color);\n",
              "    }\n",
              "    80% {\n",
              "      border-color: transparent;\n",
              "      border-right-color: var(--fill-color);\n",
              "      border-bottom-color: var(--fill-color);\n",
              "    }\n",
              "    90% {\n",
              "      border-color: transparent;\n",
              "      border-bottom-color: var(--fill-color);\n",
              "    }\n",
              "  }\n",
              "</style>\n",
              "\n",
              "  <script>\n",
              "    async function quickchart(key) {\n",
              "      const quickchartButtonEl =\n",
              "        document.querySelector('#' + key + ' button');\n",
              "      quickchartButtonEl.disabled = true;  // To prevent multiple clicks.\n",
              "      quickchartButtonEl.classList.add('colab-df-spinner');\n",
              "      try {\n",
              "        const charts = await google.colab.kernel.invokeFunction(\n",
              "            'suggestCharts', [key], {});\n",
              "      } catch (error) {\n",
              "        console.error('Error during call to suggestCharts:', error);\n",
              "      }\n",
              "      quickchartButtonEl.classList.remove('colab-df-spinner');\n",
              "      quickchartButtonEl.classList.add('colab-df-quickchart-complete');\n",
              "    }\n",
              "    (() => {\n",
              "      let quickchartButtonEl =\n",
              "        document.querySelector('#df-58e1ee4f-793b-4825-a41a-a3f55db5552a button');\n",
              "      quickchartButtonEl.style.display =\n",
              "        google.colab.kernel.accessAllowed ? 'block' : 'none';\n",
              "    })();\n",
              "  </script>\n",
              "</div>\n",
              "\n",
              "    </div>\n",
              "  </div>\n"
            ],
            "application/vnd.google.colaboratory.intrinsic+json": {
              "type": "dataframe"
            }
          },
          "metadata": {},
          "execution_count": 49
        }
      ]
    },
    {
      "cell_type": "code",
      "source": [
        "pca.fit(numerical_data_preprocessed)"
      ],
      "metadata": {
        "colab": {
          "base_uri": "https://localhost:8080/",
          "height": 75
        },
        "id": "QvDxxNqR0aB9",
        "outputId": "88a4be90-f372-4e5d-ec2b-0998db480f79"
      },
      "execution_count": 50,
      "outputs": [
        {
          "output_type": "execute_result",
          "data": {
            "text/plain": [
              "PCA(n_components=2)"
            ],
            "text/html": [
              "<style>#sk-container-id-11 {color: black;background-color: white;}#sk-container-id-11 pre{padding: 0;}#sk-container-id-11 div.sk-toggleable {background-color: white;}#sk-container-id-11 label.sk-toggleable__label {cursor: pointer;display: block;width: 100%;margin-bottom: 0;padding: 0.3em;box-sizing: border-box;text-align: center;}#sk-container-id-11 label.sk-toggleable__label-arrow:before {content: \"▸\";float: left;margin-right: 0.25em;color: #696969;}#sk-container-id-11 label.sk-toggleable__label-arrow:hover:before {color: black;}#sk-container-id-11 div.sk-estimator:hover label.sk-toggleable__label-arrow:before {color: black;}#sk-container-id-11 div.sk-toggleable__content {max-height: 0;max-width: 0;overflow: hidden;text-align: left;background-color: #f0f8ff;}#sk-container-id-11 div.sk-toggleable__content pre {margin: 0.2em;color: black;border-radius: 0.25em;background-color: #f0f8ff;}#sk-container-id-11 input.sk-toggleable__control:checked~div.sk-toggleable__content {max-height: 200px;max-width: 100%;overflow: auto;}#sk-container-id-11 input.sk-toggleable__control:checked~label.sk-toggleable__label-arrow:before {content: \"▾\";}#sk-container-id-11 div.sk-estimator input.sk-toggleable__control:checked~label.sk-toggleable__label {background-color: #d4ebff;}#sk-container-id-11 div.sk-label input.sk-toggleable__control:checked~label.sk-toggleable__label {background-color: #d4ebff;}#sk-container-id-11 input.sk-hidden--visually {border: 0;clip: rect(1px 1px 1px 1px);clip: rect(1px, 1px, 1px, 1px);height: 1px;margin: -1px;overflow: hidden;padding: 0;position: absolute;width: 1px;}#sk-container-id-11 div.sk-estimator {font-family: monospace;background-color: #f0f8ff;border: 1px dotted black;border-radius: 0.25em;box-sizing: border-box;margin-bottom: 0.5em;}#sk-container-id-11 div.sk-estimator:hover {background-color: #d4ebff;}#sk-container-id-11 div.sk-parallel-item::after {content: \"\";width: 100%;border-bottom: 1px solid gray;flex-grow: 1;}#sk-container-id-11 div.sk-label:hover label.sk-toggleable__label {background-color: #d4ebff;}#sk-container-id-11 div.sk-serial::before {content: \"\";position: absolute;border-left: 1px solid gray;box-sizing: border-box;top: 0;bottom: 0;left: 50%;z-index: 0;}#sk-container-id-11 div.sk-serial {display: flex;flex-direction: column;align-items: center;background-color: white;padding-right: 0.2em;padding-left: 0.2em;position: relative;}#sk-container-id-11 div.sk-item {position: relative;z-index: 1;}#sk-container-id-11 div.sk-parallel {display: flex;align-items: stretch;justify-content: center;background-color: white;position: relative;}#sk-container-id-11 div.sk-item::before, #sk-container-id-11 div.sk-parallel-item::before {content: \"\";position: absolute;border-left: 1px solid gray;box-sizing: border-box;top: 0;bottom: 0;left: 50%;z-index: -1;}#sk-container-id-11 div.sk-parallel-item {display: flex;flex-direction: column;z-index: 1;position: relative;background-color: white;}#sk-container-id-11 div.sk-parallel-item:first-child::after {align-self: flex-end;width: 50%;}#sk-container-id-11 div.sk-parallel-item:last-child::after {align-self: flex-start;width: 50%;}#sk-container-id-11 div.sk-parallel-item:only-child::after {width: 0;}#sk-container-id-11 div.sk-dashed-wrapped {border: 1px dashed gray;margin: 0 0.4em 0.5em 0.4em;box-sizing: border-box;padding-bottom: 0.4em;background-color: white;}#sk-container-id-11 div.sk-label label {font-family: monospace;font-weight: bold;display: inline-block;line-height: 1.2em;}#sk-container-id-11 div.sk-label-container {text-align: center;}#sk-container-id-11 div.sk-container {/* jupyter's `normalize.less` sets `[hidden] { display: none; }` but bootstrap.min.css set `[hidden] { display: none !important; }` so we also need the `!important` here to be able to override the default hidden behavior on the sphinx rendered scikit-learn.org. See: https://github.com/scikit-learn/scikit-learn/issues/21755 */display: inline-block !important;position: relative;}#sk-container-id-11 div.sk-text-repr-fallback {display: none;}</style><div id=\"sk-container-id-11\" class=\"sk-top-container\"><div class=\"sk-text-repr-fallback\"><pre>PCA(n_components=2)</pre><b>In a Jupyter environment, please rerun this cell to show the HTML representation or trust the notebook. <br />On GitHub, the HTML representation is unable to render, please try loading this page with nbviewer.org.</b></div><div class=\"sk-container\" hidden><div class=\"sk-item\"><div class=\"sk-estimator sk-toggleable\"><input class=\"sk-toggleable__control sk-hidden--visually\" id=\"sk-estimator-id-11\" type=\"checkbox\" checked><label for=\"sk-estimator-id-11\" class=\"sk-toggleable__label sk-toggleable__label-arrow\">PCA</label><div class=\"sk-toggleable__content\"><pre>PCA(n_components=2)</pre></div></div></div></div></div>"
            ]
          },
          "metadata": {},
          "execution_count": 50
        }
      ]
    },
    {
      "cell_type": "code",
      "source": [
        "print(pca.explained_variance_ratio_)"
      ],
      "metadata": {
        "colab": {
          "base_uri": "https://localhost:8080/"
        },
        "id": "nrBx25O50eHU",
        "outputId": "2b700522-d385-4da7-a07b-2e9fda774a22"
      },
      "execution_count": 51,
      "outputs": [
        {
          "output_type": "stream",
          "name": "stdout",
          "text": [
            "[0.95426829 0.04004836]\n"
          ]
        }
      ]
    },
    {
      "cell_type": "code",
      "source": [
        "print(pca.singular_values_)"
      ],
      "metadata": {
        "colab": {
          "base_uri": "https://localhost:8080/"
        },
        "id": "ChIzYigu0fwE",
        "outputId": "b947a1b2-e9a9-4d93-f61b-4cd2e1213736"
      },
      "execution_count": 52,
      "outputs": [
        {
          "output_type": "stream",
          "name": "stdout",
          "text": [
            "[2170.2211555   444.59146636]\n"
          ]
        }
      ]
    },
    {
      "cell_type": "markdown",
      "source": [
        "##Visualice los Datos"
      ],
      "metadata": {
        "id": "VRJmgMX0wkbQ"
      }
    },
    {
      "cell_type": "code",
      "source": [
        "numerical_data_preprocessed"
      ],
      "metadata": {
        "colab": {
          "base_uri": "https://localhost:8080/"
        },
        "id": "HuhaKYsaxMz2",
        "outputId": "e142fe93-874a-4e64-8bf2-a177a26bf76e"
      },
      "execution_count": 41,
      "outputs": [
        {
          "output_type": "execute_result",
          "data": {
            "text/plain": [
              "array([[-0.08170223, -0.0820734 , -0.08231475, ..., -0.08556038,\n",
              "        -0.08518179, -0.08311888],\n",
              "       [-0.08175299, -0.08216526, -0.08240818, ..., -0.08556502,\n",
              "        -0.08517949, -0.08311888],\n",
              "       [-0.08154958, -0.08174008, -0.08169966, ..., -0.08539431,\n",
              "        -0.08501052, -0.08311888],\n",
              "       ...,\n",
              "       [-0.07804807, -0.0784724 , -0.07880722, ..., -0.08284801,\n",
              "        -0.08245277, -0.08037187],\n",
              "       [ 2.58709661,  2.61067962,  2.59585468, ...,  6.20500712,\n",
              "         6.30920094,  6.4531452 ],\n",
              "       [13.60539009, 13.61430869, 13.64782722, ..., 14.7562109 ,\n",
              "        14.4845313 , 14.53719215]])"
            ]
          },
          "metadata": {},
          "execution_count": 41
        }
      ]
    },
    {
      "cell_type": "code",
      "source": [
        "categories = enc.categories_\n",
        "\n",
        "category_counts = [len(category) for category in categories]\n",
        "\n",
        "plt.bar(range(len(category_counts)), category_counts, tick_label=range(len(category_counts)))\n",
        "plt.xlabel('Índice de Variable Categórica')\n",
        "plt.ylabel('Número de Categorías')\n",
        "plt.title('Distribución de Categorías después de One-Hot Encoding')\n",
        "plt.show()"
      ],
      "metadata": {
        "colab": {
          "base_uri": "https://localhost:8080/",
          "height": 474
        },
        "id": "zC8955s5wtIW",
        "outputId": "24ae4250-b95c-43cd-d640-cd6df370b2a3"
      },
      "execution_count": 44,
      "outputs": [
        {
          "output_type": "display_data",
          "data": {
            "text/plain": [
              "<Figure size 640x480 with 1 Axes>"
            ],
            "image/png": "[encoded data removed]"
          },
          "metadata": {}
        }
      ]
    },
    {
      "cell_type": "code",
      "source": [
        "mean_values = scaler.mean_\n",
        "\n",
        "# Crear un gráfico de barras\n",
        "plt.bar(range(len(mean_values)), mean_values, color='blue')\n",
        "\n",
        "# Etiquetas y título\n",
        "plt.xlabel('Índice')\n",
        "plt.ylabel('Valor')\n",
        "plt.title('Gráfico de barras de scaler.mean_')\n",
        "\n",
        "# Mostrar el gráfico\n",
        "plt.show()"
      ],
      "metadata": {
        "colab": {
          "base_uri": "https://localhost:8080/",
          "height": 472
        },
        "id": "i8pyxOh_zjqN",
        "outputId": "cda428b0-5224-438c-9d13-4b232b24572d"
      },
      "execution_count": 46,
      "outputs": [
        {
          "output_type": "display_data",
          "data": {
            "text/plain": [
              "<Figure size 640x480 with 1 Axes>"
            ],
            "image/png": "[encoded data removed]"
          },
          "metadata": {}
        }
      ]
    },
    {
      "cell_type": "code",
      "source": [
        "X_pca = pca.fit_transform(numerical_data_preprocessed)\n",
        "\n",
        "# Graficar las proyecciones en el espacio de las dos primeras componentes principales\n",
        "plt.scatter(X_pca[:, 0], X_pca[:, 1])\n",
        "plt.xlabel('Primera Componente Principal')\n",
        "plt.ylabel('Segunda Componente Principal')\n",
        "plt.title('Visualización de datos utilizando PCA')\n",
        "plt.show()"
      ],
      "metadata": {
        "colab": {
          "base_uri": "https://localhost:8080/",
          "height": 472
        },
        "id": "C_7Kd-PhzwT8",
        "outputId": "27618812-6a6b-4ee5-af1e-0752c3d49b31"
      },
      "execution_count": 60,
      "outputs": [
        {
          "output_type": "display_data",
          "data": {
            "text/plain": [
              "<Figure size 640x480 with 1 Axes>"
            ],
            "image/png": "[encoded data removed]"
          },
          "metadata": {}
        }
      ]
    }
  ]
}